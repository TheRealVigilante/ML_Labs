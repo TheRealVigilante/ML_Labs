{
 "cells": [
  {
   "cell_type": "markdown",
   "id": "7ceca7f5",
   "metadata": {
    "id": "7ceca7f5"
   },
   "source": [
    "# Unsupervised Learning\n",
    "\n"
   ]
  },
  {
   "cell_type": "markdown",
   "id": "7c613d6b",
   "metadata": {
    "id": "7c613d6b"
   },
   "source": [
    "In this lab we demonstrate PCA and clustering on several datasets.\n",
    "As in other labs, we import some of our libraries at this top\n",
    "level. This makes the code more readable, as scanning the first few\n",
    "lines of the notebook tell us what libraries are used in this\n",
    "notebook."
   ]
  },
  {
   "cell_type": "code",
   "source": "!pip install ISLP",
   "metadata": {
    "colab": {
     "base_uri": "https://localhost:8080/"
    },
    "id": "qOAe0GqAlj1j",
    "outputId": "4deb1400-17bd-45bc-ebb8-7f02c81fd29b",
    "ExecuteTime": {
     "end_time": "2024-12-04T10:08:37.416424Z",
     "start_time": "2024-12-04T10:08:07.744568Z"
    }
   },
   "id": "qOAe0GqAlj1j",
   "outputs": [
    {
     "name": "stdout",
     "output_type": "stream",
     "text": [
      "Collecting ISLP\n",
      "  Using cached ISLP-0.4.0-py3-none-any.whl.metadata (7.0 kB)\n",
      "Requirement already satisfied: numpy>=1.7.1 in c:\\users\\4311779\\appdata\\local\\anaconda3\\lib\\site-packages (from ISLP) (1.26.4)\n",
      "Requirement already satisfied: scipy>=0.9 in c:\\users\\4311779\\appdata\\local\\anaconda3\\lib\\site-packages (from ISLP) (1.13.1)\n",
      "Requirement already satisfied: pandas>=0.20 in c:\\users\\4311779\\appdata\\local\\anaconda3\\lib\\site-packages (from ISLP) (2.2.2)\n",
      "Requirement already satisfied: lxml in c:\\users\\4311779\\appdata\\local\\anaconda3\\lib\\site-packages (from ISLP) (5.2.1)\n",
      "Requirement already satisfied: scikit-learn>=1.2 in c:\\users\\4311779\\appdata\\local\\anaconda3\\lib\\site-packages (from ISLP) (1.4.2)\n",
      "Requirement already satisfied: joblib in c:\\users\\4311779\\appdata\\local\\anaconda3\\lib\\site-packages (from ISLP) (1.4.2)\n",
      "Requirement already satisfied: statsmodels>=0.13 in c:\\users\\4311779\\appdata\\local\\anaconda3\\lib\\site-packages (from ISLP) (0.14.2)\n",
      "Collecting lifelines (from ISLP)\n",
      "  Using cached lifelines-0.30.0-py3-none-any.whl.metadata (3.2 kB)\n",
      "Collecting pygam (from ISLP)\n",
      "  Using cached pygam-0.9.1-py3-none-any.whl.metadata (7.1 kB)\n",
      "Collecting torch (from ISLP)\n",
      "  Using cached torch-2.5.1-cp312-cp312-win_amd64.whl.metadata (28 kB)\n",
      "Collecting pytorch-lightning (from ISLP)\n",
      "  Using cached pytorch_lightning-2.4.0-py3-none-any.whl.metadata (21 kB)\n",
      "Collecting torchmetrics (from ISLP)\n",
      "  Using cached torchmetrics-1.6.0-py3-none-any.whl.metadata (20 kB)\n",
      "Requirement already satisfied: python-dateutil>=2.8.2 in c:\\users\\4311779\\appdata\\local\\anaconda3\\lib\\site-packages (from pandas>=0.20->ISLP) (2.9.0.post0)\n",
      "Requirement already satisfied: pytz>=2020.1 in c:\\users\\4311779\\appdata\\local\\anaconda3\\lib\\site-packages (from pandas>=0.20->ISLP) (2024.1)\n",
      "Requirement already satisfied: tzdata>=2022.7 in c:\\users\\4311779\\appdata\\local\\anaconda3\\lib\\site-packages (from pandas>=0.20->ISLP) (2023.3)\n",
      "Requirement already satisfied: threadpoolctl>=2.0.0 in c:\\users\\4311779\\appdata\\local\\anaconda3\\lib\\site-packages (from scikit-learn>=1.2->ISLP) (2.2.0)\n",
      "Requirement already satisfied: patsy>=0.5.6 in c:\\users\\4311779\\appdata\\local\\anaconda3\\lib\\site-packages (from statsmodels>=0.13->ISLP) (0.5.6)\n",
      "Requirement already satisfied: packaging>=21.3 in c:\\users\\4311779\\appdata\\local\\anaconda3\\lib\\site-packages (from statsmodels>=0.13->ISLP) (23.2)\n",
      "Requirement already satisfied: matplotlib>=3.0 in c:\\users\\4311779\\appdata\\local\\anaconda3\\lib\\site-packages (from lifelines->ISLP) (3.8.4)\n",
      "Collecting autograd>=1.5 (from lifelines->ISLP)\n",
      "  Using cached autograd-1.7.0-py3-none-any.whl.metadata (7.5 kB)\n",
      "Collecting autograd-gamma>=0.3 (from lifelines->ISLP)\n",
      "  Using cached autograd-gamma-0.5.0.tar.gz (4.0 kB)\n",
      "  Preparing metadata (setup.py): started\n",
      "  Preparing metadata (setup.py): finished with status 'done'\n",
      "Collecting formulaic>=0.2.2 (from lifelines->ISLP)\n",
      "  Using cached formulaic-1.0.2-py3-none-any.whl.metadata (6.8 kB)\n",
      "Collecting progressbar2<5.0.0,>=4.2.0 (from pygam->ISLP)\n",
      "  Using cached progressbar2-4.5.0-py3-none-any.whl.metadata (16 kB)\n",
      "Collecting scipy>=0.9 (from ISLP)\n",
      "  Using cached scipy-1.11.4-cp312-cp312-win_amd64.whl.metadata (60 kB)\n",
      "Requirement already satisfied: tqdm>=4.57.0 in c:\\users\\4311779\\appdata\\local\\anaconda3\\lib\\site-packages (from pytorch-lightning->ISLP) (4.66.4)\n",
      "Requirement already satisfied: PyYAML>=5.4 in c:\\users\\4311779\\appdata\\local\\anaconda3\\lib\\site-packages (from pytorch-lightning->ISLP) (6.0.1)\n",
      "Requirement already satisfied: fsspec>=2022.5.0 in c:\\users\\4311779\\appdata\\local\\anaconda3\\lib\\site-packages (from fsspec[http]>=2022.5.0->pytorch-lightning->ISLP) (2024.3.1)\n",
      "Requirement already satisfied: typing-extensions>=4.4.0 in c:\\users\\4311779\\appdata\\local\\anaconda3\\lib\\site-packages (from pytorch-lightning->ISLP) (4.11.0)\n",
      "Collecting lightning-utilities>=0.10.0 (from pytorch-lightning->ISLP)\n",
      "  Using cached lightning_utilities-0.11.9-py3-none-any.whl.metadata (5.2 kB)\n",
      "Requirement already satisfied: filelock in c:\\users\\4311779\\appdata\\local\\anaconda3\\lib\\site-packages (from torch->ISLP) (3.13.1)\n",
      "Requirement already satisfied: networkx in c:\\users\\4311779\\appdata\\local\\anaconda3\\lib\\site-packages (from torch->ISLP) (3.2.1)\n",
      "Requirement already satisfied: jinja2 in c:\\users\\4311779\\appdata\\local\\anaconda3\\lib\\site-packages (from torch->ISLP) (3.1.4)\n",
      "Requirement already satisfied: setuptools in c:\\users\\4311779\\appdata\\local\\anaconda3\\lib\\site-packages (from torch->ISLP) (69.5.1)\n",
      "Collecting sympy==1.13.1 (from torch->ISLP)\n",
      "  Using cached sympy-1.13.1-py3-none-any.whl.metadata (12 kB)\n",
      "Requirement already satisfied: mpmath<1.4,>=1.1.0 in c:\\users\\4311779\\appdata\\local\\anaconda3\\lib\\site-packages (from sympy==1.13.1->torch->ISLP) (1.3.0)\n",
      "Collecting interface-meta>=1.2.0 (from formulaic>=0.2.2->lifelines->ISLP)\n",
      "  Using cached interface_meta-1.3.0-py3-none-any.whl.metadata (6.7 kB)\n",
      "Requirement already satisfied: wrapt>=1.0 in c:\\users\\4311779\\appdata\\local\\anaconda3\\lib\\site-packages (from formulaic>=0.2.2->lifelines->ISLP) (1.14.1)\n",
      "Requirement already satisfied: aiohttp!=4.0.0a0,!=4.0.0a1 in c:\\users\\4311779\\appdata\\local\\anaconda3\\lib\\site-packages (from fsspec[http]>=2022.5.0->pytorch-lightning->ISLP) (3.9.5)\n",
      "Requirement already satisfied: contourpy>=1.0.1 in c:\\users\\4311779\\appdata\\local\\anaconda3\\lib\\site-packages (from matplotlib>=3.0->lifelines->ISLP) (1.2.0)\n",
      "Requirement already satisfied: cycler>=0.10 in c:\\users\\4311779\\appdata\\local\\anaconda3\\lib\\site-packages (from matplotlib>=3.0->lifelines->ISLP) (0.11.0)\n",
      "Requirement already satisfied: fonttools>=4.22.0 in c:\\users\\4311779\\appdata\\local\\anaconda3\\lib\\site-packages (from matplotlib>=3.0->lifelines->ISLP) (4.51.0)\n",
      "Requirement already satisfied: kiwisolver>=1.3.1 in c:\\users\\4311779\\appdata\\local\\anaconda3\\lib\\site-packages (from matplotlib>=3.0->lifelines->ISLP) (1.4.4)\n",
      "Requirement already satisfied: pillow>=8 in c:\\users\\4311779\\appdata\\local\\anaconda3\\lib\\site-packages (from matplotlib>=3.0->lifelines->ISLP) (10.3.0)\n",
      "Requirement already satisfied: pyparsing>=2.3.1 in c:\\users\\4311779\\appdata\\local\\anaconda3\\lib\\site-packages (from matplotlib>=3.0->lifelines->ISLP) (3.0.9)\n",
      "Requirement already satisfied: six in c:\\users\\4311779\\appdata\\local\\anaconda3\\lib\\site-packages (from patsy>=0.5.6->statsmodels>=0.13->ISLP) (1.16.0)\n",
      "Collecting python-utils>=3.8.1 (from progressbar2<5.0.0,>=4.2.0->pygam->ISLP)\n",
      "  Using cached python_utils-3.9.1-py2.py3-none-any.whl.metadata (9.8 kB)\n",
      "Requirement already satisfied: colorama in c:\\users\\4311779\\appdata\\local\\anaconda3\\lib\\site-packages (from tqdm>=4.57.0->pytorch-lightning->ISLP) (0.4.6)\n",
      "Requirement already satisfied: MarkupSafe>=2.0 in c:\\users\\4311779\\appdata\\local\\anaconda3\\lib\\site-packages (from jinja2->torch->ISLP) (2.1.3)\n",
      "Requirement already satisfied: aiosignal>=1.1.2 in c:\\users\\4311779\\appdata\\local\\anaconda3\\lib\\site-packages (from aiohttp!=4.0.0a0,!=4.0.0a1->fsspec[http]>=2022.5.0->pytorch-lightning->ISLP) (1.2.0)\n",
      "Requirement already satisfied: attrs>=17.3.0 in c:\\users\\4311779\\appdata\\local\\anaconda3\\lib\\site-packages (from aiohttp!=4.0.0a0,!=4.0.0a1->fsspec[http]>=2022.5.0->pytorch-lightning->ISLP) (23.1.0)\n",
      "Requirement already satisfied: frozenlist>=1.1.1 in c:\\users\\4311779\\appdata\\local\\anaconda3\\lib\\site-packages (from aiohttp!=4.0.0a0,!=4.0.0a1->fsspec[http]>=2022.5.0->pytorch-lightning->ISLP) (1.4.0)\n",
      "Requirement already satisfied: multidict<7.0,>=4.5 in c:\\users\\4311779\\appdata\\local\\anaconda3\\lib\\site-packages (from aiohttp!=4.0.0a0,!=4.0.0a1->fsspec[http]>=2022.5.0->pytorch-lightning->ISLP) (6.0.4)\n",
      "Requirement already satisfied: yarl<2.0,>=1.0 in c:\\users\\4311779\\appdata\\local\\anaconda3\\lib\\site-packages (from aiohttp!=4.0.0a0,!=4.0.0a1->fsspec[http]>=2022.5.0->pytorch-lightning->ISLP) (1.9.3)\n",
      "Requirement already satisfied: idna>=2.0 in c:\\users\\4311779\\appdata\\local\\anaconda3\\lib\\site-packages (from yarl<2.0,>=1.0->aiohttp!=4.0.0a0,!=4.0.0a1->fsspec[http]>=2022.5.0->pytorch-lightning->ISLP) (3.7)\n",
      "Using cached ISLP-0.4.0-py3-none-any.whl (3.6 MB)\n",
      "Using cached lifelines-0.30.0-py3-none-any.whl (349 kB)\n",
      "Using cached pygam-0.9.1-py3-none-any.whl (522 kB)\n",
      "Downloading scipy-1.11.4-cp312-cp312-win_amd64.whl (43.7 MB)\n",
      "   ---------------------------------------- 0.0/43.7 MB ? eta -:--:--\n",
      "   ---------------------------------------- 0.0/43.7 MB 640.0 kB/s eta 0:01:09\n",
      "   ---------------------------------------- 0.1/43.7 MB 525.1 kB/s eta 0:01:24\n",
      "   ---------------------------------------- 0.1/43.7 MB 737.3 kB/s eta 0:01:00\n",
      "   ---------------------------------------- 0.2/43.7 MB 1.2 MB/s eta 0:00:37\n",
      "   ---------------------------------------- 0.4/43.7 MB 1.6 MB/s eta 0:00:28\n",
      "    --------------------------------------- 0.6/43.7 MB 2.2 MB/s eta 0:00:21\n",
      "    --------------------------------------- 0.8/43.7 MB 2.6 MB/s eta 0:00:17\n",
      "    --------------------------------------- 1.0/43.7 MB 2.8 MB/s eta 0:00:16\n",
      "   - -------------------------------------- 1.3/43.7 MB 3.2 MB/s eta 0:00:14\n",
      "   - -------------------------------------- 1.6/43.7 MB 3.4 MB/s eta 0:00:13\n",
      "   - -------------------------------------- 1.8/43.7 MB 3.6 MB/s eta 0:00:12\n",
      "   - -------------------------------------- 2.1/43.7 MB 3.7 MB/s eta 0:00:12\n",
      "   -- ------------------------------------- 2.3/43.7 MB 3.9 MB/s eta 0:00:11\n",
      "   -- ------------------------------------- 2.6/43.7 MB 4.0 MB/s eta 0:00:11\n",
      "   -- ------------------------------------- 2.8/43.7 MB 4.1 MB/s eta 0:00:10\n",
      "   -- ------------------------------------- 3.1/43.7 MB 4.2 MB/s eta 0:00:10\n",
      "   --- ------------------------------------ 3.4/43.7 MB 4.3 MB/s eta 0:00:10\n",
      "   --- ------------------------------------ 3.7/43.7 MB 4.4 MB/s eta 0:00:10\n",
      "   --- ------------------------------------ 3.9/43.7 MB 4.5 MB/s eta 0:00:09\n",
      "   --- ------------------------------------ 4.2/43.7 MB 4.6 MB/s eta 0:00:09\n",
      "   ---- ----------------------------------- 4.5/43.7 MB 4.7 MB/s eta 0:00:09\n",
      "   ---- ----------------------------------- 4.8/43.7 MB 4.7 MB/s eta 0:00:09\n",
      "   ---- ----------------------------------- 5.1/43.7 MB 4.7 MB/s eta 0:00:09\n",
      "   ---- ----------------------------------- 5.4/43.7 MB 4.8 MB/s eta 0:00:08\n",
      "   ----- ---------------------------------- 5.7/43.7 MB 4.9 MB/s eta 0:00:08\n",
      "   ----- ---------------------------------- 5.9/43.7 MB 4.9 MB/s eta 0:00:08\n",
      "   ----- ---------------------------------- 5.9/43.7 MB 4.9 MB/s eta 0:00:08\n",
      "   ----- ---------------------------------- 6.5/43.7 MB 5.0 MB/s eta 0:00:08\n",
      "   ------ --------------------------------- 6.7/43.7 MB 5.0 MB/s eta 0:00:08\n",
      "   ------ --------------------------------- 6.9/43.7 MB 4.9 MB/s eta 0:00:08\n",
      "   ------ --------------------------------- 7.1/43.7 MB 4.9 MB/s eta 0:00:08\n",
      "   ------ --------------------------------- 7.3/43.7 MB 4.9 MB/s eta 0:00:08\n",
      "   ------ --------------------------------- 7.5/43.7 MB 4.9 MB/s eta 0:00:08\n",
      "   ------ --------------------------------- 7.5/43.7 MB 4.9 MB/s eta 0:00:08\n",
      "   ------ --------------------------------- 7.6/43.7 MB 4.7 MB/s eta 0:00:08\n",
      "   ------- -------------------------------- 8.0/43.7 MB 4.8 MB/s eta 0:00:08\n",
      "   ------- -------------------------------- 8.2/43.7 MB 4.7 MB/s eta 0:00:08\n",
      "   ------- -------------------------------- 8.3/43.7 MB 4.7 MB/s eta 0:00:08\n",
      "   ------- -------------------------------- 8.5/43.7 MB 4.7 MB/s eta 0:00:08\n",
      "   ------- -------------------------------- 8.6/43.7 MB 4.6 MB/s eta 0:00:08\n",
      "   -------- ------------------------------- 8.8/43.7 MB 4.6 MB/s eta 0:00:08\n",
      "   -------- ------------------------------- 8.9/43.7 MB 4.6 MB/s eta 0:00:08\n",
      "   -------- ------------------------------- 9.1/43.7 MB 4.5 MB/s eta 0:00:08\n",
      "   -------- ------------------------------- 9.3/43.7 MB 4.5 MB/s eta 0:00:08\n",
      "   -------- ------------------------------- 9.4/43.7 MB 4.5 MB/s eta 0:00:08\n",
      "   -------- ------------------------------- 9.6/43.7 MB 4.5 MB/s eta 0:00:08\n",
      "   -------- ------------------------------- 9.7/43.7 MB 4.4 MB/s eta 0:00:08\n",
      "   --------- ------------------------------ 9.9/43.7 MB 4.4 MB/s eta 0:00:08\n",
      "   --------- ------------------------------ 10.0/43.7 MB 4.4 MB/s eta 0:00:08\n",
      "   --------- ------------------------------ 10.2/43.7 MB 4.4 MB/s eta 0:00:08\n",
      "   --------- ------------------------------ 10.4/43.7 MB 4.6 MB/s eta 0:00:08\n",
      "   --------- ------------------------------ 10.5/43.7 MB 4.6 MB/s eta 0:00:08\n",
      "   --------- ------------------------------ 10.7/43.7 MB 4.6 MB/s eta 0:00:08\n",
      "   --------- ------------------------------ 10.9/43.7 MB 4.6 MB/s eta 0:00:08\n",
      "   ---------- ----------------------------- 11.0/43.7 MB 4.5 MB/s eta 0:00:08\n",
      "   ---------- ----------------------------- 11.2/43.7 MB 4.5 MB/s eta 0:00:08\n",
      "   ---------- ----------------------------- 11.4/43.7 MB 4.5 MB/s eta 0:00:08\n",
      "   ---------- ----------------------------- 11.5/43.7 MB 4.5 MB/s eta 0:00:08\n",
      "   ---------- ----------------------------- 11.7/43.7 MB 4.5 MB/s eta 0:00:08\n",
      "   ---------- ----------------------------- 11.9/43.7 MB 4.4 MB/s eta 0:00:08\n",
      "   ----------- ---------------------------- 12.0/43.7 MB 4.4 MB/s eta 0:00:08\n",
      "   ----------- ---------------------------- 12.2/43.7 MB 4.3 MB/s eta 0:00:08\n",
      "   ----------- ---------------------------- 12.4/43.7 MB 4.3 MB/s eta 0:00:08\n",
      "   ----------- ---------------------------- 12.6/43.7 MB 4.3 MB/s eta 0:00:08\n",
      "   ----------- ---------------------------- 12.7/43.7 MB 4.3 MB/s eta 0:00:08\n",
      "   ----------- ---------------------------- 12.9/43.7 MB 4.2 MB/s eta 0:00:08\n",
      "   ----------- ---------------------------- 13.1/43.7 MB 4.2 MB/s eta 0:00:08\n",
      "   ------------ --------------------------- 13.3/43.7 MB 4.2 MB/s eta 0:00:08\n",
      "   ------------ --------------------------- 13.4/43.7 MB 4.1 MB/s eta 0:00:08\n",
      "   ------------ --------------------------- 13.6/43.7 MB 4.1 MB/s eta 0:00:08\n",
      "   ------------ --------------------------- 13.8/43.7 MB 4.1 MB/s eta 0:00:08\n",
      "   ------------ --------------------------- 14.0/43.7 MB 4.1 MB/s eta 0:00:08\n",
      "   ------------ --------------------------- 14.1/43.7 MB 4.0 MB/s eta 0:00:08\n",
      "   ------------- -------------------------- 14.3/43.7 MB 4.0 MB/s eta 0:00:08\n",
      "   ------------- -------------------------- 14.5/43.7 MB 4.0 MB/s eta 0:00:08\n",
      "   ------------- -------------------------- 14.7/43.7 MB 3.9 MB/s eta 0:00:08\n",
      "   ------------- -------------------------- 14.8/43.7 MB 3.9 MB/s eta 0:00:08\n",
      "   ------------- -------------------------- 15.0/43.7 MB 3.9 MB/s eta 0:00:08\n",
      "   ------------- -------------------------- 15.2/43.7 MB 3.9 MB/s eta 0:00:08\n",
      "   -------------- ------------------------- 15.4/43.7 MB 3.9 MB/s eta 0:00:08\n",
      "   -------------- ------------------------- 15.5/43.7 MB 3.8 MB/s eta 0:00:08\n",
      "   -------------- ------------------------- 15.7/43.7 MB 3.8 MB/s eta 0:00:08\n",
      "   -------------- ------------------------- 15.9/43.7 MB 3.8 MB/s eta 0:00:08\n",
      "   -------------- ------------------------- 16.1/43.7 MB 3.7 MB/s eta 0:00:08\n",
      "   -------------- ------------------------- 16.3/43.7 MB 3.8 MB/s eta 0:00:08\n",
      "   --------------- ------------------------ 16.4/43.7 MB 3.7 MB/s eta 0:00:08\n",
      "   --------------- ------------------------ 16.6/43.7 MB 3.7 MB/s eta 0:00:08\n",
      "   --------------- ------------------------ 16.8/43.7 MB 3.7 MB/s eta 0:00:08\n",
      "   --------------- ------------------------ 17.0/43.7 MB 3.7 MB/s eta 0:00:08\n",
      "   --------------- ------------------------ 17.2/43.7 MB 3.7 MB/s eta 0:00:08\n",
      "   --------------- ------------------------ 17.3/43.7 MB 3.6 MB/s eta 0:00:08\n",
      "   ---------------- ----------------------- 17.5/43.7 MB 3.6 MB/s eta 0:00:08\n",
      "   ---------------- ----------------------- 17.7/43.7 MB 3.6 MB/s eta 0:00:08\n",
      "   ---------------- ----------------------- 17.9/43.7 MB 3.7 MB/s eta 0:00:07\n",
      "   ---------------- ----------------------- 18.1/43.7 MB 3.7 MB/s eta 0:00:07\n",
      "   ---------------- ----------------------- 18.2/43.7 MB 3.6 MB/s eta 0:00:08\n",
      "   ---------------- ----------------------- 18.4/43.7 MB 3.6 MB/s eta 0:00:07\n",
      "   ----------------- ---------------------- 18.6/43.7 MB 3.7 MB/s eta 0:00:07\n",
      "   ----------------- ---------------------- 18.8/43.7 MB 3.7 MB/s eta 0:00:07\n",
      "   ----------------- ---------------------- 19.0/43.7 MB 3.7 MB/s eta 0:00:07\n",
      "   ----------------- ---------------------- 19.1/43.7 MB 3.7 MB/s eta 0:00:07\n",
      "   ----------------- ---------------------- 19.3/43.7 MB 3.7 MB/s eta 0:00:07\n",
      "   ----------------- ---------------------- 19.5/43.7 MB 3.7 MB/s eta 0:00:07\n",
      "   ------------------ --------------------- 19.7/43.7 MB 3.7 MB/s eta 0:00:07\n",
      "   ------------------ --------------------- 19.9/43.7 MB 3.7 MB/s eta 0:00:07\n",
      "   ------------------ --------------------- 20.1/43.7 MB 3.7 MB/s eta 0:00:07\n",
      "   ------------------ --------------------- 20.2/43.7 MB 3.8 MB/s eta 0:00:07\n",
      "   ------------------ --------------------- 20.4/43.7 MB 3.8 MB/s eta 0:00:07\n",
      "   ------------------ --------------------- 20.6/43.7 MB 3.8 MB/s eta 0:00:07\n",
      "   ------------------- -------------------- 20.8/43.7 MB 3.8 MB/s eta 0:00:07\n",
      "   ------------------- -------------------- 21.0/43.7 MB 3.8 MB/s eta 0:00:07\n",
      "   ------------------- -------------------- 21.2/43.7 MB 3.8 MB/s eta 0:00:06\n",
      "   ------------------- -------------------- 21.4/43.7 MB 3.8 MB/s eta 0:00:06\n",
      "   ------------------- -------------------- 21.5/43.7 MB 3.8 MB/s eta 0:00:06\n",
      "   ------------------- -------------------- 21.7/43.7 MB 3.8 MB/s eta 0:00:06\n",
      "   -------------------- ------------------- 21.9/43.7 MB 3.8 MB/s eta 0:00:06\n",
      "   -------------------- ------------------- 22.1/43.7 MB 3.8 MB/s eta 0:00:06\n",
      "   -------------------- ------------------- 22.3/43.7 MB 3.8 MB/s eta 0:00:06\n",
      "   -------------------- ------------------- 22.4/43.7 MB 3.8 MB/s eta 0:00:06\n",
      "   -------------------- ------------------- 22.6/43.7 MB 3.8 MB/s eta 0:00:06\n",
      "   -------------------- ------------------- 22.8/43.7 MB 3.9 MB/s eta 0:00:06\n",
      "   --------------------- ------------------ 23.0/43.7 MB 3.9 MB/s eta 0:00:06\n",
      "   --------------------- ------------------ 23.2/43.7 MB 3.9 MB/s eta 0:00:06\n",
      "   --------------------- ------------------ 23.4/43.7 MB 3.9 MB/s eta 0:00:06\n",
      "   --------------------- ------------------ 23.6/43.7 MB 3.9 MB/s eta 0:00:06\n",
      "   --------------------- ------------------ 23.7/43.7 MB 3.9 MB/s eta 0:00:06\n",
      "   --------------------- ------------------ 23.9/43.7 MB 3.9 MB/s eta 0:00:06\n",
      "   ---------------------- ----------------- 24.1/43.7 MB 3.9 MB/s eta 0:00:06\n",
      "   ---------------------- ----------------- 24.3/43.7 MB 3.9 MB/s eta 0:00:05\n",
      "   ---------------------- ----------------- 24.5/43.7 MB 3.9 MB/s eta 0:00:05\n",
      "   ---------------------- ----------------- 24.7/43.7 MB 3.9 MB/s eta 0:00:05\n",
      "   ---------------------- ----------------- 24.9/43.7 MB 3.9 MB/s eta 0:00:05\n",
      "   ---------------------- ----------------- 25.1/43.7 MB 3.9 MB/s eta 0:00:05\n",
      "   ----------------------- ---------------- 25.3/43.7 MB 3.9 MB/s eta 0:00:05\n",
      "   ----------------------- ---------------- 25.4/43.7 MB 3.9 MB/s eta 0:00:05\n",
      "   ----------------------- ---------------- 25.6/43.7 MB 3.9 MB/s eta 0:00:05\n",
      "   ----------------------- ---------------- 25.8/43.7 MB 3.9 MB/s eta 0:00:05\n",
      "   ----------------------- ---------------- 26.0/43.7 MB 3.9 MB/s eta 0:00:05\n",
      "   ----------------------- ---------------- 26.2/43.7 MB 3.9 MB/s eta 0:00:05\n",
      "   ------------------------ --------------- 26.4/43.7 MB 3.9 MB/s eta 0:00:05\n",
      "   ------------------------ --------------- 26.6/43.7 MB 3.9 MB/s eta 0:00:05\n",
      "   ------------------------ --------------- 26.8/43.7 MB 3.9 MB/s eta 0:00:05\n",
      "   ------------------------ --------------- 27.0/43.7 MB 3.9 MB/s eta 0:00:05\n",
      "   ------------------------ --------------- 27.2/43.7 MB 3.9 MB/s eta 0:00:05\n",
      "   ------------------------- -------------- 27.4/43.7 MB 4.0 MB/s eta 0:00:05\n",
      "   ------------------------- -------------- 27.6/43.7 MB 4.0 MB/s eta 0:00:05\n",
      "   ------------------------- -------------- 27.8/43.7 MB 4.0 MB/s eta 0:00:05\n",
      "   ------------------------- -------------- 27.9/43.7 MB 4.0 MB/s eta 0:00:04\n",
      "   ------------------------- -------------- 28.1/43.7 MB 4.0 MB/s eta 0:00:04\n",
      "   ------------------------- -------------- 28.3/43.7 MB 4.0 MB/s eta 0:00:04\n",
      "   -------------------------- ------------- 28.5/43.7 MB 4.0 MB/s eta 0:00:04\n",
      "   -------------------------- ------------- 28.7/43.7 MB 4.0 MB/s eta 0:00:04\n",
      "   -------------------------- ------------- 28.9/43.7 MB 4.0 MB/s eta 0:00:04\n",
      "   -------------------------- ------------- 29.2/43.7 MB 4.0 MB/s eta 0:00:04\n",
      "   -------------------------- ------------- 29.3/43.7 MB 4.0 MB/s eta 0:00:04\n",
      "   -------------------------- ------------- 29.5/43.7 MB 4.0 MB/s eta 0:00:04\n",
      "   --------------------------- ------------ 29.7/43.7 MB 4.0 MB/s eta 0:00:04\n",
      "   --------------------------- ------------ 29.9/43.7 MB 4.0 MB/s eta 0:00:04\n",
      "   --------------------------- ------------ 30.1/43.7 MB 4.1 MB/s eta 0:00:04\n",
      "   --------------------------- ------------ 30.3/43.7 MB 4.0 MB/s eta 0:00:04\n",
      "   --------------------------- ------------ 30.5/43.7 MB 4.1 MB/s eta 0:00:04\n",
      "   ---------------------------- ----------- 30.7/43.7 MB 4.1 MB/s eta 0:00:04\n",
      "   ---------------------------- ----------- 30.9/43.7 MB 4.1 MB/s eta 0:00:04\n",
      "   ---------------------------- ----------- 31.1/43.7 MB 4.1 MB/s eta 0:00:04\n",
      "   ---------------------------- ----------- 31.3/43.7 MB 4.1 MB/s eta 0:00:04\n",
      "   ---------------------------- ----------- 31.5/43.7 MB 4.1 MB/s eta 0:00:03\n",
      "   ---------------------------- ----------- 31.7/43.7 MB 4.1 MB/s eta 0:00:03\n",
      "   ---------------------------- ----------- 31.7/43.7 MB 4.1 MB/s eta 0:00:03\n",
      "   ----------------------------- ---------- 31.9/43.7 MB 4.1 MB/s eta 0:00:03\n",
      "   ----------------------------- ---------- 32.2/43.7 MB 4.1 MB/s eta 0:00:03\n",
      "   ----------------------------- ---------- 32.4/43.7 MB 4.1 MB/s eta 0:00:03\n",
      "   ----------------------------- ---------- 32.5/43.7 MB 4.1 MB/s eta 0:00:03\n",
      "   ----------------------------- ---------- 32.6/43.7 MB 4.1 MB/s eta 0:00:03\n",
      "   ----------------------------- ---------- 32.7/43.7 MB 4.0 MB/s eta 0:00:03\n",
      "   ------------------------------ --------- 32.8/43.7 MB 4.0 MB/s eta 0:00:03\n",
      "   ------------------------------ --------- 33.0/43.7 MB 3.9 MB/s eta 0:00:03\n",
      "   ------------------------------ --------- 33.0/43.7 MB 3.9 MB/s eta 0:00:03\n",
      "   ------------------------------ --------- 33.3/43.7 MB 3.9 MB/s eta 0:00:03\n",
      "   ------------------------------ --------- 33.4/43.7 MB 3.9 MB/s eta 0:00:03\n",
      "   ------------------------------ --------- 33.5/43.7 MB 3.9 MB/s eta 0:00:03\n",
      "   ------------------------------ --------- 33.6/43.7 MB 3.8 MB/s eta 0:00:03\n",
      "   ------------------------------ --------- 33.7/43.7 MB 3.8 MB/s eta 0:00:03\n",
      "   ------------------------------ --------- 33.8/43.7 MB 3.8 MB/s eta 0:00:03\n",
      "   ------------------------------- -------- 33.9/43.7 MB 3.7 MB/s eta 0:00:03\n",
      "   ------------------------------- -------- 34.0/43.7 MB 3.7 MB/s eta 0:00:03\n",
      "   ------------------------------- -------- 34.1/43.7 MB 3.7 MB/s eta 0:00:03\n",
      "   ------------------------------- -------- 34.2/43.7 MB 3.7 MB/s eta 0:00:03\n",
      "   ------------------------------- -------- 34.4/43.7 MB 3.7 MB/s eta 0:00:03\n",
      "   ------------------------------- -------- 34.5/43.7 MB 3.6 MB/s eta 0:00:03\n",
      "   ------------------------------- -------- 34.6/43.7 MB 3.6 MB/s eta 0:00:03\n",
      "   ------------------------------- -------- 34.7/43.7 MB 3.6 MB/s eta 0:00:03\n",
      "   ------------------------------- -------- 34.8/43.7 MB 3.6 MB/s eta 0:00:03\n",
      "   ------------------------------- -------- 34.9/43.7 MB 3.5 MB/s eta 0:00:03\n",
      "   -------------------------------- ------- 35.1/43.7 MB 3.5 MB/s eta 0:00:03\n",
      "   -------------------------------- ------- 35.2/43.7 MB 3.5 MB/s eta 0:00:03\n",
      "   -------------------------------- ------- 35.3/43.7 MB 3.5 MB/s eta 0:00:03\n",
      "   -------------------------------- ------- 35.4/43.7 MB 3.5 MB/s eta 0:00:03\n",
      "   -------------------------------- ------- 35.5/43.7 MB 3.4 MB/s eta 0:00:03\n",
      "   -------------------------------- ------- 35.7/43.7 MB 3.4 MB/s eta 0:00:03\n",
      "   -------------------------------- ------- 35.8/43.7 MB 3.4 MB/s eta 0:00:03\n",
      "   -------------------------------- ------- 35.9/43.7 MB 3.4 MB/s eta 0:00:03\n",
      "   -------------------------------- ------- 35.9/43.7 MB 3.4 MB/s eta 0:00:03\n",
      "   --------------------------------- ------ 36.1/43.7 MB 3.3 MB/s eta 0:00:03\n",
      "   --------------------------------- ------ 36.2/43.7 MB 3.3 MB/s eta 0:00:03\n",
      "   --------------------------------- ------ 36.3/43.7 MB 3.3 MB/s eta 0:00:03\n",
      "   --------------------------------- ------ 36.4/43.7 MB 3.2 MB/s eta 0:00:03\n",
      "   --------------------------------- ------ 36.5/43.7 MB 3.2 MB/s eta 0:00:03\n",
      "   --------------------------------- ------ 36.5/43.7 MB 3.2 MB/s eta 0:00:03\n",
      "   --------------------------------- ------ 36.6/43.7 MB 3.2 MB/s eta 0:00:03\n",
      "   --------------------------------- ------ 36.7/43.7 MB 3.1 MB/s eta 0:00:03\n",
      "   --------------------------------- ------ 36.8/43.7 MB 3.1 MB/s eta 0:00:03\n",
      "   --------------------------------- ------ 36.9/43.7 MB 3.1 MB/s eta 0:00:03\n",
      "   --------------------------------- ------ 37.0/43.7 MB 3.1 MB/s eta 0:00:03\n",
      "   --------------------------------- ------ 37.1/43.7 MB 3.1 MB/s eta 0:00:03\n",
      "   ---------------------------------- ----- 37.2/43.7 MB 3.0 MB/s eta 0:00:03\n",
      "   ---------------------------------- ----- 37.3/43.7 MB 3.0 MB/s eta 0:00:03\n",
      "   ---------------------------------- ----- 37.4/43.7 MB 3.0 MB/s eta 0:00:03\n",
      "   ---------------------------------- ----- 37.5/43.7 MB 2.9 MB/s eta 0:00:03\n",
      "   ---------------------------------- ----- 37.6/43.7 MB 2.9 MB/s eta 0:00:03\n",
      "   ---------------------------------- ----- 37.7/43.7 MB 2.9 MB/s eta 0:00:03\n",
      "   ---------------------------------- ----- 37.8/43.7 MB 2.9 MB/s eta 0:00:03\n",
      "   ---------------------------------- ----- 37.8/43.7 MB 2.9 MB/s eta 0:00:03\n",
      "   ---------------------------------- ----- 37.9/43.7 MB 2.9 MB/s eta 0:00:03\n",
      "   ---------------------------------- ----- 38.1/43.7 MB 2.8 MB/s eta 0:00:03\n",
      "   ---------------------------------- ----- 38.1/43.7 MB 2.8 MB/s eta 0:00:02\n",
      "   ---------------------------------- ----- 38.2/43.7 MB 2.8 MB/s eta 0:00:02\n",
      "   ----------------------------------- ---- 38.3/43.7 MB 2.8 MB/s eta 0:00:02\n",
      "   ----------------------------------- ---- 38.4/43.7 MB 2.8 MB/s eta 0:00:02\n",
      "   ----------------------------------- ---- 38.4/43.7 MB 2.7 MB/s eta 0:00:02\n",
      "   ----------------------------------- ---- 38.5/43.7 MB 2.7 MB/s eta 0:00:02\n",
      "   ----------------------------------- ---- 38.6/43.7 MB 2.7 MB/s eta 0:00:02\n",
      "   ----------------------------------- ---- 38.7/43.7 MB 2.7 MB/s eta 0:00:02\n",
      "   ----------------------------------- ---- 38.7/43.7 MB 2.7 MB/s eta 0:00:02\n",
      "   ----------------------------------- ---- 38.8/43.7 MB 2.6 MB/s eta 0:00:02\n",
      "   ----------------------------------- ---- 38.9/43.7 MB 2.6 MB/s eta 0:00:02\n",
      "   ----------------------------------- ---- 38.9/43.7 MB 2.6 MB/s eta 0:00:02\n",
      "   ----------------------------------- ---- 39.0/43.7 MB 2.6 MB/s eta 0:00:02\n",
      "   ----------------------------------- ---- 39.1/43.7 MB 2.5 MB/s eta 0:00:02\n",
      "   ----------------------------------- ---- 39.2/43.7 MB 2.5 MB/s eta 0:00:02\n",
      "   ----------------------------------- ---- 39.2/43.7 MB 2.5 MB/s eta 0:00:02\n",
      "   ----------------------------------- ---- 39.3/43.7 MB 2.5 MB/s eta 0:00:02\n",
      "   ------------------------------------ --- 39.4/43.7 MB 2.5 MB/s eta 0:00:02\n",
      "   ------------------------------------ --- 39.5/43.7 MB 2.5 MB/s eta 0:00:02\n",
      "   ------------------------------------ --- 39.5/43.7 MB 2.4 MB/s eta 0:00:02\n",
      "   ------------------------------------ --- 39.6/43.7 MB 2.4 MB/s eta 0:00:02\n",
      "   ------------------------------------ --- 39.7/43.7 MB 2.4 MB/s eta 0:00:02\n",
      "   ------------------------------------ --- 39.8/43.7 MB 2.4 MB/s eta 0:00:02\n",
      "   ------------------------------------ --- 39.8/43.7 MB 2.4 MB/s eta 0:00:02\n",
      "   ------------------------------------ --- 39.9/43.7 MB 2.4 MB/s eta 0:00:02\n",
      "   ------------------------------------ --- 40.0/43.7 MB 2.3 MB/s eta 0:00:02\n",
      "   ------------------------------------ --- 40.1/43.7 MB 2.3 MB/s eta 0:00:02\n",
      "   ------------------------------------ --- 40.2/43.7 MB 2.3 MB/s eta 0:00:02\n",
      "   ------------------------------------ --- 40.3/43.7 MB 2.3 MB/s eta 0:00:02\n",
      "   ------------------------------------ --- 40.3/43.7 MB 2.3 MB/s eta 0:00:02\n",
      "   ------------------------------------ --- 40.4/43.7 MB 2.3 MB/s eta 0:00:02\n",
      "   ------------------------------------- -- 40.5/43.7 MB 2.3 MB/s eta 0:00:02\n",
      "   ------------------------------------- -- 40.6/43.7 MB 2.2 MB/s eta 0:00:02\n",
      "   ------------------------------------- -- 40.6/43.7 MB 2.2 MB/s eta 0:00:02\n",
      "   ------------------------------------- -- 40.7/43.7 MB 2.2 MB/s eta 0:00:02\n",
      "   ------------------------------------- -- 40.8/43.7 MB 2.2 MB/s eta 0:00:02\n",
      "   ------------------------------------- -- 40.9/43.7 MB 2.2 MB/s eta 0:00:02\n",
      "   ------------------------------------- -- 41.0/43.7 MB 2.2 MB/s eta 0:00:02\n",
      "   ------------------------------------- -- 41.0/43.7 MB 2.2 MB/s eta 0:00:02\n",
      "   ------------------------------------- -- 41.1/43.7 MB 2.2 MB/s eta 0:00:02\n",
      "   ------------------------------------- -- 41.2/43.7 MB 2.1 MB/s eta 0:00:02\n",
      "   ------------------------------------- -- 41.3/43.7 MB 2.1 MB/s eta 0:00:02\n",
      "   ------------------------------------- -- 41.4/43.7 MB 2.1 MB/s eta 0:00:02\n",
      "   ------------------------------------- -- 41.5/43.7 MB 2.1 MB/s eta 0:00:02\n",
      "   ------------------------------------- -- 41.5/43.7 MB 2.1 MB/s eta 0:00:02\n",
      "   -------------------------------------- - 41.6/43.7 MB 2.1 MB/s eta 0:00:02\n",
      "   -------------------------------------- - 41.7/43.7 MB 2.1 MB/s eta 0:00:01\n",
      "   -------------------------------------- - 41.8/43.7 MB 2.1 MB/s eta 0:00:01\n",
      "   -------------------------------------- - 41.9/43.7 MB 2.0 MB/s eta 0:00:01\n",
      "   -------------------------------------- - 42.0/43.7 MB 2.1 MB/s eta 0:00:01\n",
      "   -------------------------------------- - 42.1/43.7 MB 2.0 MB/s eta 0:00:01\n",
      "   -------------------------------------- - 42.1/43.7 MB 2.0 MB/s eta 0:00:01\n",
      "   -------------------------------------- - 42.2/43.7 MB 2.0 MB/s eta 0:00:01\n",
      "   -------------------------------------- - 42.3/43.7 MB 2.0 MB/s eta 0:00:01\n",
      "   -------------------------------------- - 42.4/43.7 MB 2.0 MB/s eta 0:00:01\n",
      "   -------------------------------------- - 42.5/43.7 MB 2.0 MB/s eta 0:00:01\n",
      "   -------------------------------------- - 42.6/43.7 MB 2.0 MB/s eta 0:00:01\n",
      "   ---------------------------------------  42.7/43.7 MB 2.0 MB/s eta 0:00:01\n",
      "   ---------------------------------------  42.8/43.7 MB 2.0 MB/s eta 0:00:01\n",
      "   ---------------------------------------  42.9/43.7 MB 1.9 MB/s eta 0:00:01\n",
      "   ---------------------------------------  43.0/43.7 MB 2.0 MB/s eta 0:00:01\n",
      "   ---------------------------------------  43.0/43.7 MB 1.9 MB/s eta 0:00:01\n",
      "   ---------------------------------------  43.1/43.7 MB 1.9 MB/s eta 0:00:01\n",
      "   ---------------------------------------  43.2/43.7 MB 2.0 MB/s eta 0:00:01\n",
      "   ---------------------------------------  43.3/43.7 MB 2.0 MB/s eta 0:00:01\n",
      "   ---------------------------------------  43.4/43.7 MB 1.9 MB/s eta 0:00:01\n",
      "   ---------------------------------------  43.5/43.7 MB 1.9 MB/s eta 0:00:01\n",
      "   ---------------------------------------  43.6/43.7 MB 1.9 MB/s eta 0:00:01\n",
      "   ---------------------------------------  43.7/43.7 MB 1.9 MB/s eta 0:00:01\n",
      "   ---------------------------------------  43.7/43.7 MB 1.9 MB/s eta 0:00:01\n",
      "   ---------------------------------------- 43.7/43.7 MB 1.9 MB/s eta 0:00:00\n",
      "Using cached pytorch_lightning-2.4.0-py3-none-any.whl (815 kB)\n",
      "Using cached torch-2.5.1-cp312-cp312-win_amd64.whl (203.0 MB)\n",
      "Using cached sympy-1.13.1-py3-none-any.whl (6.2 MB)\n",
      "Using cached torchmetrics-1.6.0-py3-none-any.whl (926 kB)\n",
      "Using cached autograd-1.7.0-py3-none-any.whl (52 kB)\n",
      "Using cached formulaic-1.0.2-py3-none-any.whl (94 kB)\n",
      "Using cached lightning_utilities-0.11.9-py3-none-any.whl (28 kB)\n",
      "Using cached progressbar2-4.5.0-py3-none-any.whl (57 kB)\n",
      "Using cached interface_meta-1.3.0-py3-none-any.whl (14 kB)\n",
      "Using cached python_utils-3.9.1-py2.py3-none-any.whl (32 kB)\n",
      "Building wheels for collected packages: autograd-gamma\n",
      "  Building wheel for autograd-gamma (setup.py): started\n",
      "  Building wheel for autograd-gamma (setup.py): finished with status 'done'\n",
      "  Created wheel for autograd-gamma: filename=autograd_gamma-0.5.0-py3-none-any.whl size=4050 sha256=8dc7a479d294d8241c984960c3234330efa021f5cb533ae5ba21a817f6dc0067\n",
      "  Stored in directory: c:\\users\\4311779\\appdata\\local\\pip\\cache\\wheels\\50\\37\\21\\0a719b9d89c635e89ff24bd93b862882ad675279552013b2fb\n",
      "Successfully built autograd-gamma\n",
      "Installing collected packages: sympy, scipy, python-utils, lightning-utilities, interface-meta, autograd, torch, progressbar2, autograd-gamma, torchmetrics, pygam, formulaic, pytorch-lightning, lifelines, ISLP\n",
      "  Attempting uninstall: sympy\n",
      "    Found existing installation: sympy 1.12\n",
      "    Uninstalling sympy-1.12:\n",
      "      Successfully uninstalled sympy-1.12\n",
      "  Attempting uninstall: scipy\n",
      "    Found existing installation: scipy 1.13.1\n",
      "    Uninstalling scipy-1.13.1:\n",
      "      Successfully uninstalled scipy-1.13.1\n"
     ]
    },
    {
     "name": "stderr",
     "output_type": "stream",
     "text": [
      "ERROR: Could not install packages due to an OSError: [WinError 32] The process cannot access the file because it is being used by another process: 'C:\\\\Users\\\\4311779\\\\AppData\\\\Local\\\\anaconda3\\\\Lib\\\\site-packages\\\\formulaic\\\\utils\\\\cast.py'\n",
      "Consider using the `--user` option or check the permissions.\n",
      "\n"
     ]
    },
    {
     "name": "stdout",
     "output_type": "stream",
     "text": [
      "Collecting ISLP\n",
      "  Using cached ISLP-0.4.0-py3-none-any.whl.metadata (7.0 kB)\n",
      "Requirement already satisfied: numpy>=1.7.1 in c:\\users\\4311779\\appdata\\local\\anaconda3\\lib\\site-packages (from ISLP) (1.26.4)\n",
      "Requirement already satisfied: scipy>=0.9 in c:\\users\\4311779\\appdata\\local\\anaconda3\\lib\\site-packages (from ISLP) (1.11.4)\n",
      "Requirement already satisfied: pandas>=0.20 in c:\\users\\4311779\\appdata\\local\\anaconda3\\lib\\site-packages (from ISLP) (2.2.2)\n",
      "Requirement already satisfied: lxml in c:\\users\\4311779\\appdata\\local\\anaconda3\\lib\\site-packages (from ISLP) (5.2.1)\n",
      "Requirement already satisfied: scikit-learn>=1.2 in c:\\users\\4311779\\appdata\\local\\anaconda3\\lib\\site-packages (from ISLP) (1.4.2)\n",
      "Requirement already satisfied: joblib in c:\\users\\4311779\\appdata\\local\\anaconda3\\lib\\site-packages (from ISLP) (1.4.2)\n",
      "Requirement already satisfied: statsmodels>=0.13 in c:\\users\\4311779\\appdata\\local\\anaconda3\\lib\\site-packages (from ISLP) (0.14.2)\n",
      "Collecting lifelines (from ISLP)\n",
      "  Using cached lifelines-0.30.0-py3-none-any.whl.metadata (3.2 kB)\n",
      "Collecting pygam (from ISLP)\n",
      "  Using cached pygam-0.9.1-py3-none-any.whl.metadata (7.1 kB)\n",
      "Collecting torch (from ISLP)\n",
      "  Using cached torch-2.5.1-cp312-cp312-win_amd64.whl.metadata (28 kB)\n",
      "Collecting pytorch-lightning (from ISLP)\n",
      "  Using cached pytorch_lightning-2.4.0-py3-none-any.whl.metadata (21 kB)\n",
      "Collecting torchmetrics (from ISLP)\n",
      "  Using cached torchmetrics-1.6.0-py3-none-any.whl.metadata (20 kB)\n",
      "Requirement already satisfied: python-dateutil>=2.8.2 in c:\\users\\4311779\\appdata\\local\\anaconda3\\lib\\site-packages (from pandas>=0.20->ISLP) (2.9.0.post0)\n",
      "Requirement already satisfied: pytz>=2020.1 in c:\\users\\4311779\\appdata\\local\\anaconda3\\lib\\site-packages (from pandas>=0.20->ISLP) (2024.1)\n",
      "Requirement already satisfied: tzdata>=2022.7 in c:\\users\\4311779\\appdata\\local\\anaconda3\\lib\\site-packages (from pandas>=0.20->ISLP) (2023.3)\n",
      "Requirement already satisfied: threadpoolctl>=2.0.0 in c:\\users\\4311779\\appdata\\local\\anaconda3\\lib\\site-packages (from scikit-learn>=1.2->ISLP) (2.2.0)\n",
      "Requirement already satisfied: patsy>=0.5.6 in c:\\users\\4311779\\appdata\\local\\anaconda3\\lib\\site-packages (from statsmodels>=0.13->ISLP) (0.5.6)\n",
      "Requirement already satisfied: packaging>=21.3 in c:\\users\\4311779\\appdata\\local\\anaconda3\\lib\\site-packages (from statsmodels>=0.13->ISLP) (23.2)\n",
      "Requirement already satisfied: matplotlib>=3.0 in c:\\users\\4311779\\appdata\\local\\anaconda3\\lib\\site-packages (from lifelines->ISLP) (3.8.4)\n",
      "Collecting autograd>=1.5 (from lifelines->ISLP)\n",
      "  Using cached autograd-1.7.0-py3-none-any.whl.metadata (7.5 kB)\n",
      "Collecting autograd-gamma>=0.3 (from lifelines->ISLP)\n",
      "  Using cached autograd_gamma-0.5.0-py3-none-any.whl\n",
      "Collecting formulaic>=0.2.2 (from lifelines->ISLP)\n",
      "  Using cached formulaic-1.0.2-py3-none-any.whl.metadata (6.8 kB)\n",
      "Collecting progressbar2<5.0.0,>=4.2.0 (from pygam->ISLP)\n",
      "  Using cached progressbar2-4.5.0-py3-none-any.whl.metadata (16 kB)\n",
      "Requirement already satisfied: tqdm>=4.57.0 in c:\\users\\4311779\\appdata\\local\\anaconda3\\lib\\site-packages (from pytorch-lightning->ISLP) (4.66.4)\n",
      "Requirement already satisfied: PyYAML>=5.4 in c:\\users\\4311779\\appdata\\local\\anaconda3\\lib\\site-packages (from pytorch-lightning->ISLP) (6.0.1)\n",
      "Requirement already satisfied: fsspec>=2022.5.0 in c:\\users\\4311779\\appdata\\local\\anaconda3\\lib\\site-packages (from fsspec[http]>=2022.5.0->pytorch-lightning->ISLP) (2024.3.1)\n",
      "Requirement already satisfied: typing-extensions>=4.4.0 in c:\\users\\4311779\\appdata\\local\\anaconda3\\lib\\site-packages (from pytorch-lightning->ISLP) (4.11.0)\n",
      "Collecting lightning-utilities>=0.10.0 (from pytorch-lightning->ISLP)\n",
      "  Using cached lightning_utilities-0.11.9-py3-none-any.whl.metadata (5.2 kB)\n",
      "Requirement already satisfied: filelock in c:\\users\\4311779\\appdata\\local\\anaconda3\\lib\\site-packages (from torch->ISLP) (3.13.1)\n",
      "Requirement already satisfied: networkx in c:\\users\\4311779\\appdata\\local\\anaconda3\\lib\\site-packages (from torch->ISLP) (3.2.1)\n",
      "Requirement already satisfied: jinja2 in c:\\users\\4311779\\appdata\\local\\anaconda3\\lib\\site-packages (from torch->ISLP) (3.1.4)\n",
      "Requirement already satisfied: setuptools in c:\\users\\4311779\\appdata\\local\\anaconda3\\lib\\site-packages (from torch->ISLP) (69.5.1)\n",
      "Requirement already satisfied: sympy==1.13.1 in c:\\users\\4311779\\appdata\\local\\anaconda3\\lib\\site-packages (from torch->ISLP) (1.13.1)\n",
      "Requirement already satisfied: mpmath<1.4,>=1.1.0 in c:\\users\\4311779\\appdata\\local\\anaconda3\\lib\\site-packages (from sympy==1.13.1->torch->ISLP) (1.3.0)\n",
      "Collecting interface-meta>=1.2.0 (from formulaic>=0.2.2->lifelines->ISLP)\n",
      "  Using cached interface_meta-1.3.0-py3-none-any.whl.metadata (6.7 kB)\n",
      "Requirement already satisfied: wrapt>=1.0 in c:\\users\\4311779\\appdata\\local\\anaconda3\\lib\\site-packages (from formulaic>=0.2.2->lifelines->ISLP) (1.14.1)\n",
      "Requirement already satisfied: aiohttp!=4.0.0a0,!=4.0.0a1 in c:\\users\\4311779\\appdata\\local\\anaconda3\\lib\\site-packages (from fsspec[http]>=2022.5.0->pytorch-lightning->ISLP) (3.9.5)\n",
      "Requirement already satisfied: contourpy>=1.0.1 in c:\\users\\4311779\\appdata\\local\\anaconda3\\lib\\site-packages (from matplotlib>=3.0->lifelines->ISLP) (1.2.0)\n",
      "Requirement already satisfied: cycler>=0.10 in c:\\users\\4311779\\appdata\\local\\anaconda3\\lib\\site-packages (from matplotlib>=3.0->lifelines->ISLP) (0.11.0)\n",
      "Requirement already satisfied: fonttools>=4.22.0 in c:\\users\\4311779\\appdata\\local\\anaconda3\\lib\\site-packages (from matplotlib>=3.0->lifelines->ISLP) (4.51.0)\n",
      "Requirement already satisfied: kiwisolver>=1.3.1 in c:\\users\\4311779\\appdata\\local\\anaconda3\\lib\\site-packages (from matplotlib>=3.0->lifelines->ISLP) (1.4.4)\n",
      "Requirement already satisfied: pillow>=8 in c:\\users\\4311779\\appdata\\local\\anaconda3\\lib\\site-packages (from matplotlib>=3.0->lifelines->ISLP) (10.3.0)\n",
      "Requirement already satisfied: pyparsing>=2.3.1 in c:\\users\\4311779\\appdata\\local\\anaconda3\\lib\\site-packages (from matplotlib>=3.0->lifelines->ISLP) (3.0.9)\n",
      "Requirement already satisfied: six in c:\\users\\4311779\\appdata\\local\\anaconda3\\lib\\site-packages (from patsy>=0.5.6->statsmodels>=0.13->ISLP) (1.16.0)\n",
      "Collecting python-utils>=3.8.1 (from progressbar2<5.0.0,>=4.2.0->pygam->ISLP)\n",
      "  Using cached python_utils-3.9.1-py2.py3-none-any.whl.metadata (9.8 kB)\n",
      "Requirement already satisfied: colorama in c:\\users\\4311779\\appdata\\local\\anaconda3\\lib\\site-packages (from tqdm>=4.57.0->pytorch-lightning->ISLP) (0.4.6)\n",
      "Requirement already satisfied: MarkupSafe>=2.0 in c:\\users\\4311779\\appdata\\local\\anaconda3\\lib\\site-packages (from jinja2->torch->ISLP) (2.1.3)\n",
      "Requirement already satisfied: aiosignal>=1.1.2 in c:\\users\\4311779\\appdata\\local\\anaconda3\\lib\\site-packages (from aiohttp!=4.0.0a0,!=4.0.0a1->fsspec[http]>=2022.5.0->pytorch-lightning->ISLP) (1.2.0)\n",
      "Requirement already satisfied: attrs>=17.3.0 in c:\\users\\4311779\\appdata\\local\\anaconda3\\lib\\site-packages (from aiohttp!=4.0.0a0,!=4.0.0a1->fsspec[http]>=2022.5.0->pytorch-lightning->ISLP) (23.1.0)\n",
      "Requirement already satisfied: frozenlist>=1.1.1 in c:\\users\\4311779\\appdata\\local\\anaconda3\\lib\\site-packages (from aiohttp!=4.0.0a0,!=4.0.0a1->fsspec[http]>=2022.5.0->pytorch-lightning->ISLP) (1.4.0)\n",
      "Requirement already satisfied: multidict<7.0,>=4.5 in c:\\users\\4311779\\appdata\\local\\anaconda3\\lib\\site-packages (from aiohttp!=4.0.0a0,!=4.0.0a1->fsspec[http]>=2022.5.0->pytorch-lightning->ISLP) (6.0.4)\n",
      "Requirement already satisfied: yarl<2.0,>=1.0 in c:\\users\\4311779\\appdata\\local\\anaconda3\\lib\\site-packages (from aiohttp!=4.0.0a0,!=4.0.0a1->fsspec[http]>=2022.5.0->pytorch-lightning->ISLP) (1.9.3)\n",
      "Requirement already satisfied: idna>=2.0 in c:\\users\\4311779\\appdata\\local\\anaconda3\\lib\\site-packages (from yarl<2.0,>=1.0->aiohttp!=4.0.0a0,!=4.0.0a1->fsspec[http]>=2022.5.0->pytorch-lightning->ISLP) (3.7)\n",
      "Using cached ISLP-0.4.0-py3-none-any.whl (3.6 MB)\n",
      "Using cached lifelines-0.30.0-py3-none-any.whl (349 kB)\n",
      "Using cached pygam-0.9.1-py3-none-any.whl (522 kB)\n",
      "Using cached pytorch_lightning-2.4.0-py3-none-any.whl (815 kB)\n",
      "Using cached torch-2.5.1-cp312-cp312-win_amd64.whl (203.0 MB)\n",
      "Using cached torchmetrics-1.6.0-py3-none-any.whl (926 kB)\n",
      "Using cached autograd-1.7.0-py3-none-any.whl (52 kB)\n",
      "Using cached formulaic-1.0.2-py3-none-any.whl (94 kB)\n",
      "Using cached lightning_utilities-0.11.9-py3-none-any.whl (28 kB)\n",
      "Using cached progressbar2-4.5.0-py3-none-any.whl (57 kB)\n",
      "Using cached interface_meta-1.3.0-py3-none-any.whl (14 kB)\n",
      "Using cached python_utils-3.9.1-py2.py3-none-any.whl (32 kB)\n",
      "Installing collected packages: python-utils, lightning-utilities, interface-meta, autograd, torch, progressbar2, autograd-gamma, torchmetrics, pygam, formulaic, pytorch-lightning, lifelines, ISLP\n",
      "Successfully installed ISLP-0.4.0 autograd-1.7.0 autograd-gamma-0.5.0 formulaic-1.0.2 interface-meta-1.3.0 lifelines-0.30.0 lightning-utilities-0.11.9 progressbar2-4.5.0 pygam-0.9.1 python-utils-3.9.1 pytorch-lightning-2.4.0 torch-2.5.1 torchmetrics-1.6.0\n"
     ]
    }
   ],
   "execution_count": 7
  },
  {
   "cell_type": "code",
   "id": "1f7a6c07",
   "metadata": {
    "lines_to_next_cell": 0,
    "id": "1f7a6c07",
    "ExecuteTime": {
     "end_time": "2024-12-04T10:18:09.335280Z",
     "start_time": "2024-12-04T10:18:09.256576Z"
    }
   },
   "source": [
    "import numpy as np\n",
    "import pandas as pd\n",
    "import matplotlib.pyplot as plt\n",
    "from statsmodels.datasets import get_rdataset\n",
    "from sklearn.preprocessing import StandardScaler\n",
    "from ISLP import load_data\n"
   ],
   "outputs": [],
   "execution_count": 1
  },
  {
   "cell_type": "code",
   "id": "9d000cef-99cb-427e-b478-e124b7b0cc10",
   "metadata": {
    "id": "9d000cef-99cb-427e-b478-e124b7b0cc10",
    "ExecuteTime": {
     "end_time": "2024-12-04T10:18:09.881213Z",
     "start_time": "2024-12-04T10:18:09.819255Z"
    }
   },
   "source": [
    "from sklearn.cluster import KMeans\n",
    "from sklearn.cluster import AgglomerativeClustering\n",
    "from scipy.cluster.hierarchy import dendrogram\n",
    "from scipy.cluster.hierarchy import cut_tree\n",
    "from ISLP.cluster import compute_linkage"
   ],
   "outputs": [],
   "execution_count": 2
  },
  {
   "cell_type": "markdown",
   "id": "1f700d77",
   "metadata": {
    "id": "1f700d77"
   },
   "source": [
    "## Clustering"
   ]
  },
  {
   "cell_type": "markdown",
   "id": "a042a391",
   "metadata": {
    "id": "a042a391"
   },
   "source": [
    "### $K$-Means Clustering\n",
    "\n",
    "The estimator `sklearn.cluster.KMeans()`  performs $K$-means clustering in\n",
    "`Python`.  We begin with a simple simulated example in which there\n",
    "truly are two clusters in the data: the first 25 observations have a\n",
    "mean shift relative to the next 25 observations."
   ]
  },
  {
   "cell_type": "code",
   "id": "f6e58256",
   "metadata": {
    "lines_to_next_cell": 0,
    "id": "f6e58256",
    "ExecuteTime": {
     "end_time": "2024-12-04T10:18:11.130951Z",
     "start_time": "2024-12-04T10:18:11.128209Z"
    }
   },
   "source": [
    "np.random.seed(0);\n",
    "X = np.random.standard_normal((50,2));\n",
    "X[:25,0] += 3;\n",
    "X[:25,1] -= 4;\n"
   ],
   "outputs": [],
   "execution_count": 3
  },
  {
   "cell_type": "code",
   "id": "70d41b04-acf4-41cd-ac96-0611de2be2d7",
   "metadata": {
    "colab": {
     "base_uri": "https://localhost:8080/"
    },
    "id": "70d41b04-acf4-41cd-ac96-0611de2be2d7",
    "outputId": "2941d0d8-494c-44c1-9494-febba126558d",
    "ExecuteTime": {
     "end_time": "2024-12-04T10:18:11.583625Z",
     "start_time": "2024-12-04T10:18:11.581476Z"
    }
   },
   "source": [
    "print(X.shape)\n",
    "print(X[:5])  # Inspect the first 5 rows of X\n"
   ],
   "outputs": [
    {
     "name": "stdout",
     "output_type": "stream",
     "text": [
      "(50, 2)\n",
      "[[ 4.76405235 -3.59984279]\n",
      " [ 3.97873798 -1.7591068 ]\n",
      " [ 4.86755799 -4.97727788]\n",
      " [ 3.95008842 -4.15135721]\n",
      " [ 2.89678115 -3.5894015 ]]\n"
     ]
    }
   ],
   "execution_count": 4
  },
  {
   "cell_type": "markdown",
   "id": "4f0ff8a0",
   "metadata": {
    "id": "4f0ff8a0"
   },
   "source": [
    "We now perform $K$-means clustering with $K=2$."
   ]
  },
  {
   "cell_type": "code",
   "id": "6d739b86",
   "metadata": {
    "lines_to_next_cell": 0,
    "id": "6d739b86",
    "ExecuteTime": {
     "end_time": "2024-12-04T10:18:12.425373Z",
     "start_time": "2024-12-04T10:18:11.946569Z"
    }
   },
   "source": [
    "kmeans = KMeans(n_clusters=2,\n",
    "                random_state=2,\n",
    "                n_init=20).fit(X)\n"
   ],
   "outputs": [
    {
     "name": "stderr",
     "output_type": "stream",
     "text": [
      "C:\\Users\\4311779\\AppData\\Local\\anaconda3\\Lib\\site-packages\\sklearn\\cluster\\_kmeans.py:1446: UserWarning: KMeans is known to have a memory leak on Windows with MKL, when there are less chunks than available threads. You can avoid it by setting the environment variable OMP_NUM_THREADS=1.\n",
      "  warnings.warn(\n"
     ]
    }
   ],
   "execution_count": 5
  },
  {
   "cell_type": "markdown",
   "id": "c5eeb7a8",
   "metadata": {
    "id": "c5eeb7a8"
   },
   "source": [
    "We specify `random_state` to make the results reproducible.  The cluster assignments of the 50 observations are contained in `kmeans.labels_`."
   ]
  },
  {
   "cell_type": "code",
   "id": "701ef903",
   "metadata": {
    "lines_to_next_cell": 0,
    "colab": {
     "base_uri": "https://localhost:8080/"
    },
    "id": "701ef903",
    "outputId": "0c1efdf8-260a-4871-b6e7-9838613b8766",
    "ExecuteTime": {
     "end_time": "2024-12-04T10:18:12.553493Z",
     "start_time": "2024-12-04T10:18:12.549829Z"
    }
   },
   "source": "kmeans.labels_\n",
   "outputs": [
    {
     "data": {
      "text/plain": [
       "array([0, 0, 0, 0, 0, 0, 0, 0, 0, 0, 0, 0, 0, 0, 0, 0, 0, 0, 0, 0, 0, 1,\n",
       "       0, 0, 0, 1, 1, 1, 1, 1, 1, 1, 1, 1, 1, 1, 1, 1, 1, 1, 1, 1, 1, 1,\n",
       "       1, 1, 1, 1, 1, 1])"
      ]
     },
     "execution_count": 6,
     "metadata": {},
     "output_type": "execute_result"
    }
   ],
   "execution_count": 6
  },
  {
   "cell_type": "markdown",
   "id": "b6edb148",
   "metadata": {
    "id": "b6edb148"
   },
   "source": [
    "The $K$-means clustering perfectly separated the observations into two\n",
    "clusters even though we did not supply any group information to\n",
    "`KMeans()`. We can plot the data, with each observation\n",
    "colored according to its cluster assignment."
   ]
  },
  {
   "cell_type": "code",
   "id": "b00fbcc9",
   "metadata": {
    "colab": {
     "base_uri": "https://localhost:8080/",
     "height": 699
    },
    "id": "b00fbcc9",
    "outputId": "3bce9978-e9bf-49aa-fb8c-8de569e09be9",
    "ExecuteTime": {
     "end_time": "2024-12-04T10:18:13.319810Z",
     "start_time": "2024-12-04T10:18:13.211206Z"
    }
   },
   "source": [
    "fig, ax = plt.subplots(1, 1, figsize=(8,8))\n",
    "ax.scatter(X[:,0], X[:,1], c=kmeans.labels_)\n",
    "ax.set_title(\"K-Means Clustering Results with K=2\");\n"
   ],
   "outputs": [
    {
     "data": {
      "text/plain": [
       "<Figure size 800x800 with 1 Axes>"
      ],
      "image/png": "[encoded data removed]"
     },
     "metadata": {},
     "output_type": "display_data"
    }
   ],
   "execution_count": 7
  },
  {
   "cell_type": "markdown",
   "id": "7f0c844e",
   "metadata": {
    "id": "7f0c844e"
   },
   "source": [
    "\n",
    "In this example,   we knew that there really\n",
    "were two clusters because we generated the data. However, for real\n",
    "data, we do not know the true number of clusters, nor whether they  exist in any precise way. We could\n",
    "instead have performed $K$-means clustering on this example with\n",
    "$K=3$."
   ]
  },
  {
   "cell_type": "code",
   "id": "f2cad047",
   "metadata": {
    "lines_to_next_cell": 0,
    "colab": {
     "base_uri": "https://localhost:8080/",
     "height": 699
    },
    "id": "f2cad047",
    "outputId": "a8db6687-4f44-4c6b-c142-ba53861002a6",
    "ExecuteTime": {
     "end_time": "2024-12-04T10:18:14.906801Z",
     "start_time": "2024-12-04T10:18:14.353379Z"
    }
   },
   "source": [
    "kmeans = KMeans(n_clusters=3,\n",
    "                random_state=3,\n",
    "                n_init=20).fit(X)\n",
    "fig, ax = plt.subplots(figsize=(8,8))\n",
    "ax.scatter(X[:,0], X[:,1], c=kmeans.labels_)\n",
    "ax.set_title(\"K-Means Clustering Results with K=3\");\n"
   ],
   "outputs": [
    {
     "name": "stderr",
     "output_type": "stream",
     "text": [
      "C:\\Users\\4311779\\AppData\\Local\\anaconda3\\Lib\\site-packages\\sklearn\\cluster\\_kmeans.py:1446: UserWarning: KMeans is known to have a memory leak on Windows with MKL, when there are less chunks than available threads. You can avoid it by setting the environment variable OMP_NUM_THREADS=1.\n",
      "  warnings.warn(\n"
     ]
    },
    {
     "data": {
      "text/plain": [
       "<Figure size 800x800 with 1 Axes>"
      ],
      "image/png": "[encoded data removed]"
     },
     "metadata": {},
     "output_type": "display_data"
    }
   ],
   "execution_count": 8
  },
  {
   "cell_type": "markdown",
   "id": "1a939178",
   "metadata": {
    "id": "1a939178"
   },
   "source": [
    "When $K=3$, $K$-means clustering  splits up the two clusters.\n",
    "We have used the `n_init` argument to run the $K$-means with 20\n",
    "initial cluster assignments (the default is 10). If a\n",
    "value of `n_init` greater than one is used, then $K$-means\n",
    "clustering will be performed using multiple random assignments in\n",
    "Step 1 of  Algorithm~\\ref{Ch10:alg:km}, and the `KMeans()`\n",
    "function will report only the best results. Here we compare using\n",
    "`n_init=1` to `n_init=20`."
   ]
  },
  {
   "cell_type": "code",
   "id": "f1436671",
   "metadata": {
    "lines_to_next_cell": 0,
    "colab": {
     "base_uri": "https://localhost:8080/"
    },
    "id": "f1436671",
    "outputId": "4fe1faa7-6d56-46fc-b8af-2f01b24949a8",
    "ExecuteTime": {
     "end_time": "2024-12-04T10:18:16.148303Z",
     "start_time": "2024-12-04T10:18:15.681481Z"
    }
   },
   "source": [
    "kmeans1 = KMeans(n_clusters=3,\n",
    "                random_state=3,\n",
    "                n_init=1).fit(X)\n",
    "\n",
    "kmeans20 = KMeans(n_clusters=3,\n",
    "                  random_state=3,\n",
    "                  n_init=20).fit(X);\n",
    "\n",
    "kmeans1.inertia_, kmeans20.inertia_\n"
   ],
   "outputs": [
    {
     "name": "stderr",
     "output_type": "stream",
     "text": [
      "C:\\Users\\4311779\\AppData\\Local\\anaconda3\\Lib\\site-packages\\sklearn\\cluster\\_kmeans.py:1446: UserWarning: KMeans is known to have a memory leak on Windows with MKL, when there are less chunks than available threads. You can avoid it by setting the environment variable OMP_NUM_THREADS=1.\n",
      "  warnings.warn(\n",
      "C:\\Users\\4311779\\AppData\\Local\\anaconda3\\Lib\\site-packages\\sklearn\\cluster\\_kmeans.py:1446: UserWarning: KMeans is known to have a memory leak on Windows with MKL, when there are less chunks than available threads. You can avoid it by setting the environment variable OMP_NUM_THREADS=1.\n",
      "  warnings.warn(\n"
     ]
    },
    {
     "data": {
      "text/plain": [
       "(76.85131986999252, 75.06261242745386)"
      ]
     },
     "execution_count": 9,
     "metadata": {},
     "output_type": "execute_result"
    }
   ],
   "execution_count": 9
  },
  {
   "cell_type": "markdown",
   "id": "d64b1013",
   "metadata": {
    "id": "d64b1013"
   },
   "source": [
    "Note that `kmeans.inertia_` is the total within-cluster sum\n",
    "of squares, which we seek to minimize by performing $K$-means\n",
    "clustering\n",
    "\n",
    "We *strongly* recommend always running $K$-means clustering with\n",
    "a large value of `n_init`, such as 20 or 50, since otherwise an\n",
    "undesirable local optimum may be obtained.\n",
    "\n",
    "When performing $K$-means clustering, in addition to using multiple\n",
    "initial cluster assignments, it is also important to set a random seed\n",
    "using the `random_state` argument to `KMeans()`. This way, the initial\n",
    "cluster assignments in Step 1 can be replicated, and the $K$-means\n",
    "output will be fully reproducible."
   ]
  },
  {
   "cell_type": "markdown",
   "source": [
    "# Activity: K-Means Clustering on the Iris Dataset\n"
   ],
   "metadata": {
    "id": "oEC49iW218LX"
   },
   "id": "oEC49iW218LX"
  },
  {
   "cell_type": "markdown",
   "source": [
    "Apply the `K-Means` clustering algorithm to the Iris dataset and analyze the results. The goal is to group the Iris flower species based on the four features: `sepal length`, `sepal width`, `petal length`, and `petal width`."
   ],
   "metadata": {
    "id": "-gGO4Wmd1-GJ"
   },
   "id": "-gGO4Wmd1-GJ"
  },
  {
   "cell_type": "markdown",
   "source": [
    "- Load the Iris Dataset:\n",
    "\n",
    "Begin by loading the Iris dataset, which contains 150 samples and 4 features for each sample."
   ],
   "metadata": {
    "id": "wNK0BKZT2KN7"
   },
   "id": "wNK0BKZT2KN7"
  },
  {
   "cell_type": "code",
   "source": [
    "from sklearn.datasets import load_iris\n",
    "import pandas as pd\n",
    "\n",
    "iris = load_iris()\n",
    "X = pd.DataFrame(iris.data, columns=iris.feature_names)"
   ],
   "metadata": {
    "id": "wY6yJctb17d-",
    "ExecuteTime": {
     "end_time": "2024-12-04T10:18:22.281786Z",
     "start_time": "2024-12-04T10:18:22.221960Z"
    }
   },
   "id": "wY6yJctb17d-",
   "outputs": [],
   "execution_count": 10
  },
  {
   "metadata": {
    "ExecuteTime": {
     "end_time": "2024-12-04T10:09:53.217317Z",
     "start_time": "2024-12-04T10:09:53.214234Z"
    }
   },
   "cell_type": "code",
   "source": "X.shape",
   "id": "2bac71d15925d544",
   "outputs": [
    {
     "data": {
      "text/plain": [
       "(150, 4)"
      ]
     },
     "execution_count": 24,
     "metadata": {},
     "output_type": "execute_result"
    }
   ],
   "execution_count": 24
  },
  {
   "cell_type": "markdown",
   "source": [
    "Question: What are the features in the Iris dataset? How many samples are in the dataset?\n",
    "\n",
    "**Answer: The Iris dataset contains 4 features: sepal length, sepal width, petal length, and petal width. There are 150 samples in the dataset.**\n"
   ],
   "metadata": {
    "id": "F7mVsUaz2iyF"
   },
   "id": "F7mVsUaz2iyF"
  },
  {
   "cell_type": "code",
   "source": [
    "## Write your answer here\n",
    "kmeans = KMeans(n_clusters=3,\n",
    "                random_state=3,\n",
    "                n_init=20).fit(X)\n",
    "\n",
    "fig, ax = plt.subplots(figsize=(8, 8))\n",
    "ax.scatter(X[:, 0], X[:, 1], c=kmeans.labels_)\n",
    "ax.set_title(\"K-Means Clustering Results with K=3\")\n"
   ],
   "metadata": {
    "id": "3iS7FXAW2lRe",
    "ExecuteTime": {
     "end_time": "2024-12-04T10:14:48.513464Z",
     "start_time": "2024-12-04T10:14:47.963305Z"
    }
   },
   "id": "3iS7FXAW2lRe",
   "outputs": [
    {
     "name": "stderr",
     "output_type": "stream",
     "text": [
      "C:\\Users\\4311779\\AppData\\Local\\anaconda3\\Lib\\site-packages\\sklearn\\cluster\\_kmeans.py:1446: UserWarning: KMeans is known to have a memory leak on Windows with MKL, when there are less chunks than available threads. You can avoid it by setting the environment variable OMP_NUM_THREADS=1.\n",
      "  warnings.warn(\n"
     ]
    },
    {
     "ename": "InvalidIndexError",
     "evalue": "(slice(None, None, None), 0)",
     "output_type": "error",
     "traceback": [
      "\u001B[1;31m---------------------------------------------------------------------------\u001B[0m",
      "\u001B[1;31mKeyError\u001B[0m                                  Traceback (most recent call last)",
      "File \u001B[1;32m~\\AppData\\Local\\anaconda3\\Lib\\site-packages\\pandas\\core\\indexes\\base.py:3805\u001B[0m, in \u001B[0;36mIndex.get_loc\u001B[1;34m(self, key)\u001B[0m\n\u001B[0;32m   3804\u001B[0m \u001B[38;5;28;01mtry\u001B[39;00m:\n\u001B[1;32m-> 3805\u001B[0m     \u001B[38;5;28;01mreturn\u001B[39;00m \u001B[38;5;28mself\u001B[39m\u001B[38;5;241m.\u001B[39m_engine\u001B[38;5;241m.\u001B[39mget_loc(casted_key)\n\u001B[0;32m   3806\u001B[0m \u001B[38;5;28;01mexcept\u001B[39;00m \u001B[38;5;167;01mKeyError\u001B[39;00m \u001B[38;5;28;01mas\u001B[39;00m err:\n",
      "File \u001B[1;32mindex.pyx:167\u001B[0m, in \u001B[0;36mpandas._libs.index.IndexEngine.get_loc\u001B[1;34m()\u001B[0m\n",
      "File \u001B[1;32mindex.pyx:196\u001B[0m, in \u001B[0;36mpandas._libs.index.IndexEngine.get_loc\u001B[1;34m()\u001B[0m\n",
      "File \u001B[1;32mpandas\\\\_libs\\\\hashtable_class_helper.pxi:7081\u001B[0m, in \u001B[0;36mpandas._libs.hashtable.PyObjectHashTable.get_item\u001B[1;34m()\u001B[0m\n",
      "File \u001B[1;32mpandas\\\\_libs\\\\hashtable_class_helper.pxi:7089\u001B[0m, in \u001B[0;36mpandas._libs.hashtable.PyObjectHashTable.get_item\u001B[1;34m()\u001B[0m\n",
      "\u001B[1;31mKeyError\u001B[0m: (slice(None, None, None), 0)",
      "\nDuring handling of the above exception, another exception occurred:\n",
      "\u001B[1;31mInvalidIndexError\u001B[0m                         Traceback (most recent call last)",
      "Cell \u001B[1;32mIn[26], line 7\u001B[0m\n\u001B[0;32m      2\u001B[0m kmeans \u001B[38;5;241m=\u001B[39m KMeans(n_clusters\u001B[38;5;241m=\u001B[39m\u001B[38;5;241m3\u001B[39m,\n\u001B[0;32m      3\u001B[0m                 random_state\u001B[38;5;241m=\u001B[39m\u001B[38;5;241m3\u001B[39m,\n\u001B[0;32m      4\u001B[0m                 n_init\u001B[38;5;241m=\u001B[39m\u001B[38;5;241m20\u001B[39m)\u001B[38;5;241m.\u001B[39mfit(X)\n\u001B[0;32m      6\u001B[0m fig, ax \u001B[38;5;241m=\u001B[39m plt\u001B[38;5;241m.\u001B[39msubplots(figsize\u001B[38;5;241m=\u001B[39m(\u001B[38;5;241m8\u001B[39m, \u001B[38;5;241m8\u001B[39m))\n\u001B[1;32m----> 7\u001B[0m ax\u001B[38;5;241m.\u001B[39mscatter(X[:, \u001B[38;5;241m0\u001B[39m], X[:, \u001B[38;5;241m1\u001B[39m], c\u001B[38;5;241m=\u001B[39mkmeans\u001B[38;5;241m.\u001B[39mlabels_)\n\u001B[0;32m      8\u001B[0m ax\u001B[38;5;241m.\u001B[39mset_title(\u001B[38;5;124m\"\u001B[39m\u001B[38;5;124mK-Means Clustering Results with K=3\u001B[39m\u001B[38;5;124m\"\u001B[39m)\n",
      "File \u001B[1;32m~\\AppData\\Local\\anaconda3\\Lib\\site-packages\\pandas\\core\\frame.py:4102\u001B[0m, in \u001B[0;36mDataFrame.__getitem__\u001B[1;34m(self, key)\u001B[0m\n\u001B[0;32m   4100\u001B[0m \u001B[38;5;28;01mif\u001B[39;00m \u001B[38;5;28mself\u001B[39m\u001B[38;5;241m.\u001B[39mcolumns\u001B[38;5;241m.\u001B[39mnlevels \u001B[38;5;241m>\u001B[39m \u001B[38;5;241m1\u001B[39m:\n\u001B[0;32m   4101\u001B[0m     \u001B[38;5;28;01mreturn\u001B[39;00m \u001B[38;5;28mself\u001B[39m\u001B[38;5;241m.\u001B[39m_getitem_multilevel(key)\n\u001B[1;32m-> 4102\u001B[0m indexer \u001B[38;5;241m=\u001B[39m \u001B[38;5;28mself\u001B[39m\u001B[38;5;241m.\u001B[39mcolumns\u001B[38;5;241m.\u001B[39mget_loc(key)\n\u001B[0;32m   4103\u001B[0m \u001B[38;5;28;01mif\u001B[39;00m is_integer(indexer):\n\u001B[0;32m   4104\u001B[0m     indexer \u001B[38;5;241m=\u001B[39m [indexer]\n",
      "File \u001B[1;32m~\\AppData\\Local\\anaconda3\\Lib\\site-packages\\pandas\\core\\indexes\\base.py:3811\u001B[0m, in \u001B[0;36mIndex.get_loc\u001B[1;34m(self, key)\u001B[0m\n\u001B[0;32m   3806\u001B[0m \u001B[38;5;28;01mexcept\u001B[39;00m \u001B[38;5;167;01mKeyError\u001B[39;00m \u001B[38;5;28;01mas\u001B[39;00m err:\n\u001B[0;32m   3807\u001B[0m     \u001B[38;5;28;01mif\u001B[39;00m \u001B[38;5;28misinstance\u001B[39m(casted_key, \u001B[38;5;28mslice\u001B[39m) \u001B[38;5;129;01mor\u001B[39;00m (\n\u001B[0;32m   3808\u001B[0m         \u001B[38;5;28misinstance\u001B[39m(casted_key, abc\u001B[38;5;241m.\u001B[39mIterable)\n\u001B[0;32m   3809\u001B[0m         \u001B[38;5;129;01mand\u001B[39;00m \u001B[38;5;28many\u001B[39m(\u001B[38;5;28misinstance\u001B[39m(x, \u001B[38;5;28mslice\u001B[39m) \u001B[38;5;28;01mfor\u001B[39;00m x \u001B[38;5;129;01min\u001B[39;00m casted_key)\n\u001B[0;32m   3810\u001B[0m     ):\n\u001B[1;32m-> 3811\u001B[0m         \u001B[38;5;28;01mraise\u001B[39;00m InvalidIndexError(key)\n\u001B[0;32m   3812\u001B[0m     \u001B[38;5;28;01mraise\u001B[39;00m \u001B[38;5;167;01mKeyError\u001B[39;00m(key) \u001B[38;5;28;01mfrom\u001B[39;00m \u001B[38;5;21;01merr\u001B[39;00m\n\u001B[0;32m   3813\u001B[0m \u001B[38;5;28;01mexcept\u001B[39;00m \u001B[38;5;167;01mTypeError\u001B[39;00m:\n\u001B[0;32m   3814\u001B[0m     \u001B[38;5;66;03m# If we have a listlike key, _check_indexing_error will raise\u001B[39;00m\n\u001B[0;32m   3815\u001B[0m     \u001B[38;5;66;03m#  InvalidIndexError. Otherwise we fall through and re-raise\u001B[39;00m\n\u001B[0;32m   3816\u001B[0m     \u001B[38;5;66;03m#  the TypeError.\u001B[39;00m\n",
      "\u001B[1;31mInvalidIndexError\u001B[0m: (slice(None, None, None), 0)"
     ]
    },
    {
     "data": {
      "text/plain": [
       "<Figure size 800x800 with 1 Axes>"
      ],
      "image/png": "[encoded data removed]"
     },
     "metadata": {},
     "output_type": "display_data"
    }
   ],
   "execution_count": 26
  },
  {
   "cell_type": "markdown",
   "source": [
    "- Apply K-Means Clustering: Use K-Means clustering with\n",
    "𝑘\n",
    "=3\n",
    "k=3 to group the flowers into 3 clusters (since there are 3 species in the dataset)."
   ],
   "metadata": {
    "id": "ZAEJsv1I2otn"
   },
   "id": "ZAEJsv1I2otn"
  },
  {
   "cell_type": "code",
   "source": "## Write your answer here",
   "metadata": {
    "id": "NbuP9srd2RFh",
    "ExecuteTime": {
     "end_time": "2024-12-04T10:08:40.078547Z",
     "start_time": "2024-12-04T10:08:40.076268Z"
    }
   },
   "id": "NbuP9srd2RFh",
   "outputs": [],
   "execution_count": 19
  },
  {
   "cell_type": "markdown",
   "source": [
    "- Get Cluster Labels: After fitting the K-Means model, get the cluster labels for each observation."
   ],
   "metadata": {
    "id": "MgppOEVA2ycX"
   },
   "id": "MgppOEVA2ycX"
  },
  {
   "cell_type": "code",
   "source": "cluster_labels = kmeans.labels_",
   "metadata": {
    "id": "JJ761ogH3Fta",
    "ExecuteTime": {
     "end_time": "2024-12-04T10:08:40.087939Z",
     "start_time": "2024-12-04T10:08:40.085528Z"
    }
   },
   "id": "JJ761ogH3Fta",
   "outputs": [],
   "execution_count": 20
  },
  {
   "cell_type": "markdown",
   "source": [
    "Question: What do the cluster labels represent? How can we use them to analyze the grouping of data?"
   ],
   "metadata": {
    "id": "GFnaD4Y23Huf"
   },
   "id": "GFnaD4Y23Huf"
  },
  {
   "cell_type": "markdown",
   "source": [
    "write your answer here ..."
   ],
   "metadata": {
    "id": "0jMXrddl3T1e"
   },
   "id": "0jMXrddl3T1e"
  },
  {
   "cell_type": "markdown",
   "source": [
    "- Visualize the Clusters: Visualize the clustering results by plotting the first two features: sepal length and sepal width."
   ],
   "metadata": {
    "id": "jfnA3r9_3Ysd"
   },
   "id": "jfnA3r9_3Ysd"
  },
  {
   "cell_type": "code",
   "source": [
    "import matplotlib.pyplot as plt\n",
    "import seaborn as sns\n",
    "\n",
    "X['Cluster'] = cluster_labels\n",
    "sns.scatterplot(data=X, x='sepal length (cm)', y='sepal width (cm)', hue='Cluster', palette='Set2')\n",
    "plt.title('K-Means Clustering on the Iris Dataset')\n",
    "plt.show()"
   ],
   "metadata": {
    "id": "t0BZFNjm3XnC",
    "ExecuteTime": {
     "end_time": "2024-12-04T10:08:40.559485Z",
     "start_time": "2024-12-04T10:08:40.094808Z"
    }
   },
   "id": "t0BZFNjm3XnC",
   "outputs": [
    {
     "ename": "ValueError",
     "evalue": "Length of values (50) does not match length of index (150)",
     "output_type": "error",
     "traceback": [
      "\u001B[1;31m---------------------------------------------------------------------------\u001B[0m",
      "\u001B[1;31mValueError\u001B[0m                                Traceback (most recent call last)",
      "Cell \u001B[1;32mIn[21], line 4\u001B[0m\n\u001B[0;32m      1\u001B[0m \u001B[38;5;28;01mimport\u001B[39;00m \u001B[38;5;21;01mmatplotlib\u001B[39;00m\u001B[38;5;21;01m.\u001B[39;00m\u001B[38;5;21;01mpyplot\u001B[39;00m \u001B[38;5;28;01mas\u001B[39;00m \u001B[38;5;21;01mplt\u001B[39;00m\n\u001B[0;32m      2\u001B[0m \u001B[38;5;28;01mimport\u001B[39;00m \u001B[38;5;21;01mseaborn\u001B[39;00m \u001B[38;5;28;01mas\u001B[39;00m \u001B[38;5;21;01msns\u001B[39;00m\n\u001B[1;32m----> 4\u001B[0m X[\u001B[38;5;124m'\u001B[39m\u001B[38;5;124mCluster\u001B[39m\u001B[38;5;124m'\u001B[39m] \u001B[38;5;241m=\u001B[39m cluster_labels\n\u001B[0;32m      5\u001B[0m sns\u001B[38;5;241m.\u001B[39mscatterplot(data\u001B[38;5;241m=\u001B[39mX, x\u001B[38;5;241m=\u001B[39m\u001B[38;5;124m'\u001B[39m\u001B[38;5;124msepal length (cm)\u001B[39m\u001B[38;5;124m'\u001B[39m, y\u001B[38;5;241m=\u001B[39m\u001B[38;5;124m'\u001B[39m\u001B[38;5;124msepal width (cm)\u001B[39m\u001B[38;5;124m'\u001B[39m, hue\u001B[38;5;241m=\u001B[39m\u001B[38;5;124m'\u001B[39m\u001B[38;5;124mCluster\u001B[39m\u001B[38;5;124m'\u001B[39m, palette\u001B[38;5;241m=\u001B[39m\u001B[38;5;124m'\u001B[39m\u001B[38;5;124mSet2\u001B[39m\u001B[38;5;124m'\u001B[39m)\n\u001B[0;32m      6\u001B[0m plt\u001B[38;5;241m.\u001B[39mtitle(\u001B[38;5;124m'\u001B[39m\u001B[38;5;124mK-Means Clustering on the Iris Dataset\u001B[39m\u001B[38;5;124m'\u001B[39m)\n",
      "File \u001B[1;32m~\\AppData\\Local\\anaconda3\\Lib\\site-packages\\pandas\\core\\frame.py:4311\u001B[0m, in \u001B[0;36mDataFrame.__setitem__\u001B[1;34m(self, key, value)\u001B[0m\n\u001B[0;32m   4308\u001B[0m     \u001B[38;5;28mself\u001B[39m\u001B[38;5;241m.\u001B[39m_setitem_array([key], value)\n\u001B[0;32m   4309\u001B[0m \u001B[38;5;28;01melse\u001B[39;00m:\n\u001B[0;32m   4310\u001B[0m     \u001B[38;5;66;03m# set column\u001B[39;00m\n\u001B[1;32m-> 4311\u001B[0m     \u001B[38;5;28mself\u001B[39m\u001B[38;5;241m.\u001B[39m_set_item(key, value)\n",
      "File \u001B[1;32m~\\AppData\\Local\\anaconda3\\Lib\\site-packages\\pandas\\core\\frame.py:4524\u001B[0m, in \u001B[0;36mDataFrame._set_item\u001B[1;34m(self, key, value)\u001B[0m\n\u001B[0;32m   4514\u001B[0m \u001B[38;5;28;01mdef\u001B[39;00m \u001B[38;5;21m_set_item\u001B[39m(\u001B[38;5;28mself\u001B[39m, key, value) \u001B[38;5;241m-\u001B[39m\u001B[38;5;241m>\u001B[39m \u001B[38;5;28;01mNone\u001B[39;00m:\n\u001B[0;32m   4515\u001B[0m \u001B[38;5;250m    \u001B[39m\u001B[38;5;124;03m\"\"\"\u001B[39;00m\n\u001B[0;32m   4516\u001B[0m \u001B[38;5;124;03m    Add series to DataFrame in specified column.\u001B[39;00m\n\u001B[0;32m   4517\u001B[0m \n\u001B[1;32m   (...)\u001B[0m\n\u001B[0;32m   4522\u001B[0m \u001B[38;5;124;03m    ensure homogeneity.\u001B[39;00m\n\u001B[0;32m   4523\u001B[0m \u001B[38;5;124;03m    \"\"\"\u001B[39;00m\n\u001B[1;32m-> 4524\u001B[0m     value, refs \u001B[38;5;241m=\u001B[39m \u001B[38;5;28mself\u001B[39m\u001B[38;5;241m.\u001B[39m_sanitize_column(value)\n\u001B[0;32m   4526\u001B[0m     \u001B[38;5;28;01mif\u001B[39;00m (\n\u001B[0;32m   4527\u001B[0m         key \u001B[38;5;129;01min\u001B[39;00m \u001B[38;5;28mself\u001B[39m\u001B[38;5;241m.\u001B[39mcolumns\n\u001B[0;32m   4528\u001B[0m         \u001B[38;5;129;01mand\u001B[39;00m value\u001B[38;5;241m.\u001B[39mndim \u001B[38;5;241m==\u001B[39m \u001B[38;5;241m1\u001B[39m\n\u001B[0;32m   4529\u001B[0m         \u001B[38;5;129;01mand\u001B[39;00m \u001B[38;5;129;01mnot\u001B[39;00m \u001B[38;5;28misinstance\u001B[39m(value\u001B[38;5;241m.\u001B[39mdtype, ExtensionDtype)\n\u001B[0;32m   4530\u001B[0m     ):\n\u001B[0;32m   4531\u001B[0m         \u001B[38;5;66;03m# broadcast across multiple columns if necessary\u001B[39;00m\n\u001B[0;32m   4532\u001B[0m         \u001B[38;5;28;01mif\u001B[39;00m \u001B[38;5;129;01mnot\u001B[39;00m \u001B[38;5;28mself\u001B[39m\u001B[38;5;241m.\u001B[39mcolumns\u001B[38;5;241m.\u001B[39mis_unique \u001B[38;5;129;01mor\u001B[39;00m \u001B[38;5;28misinstance\u001B[39m(\u001B[38;5;28mself\u001B[39m\u001B[38;5;241m.\u001B[39mcolumns, MultiIndex):\n",
      "File \u001B[1;32m~\\AppData\\Local\\anaconda3\\Lib\\site-packages\\pandas\\core\\frame.py:5266\u001B[0m, in \u001B[0;36mDataFrame._sanitize_column\u001B[1;34m(self, value)\u001B[0m\n\u001B[0;32m   5263\u001B[0m     \u001B[38;5;28;01mreturn\u001B[39;00m _reindex_for_setitem(value, \u001B[38;5;28mself\u001B[39m\u001B[38;5;241m.\u001B[39mindex)\n\u001B[0;32m   5265\u001B[0m \u001B[38;5;28;01mif\u001B[39;00m is_list_like(value):\n\u001B[1;32m-> 5266\u001B[0m     com\u001B[38;5;241m.\u001B[39mrequire_length_match(value, \u001B[38;5;28mself\u001B[39m\u001B[38;5;241m.\u001B[39mindex)\n\u001B[0;32m   5267\u001B[0m arr \u001B[38;5;241m=\u001B[39m sanitize_array(value, \u001B[38;5;28mself\u001B[39m\u001B[38;5;241m.\u001B[39mindex, copy\u001B[38;5;241m=\u001B[39m\u001B[38;5;28;01mTrue\u001B[39;00m, allow_2d\u001B[38;5;241m=\u001B[39m\u001B[38;5;28;01mTrue\u001B[39;00m)\n\u001B[0;32m   5268\u001B[0m \u001B[38;5;28;01mif\u001B[39;00m (\n\u001B[0;32m   5269\u001B[0m     \u001B[38;5;28misinstance\u001B[39m(value, Index)\n\u001B[0;32m   5270\u001B[0m     \u001B[38;5;129;01mand\u001B[39;00m value\u001B[38;5;241m.\u001B[39mdtype \u001B[38;5;241m==\u001B[39m \u001B[38;5;124m\"\u001B[39m\u001B[38;5;124mobject\u001B[39m\u001B[38;5;124m\"\u001B[39m\n\u001B[1;32m   (...)\u001B[0m\n\u001B[0;32m   5273\u001B[0m     \u001B[38;5;66;03m# TODO: Remove kludge in sanitize_array for string mode when enforcing\u001B[39;00m\n\u001B[0;32m   5274\u001B[0m     \u001B[38;5;66;03m# this deprecation\u001B[39;00m\n",
      "File \u001B[1;32m~\\AppData\\Local\\anaconda3\\Lib\\site-packages\\pandas\\core\\common.py:573\u001B[0m, in \u001B[0;36mrequire_length_match\u001B[1;34m(data, index)\u001B[0m\n\u001B[0;32m    569\u001B[0m \u001B[38;5;250m\u001B[39m\u001B[38;5;124;03m\"\"\"\u001B[39;00m\n\u001B[0;32m    570\u001B[0m \u001B[38;5;124;03mCheck the length of data matches the length of the index.\u001B[39;00m\n\u001B[0;32m    571\u001B[0m \u001B[38;5;124;03m\"\"\"\u001B[39;00m\n\u001B[0;32m    572\u001B[0m \u001B[38;5;28;01mif\u001B[39;00m \u001B[38;5;28mlen\u001B[39m(data) \u001B[38;5;241m!=\u001B[39m \u001B[38;5;28mlen\u001B[39m(index):\n\u001B[1;32m--> 573\u001B[0m     \u001B[38;5;28;01mraise\u001B[39;00m \u001B[38;5;167;01mValueError\u001B[39;00m(\n\u001B[0;32m    574\u001B[0m         \u001B[38;5;124m\"\u001B[39m\u001B[38;5;124mLength of values \u001B[39m\u001B[38;5;124m\"\u001B[39m\n\u001B[0;32m    575\u001B[0m         \u001B[38;5;124mf\u001B[39m\u001B[38;5;124m\"\u001B[39m\u001B[38;5;124m(\u001B[39m\u001B[38;5;132;01m{\u001B[39;00m\u001B[38;5;28mlen\u001B[39m(data)\u001B[38;5;132;01m}\u001B[39;00m\u001B[38;5;124m) \u001B[39m\u001B[38;5;124m\"\u001B[39m\n\u001B[0;32m    576\u001B[0m         \u001B[38;5;124m\"\u001B[39m\u001B[38;5;124mdoes not match length of index \u001B[39m\u001B[38;5;124m\"\u001B[39m\n\u001B[0;32m    577\u001B[0m         \u001B[38;5;124mf\u001B[39m\u001B[38;5;124m\"\u001B[39m\u001B[38;5;124m(\u001B[39m\u001B[38;5;132;01m{\u001B[39;00m\u001B[38;5;28mlen\u001B[39m(index)\u001B[38;5;132;01m}\u001B[39;00m\u001B[38;5;124m)\u001B[39m\u001B[38;5;124m\"\u001B[39m\n\u001B[0;32m    578\u001B[0m     )\n",
      "\u001B[1;31mValueError\u001B[0m: Length of values (50) does not match length of index (150)"
     ]
    }
   ],
   "execution_count": 21
  },
  {
   "cell_type": "markdown",
   "source": [
    "Question: write your obesrvation.."
   ],
   "metadata": {
    "id": "Yk2lfJZ_3f-T"
   },
   "id": "Yk2lfJZ_3f-T"
  },
  {
   "cell_type": "markdown",
   "source": [
    "- Compare with True Labels: Compare the clustering results (labels) with the true species labels from the dataset."
   ],
   "metadata": {
    "id": "xi5l9X9y30Dk"
   },
   "id": "xi5l9X9y30Dk"
  },
  {
   "cell_type": "code",
   "source": [
    "true_labels = iris.target\n"
   ],
   "metadata": {
    "id": "IRz0Qmoi331S"
   },
   "id": "IRz0Qmoi331S",
   "execution_count": null,
   "outputs": []
  },
  {
   "cell_type": "markdown",
   "source": [
    "Question: How well do the K-Means clusters match the true species labels? What might explain any mismatches?"
   ],
   "metadata": {
    "id": "p2_dlOfB39n4"
   },
   "id": "p2_dlOfB39n4"
  },
  {
   "cell_type": "markdown",
   "id": "3d49b1de",
   "metadata": {
    "id": "3d49b1de"
   },
   "source": [
    "# Hierarchical Clustering\n",
    "\n",
    "The `AgglomerativeClustering()`  class from\n",
    "the `sklearn.clustering` package implements hierarchical clustering.\n",
    "As its\n",
    "name is long, we use the short hand `HClust` for *hierarchical clustering*. Note that this will not change the return type\n",
    "when using this method, so instances will still be of class `AgglomerativeClustering`.\n",
    "In the following example we use the data from the previous lab to plot the hierarchical clustering\n",
    "dendrogram using complete, single, and average linkage clustering\n",
    "with Euclidean distance as the dissimilarity measure.  We begin by\n",
    "clustering observations using complete linkage."
   ]
  },
  {
   "cell_type": "markdown",
   "source": [
    "# What is Linkage?\n",
    "Linkage decides how clusters are merged based on the distance between them:\n",
    "- Complete Linkage: Merges clusters based on the farthest points in the two clusters.\n",
    "- Single Linkage: Merges clusters based on the closest points in the two clusters.\n",
    "- Average Linkage: Merges clusters based on the average distance between all points in the two clusters."
   ],
   "metadata": {
    "id": "MyEfWkV3M6RR"
   },
   "id": "MyEfWkV3M6RR"
  },
  {
   "cell_type": "code",
   "execution_count": 63,
   "id": "3a2d2b24",
   "metadata": {
    "colab": {
     "base_uri": "https://localhost:8080/",
     "height": 97
    },
    "id": "3a2d2b24",
    "outputId": "dc226a96-227d-462c-eed2-a42bda86cd93"
   },
   "outputs": [
    {
     "output_type": "execute_result",
     "data": {
      "text/plain": [
       "AgglomerativeClustering(distance_threshold=0, linkage='complete',\n",
       "                        n_clusters=None)"
      ],
      "text/html": [
       "<style>#sk-container-id-5 {\n",
       "  /* Definition of color scheme common for light and dark mode */\n",
       "  --sklearn-color-text: black;\n",
       "  --sklearn-color-line: gray;\n",
       "  /* Definition of color scheme for unfitted estimators */\n",
       "  --sklearn-color-unfitted-level-0: #fff5e6;\n",
       "  --sklearn-color-unfitted-level-1: #f6e4d2;\n",
       "  --sklearn-color-unfitted-level-2: #ffe0b3;\n",
       "  --sklearn-color-unfitted-level-3: chocolate;\n",
       "  /* Definition of color scheme for fitted estimators */\n",
       "  --sklearn-color-fitted-level-0: #f0f8ff;\n",
       "  --sklearn-color-fitted-level-1: #d4ebff;\n",
       "  --sklearn-color-fitted-level-2: #b3dbfd;\n",
       "  --sklearn-color-fitted-level-3: cornflowerblue;\n",
       "\n",
       "  /* Specific color for light theme */\n",
       "  --sklearn-color-text-on-default-background: var(--sg-text-color, var(--theme-code-foreground, var(--jp-content-font-color1, black)));\n",
       "  --sklearn-color-background: var(--sg-background-color, var(--theme-background, var(--jp-layout-color0, white)));\n",
       "  --sklearn-color-border-box: var(--sg-text-color, var(--theme-code-foreground, var(--jp-content-font-color1, black)));\n",
       "  --sklearn-color-icon: #696969;\n",
       "\n",
       "  @media (prefers-color-scheme: dark) {\n",
       "    /* Redefinition of color scheme for dark theme */\n",
       "    --sklearn-color-text-on-default-background: var(--sg-text-color, var(--theme-code-foreground, var(--jp-content-font-color1, white)));\n",
       "    --sklearn-color-background: var(--sg-background-color, var(--theme-background, var(--jp-layout-color0, #111)));\n",
       "    --sklearn-color-border-box: var(--sg-text-color, var(--theme-code-foreground, var(--jp-content-font-color1, white)));\n",
       "    --sklearn-color-icon: #878787;\n",
       "  }\n",
       "}\n",
       "\n",
       "#sk-container-id-5 {\n",
       "  color: var(--sklearn-color-text);\n",
       "}\n",
       "\n",
       "#sk-container-id-5 pre {\n",
       "  padding: 0;\n",
       "}\n",
       "\n",
       "#sk-container-id-5 input.sk-hidden--visually {\n",
       "  border: 0;\n",
       "  clip: rect(1px 1px 1px 1px);\n",
       "  clip: rect(1px, 1px, 1px, 1px);\n",
       "  height: 1px;\n",
       "  margin: -1px;\n",
       "  overflow: hidden;\n",
       "  padding: 0;\n",
       "  position: absolute;\n",
       "  width: 1px;\n",
       "}\n",
       "\n",
       "#sk-container-id-5 div.sk-dashed-wrapped {\n",
       "  border: 1px dashed var(--sklearn-color-line);\n",
       "  margin: 0 0.4em 0.5em 0.4em;\n",
       "  box-sizing: border-box;\n",
       "  padding-bottom: 0.4em;\n",
       "  background-color: var(--sklearn-color-background);\n",
       "}\n",
       "\n",
       "#sk-container-id-5 div.sk-container {\n",
       "  /* jupyter's `normalize.less` sets `[hidden] { display: none; }`\n",
       "     but bootstrap.min.css set `[hidden] { display: none !important; }`\n",
       "     so we also need the `!important` here to be able to override the\n",
       "     default hidden behavior on the sphinx rendered scikit-learn.org.\n",
       "     See: https://github.com/scikit-learn/scikit-learn/issues/21755 */\n",
       "  display: inline-block !important;\n",
       "  position: relative;\n",
       "}\n",
       "\n",
       "#sk-container-id-5 div.sk-text-repr-fallback {\n",
       "  display: none;\n",
       "}\n",
       "\n",
       "div.sk-parallel-item,\n",
       "div.sk-serial,\n",
       "div.sk-item {\n",
       "  /* draw centered vertical line to link estimators */\n",
       "  background-image: linear-gradient(var(--sklearn-color-text-on-default-background), var(--sklearn-color-text-on-default-background));\n",
       "  background-size: 2px 100%;\n",
       "  background-repeat: no-repeat;\n",
       "  background-position: center center;\n",
       "}\n",
       "\n",
       "/* Parallel-specific style estimator block */\n",
       "\n",
       "#sk-container-id-5 div.sk-parallel-item::after {\n",
       "  content: \"\";\n",
       "  width: 100%;\n",
       "  border-bottom: 2px solid var(--sklearn-color-text-on-default-background);\n",
       "  flex-grow: 1;\n",
       "}\n",
       "\n",
       "#sk-container-id-5 div.sk-parallel {\n",
       "  display: flex;\n",
       "  align-items: stretch;\n",
       "  justify-content: center;\n",
       "  background-color: var(--sklearn-color-background);\n",
       "  position: relative;\n",
       "}\n",
       "\n",
       "#sk-container-id-5 div.sk-parallel-item {\n",
       "  display: flex;\n",
       "  flex-direction: column;\n",
       "}\n",
       "\n",
       "#sk-container-id-5 div.sk-parallel-item:first-child::after {\n",
       "  align-self: flex-end;\n",
       "  width: 50%;\n",
       "}\n",
       "\n",
       "#sk-container-id-5 div.sk-parallel-item:last-child::after {\n",
       "  align-self: flex-start;\n",
       "  width: 50%;\n",
       "}\n",
       "\n",
       "#sk-container-id-5 div.sk-parallel-item:only-child::after {\n",
       "  width: 0;\n",
       "}\n",
       "\n",
       "/* Serial-specific style estimator block */\n",
       "\n",
       "#sk-container-id-5 div.sk-serial {\n",
       "  display: flex;\n",
       "  flex-direction: column;\n",
       "  align-items: center;\n",
       "  background-color: var(--sklearn-color-background);\n",
       "  padding-right: 1em;\n",
       "  padding-left: 1em;\n",
       "}\n",
       "\n",
       "\n",
       "/* Toggleable style: style used for estimator/Pipeline/ColumnTransformer box that is\n",
       "clickable and can be expanded/collapsed.\n",
       "- Pipeline and ColumnTransformer use this feature and define the default style\n",
       "- Estimators will overwrite some part of the style using the `sk-estimator` class\n",
       "*/\n",
       "\n",
       "/* Pipeline and ColumnTransformer style (default) */\n",
       "\n",
       "#sk-container-id-5 div.sk-toggleable {\n",
       "  /* Default theme specific background. It is overwritten whether we have a\n",
       "  specific estimator or a Pipeline/ColumnTransformer */\n",
       "  background-color: var(--sklearn-color-background);\n",
       "}\n",
       "\n",
       "/* Toggleable label */\n",
       "#sk-container-id-5 label.sk-toggleable__label {\n",
       "  cursor: pointer;\n",
       "  display: block;\n",
       "  width: 100%;\n",
       "  margin-bottom: 0;\n",
       "  padding: 0.5em;\n",
       "  box-sizing: border-box;\n",
       "  text-align: center;\n",
       "}\n",
       "\n",
       "#sk-container-id-5 label.sk-toggleable__label-arrow:before {\n",
       "  /* Arrow on the left of the label */\n",
       "  content: \"▸\";\n",
       "  float: left;\n",
       "  margin-right: 0.25em;\n",
       "  color: var(--sklearn-color-icon);\n",
       "}\n",
       "\n",
       "#sk-container-id-5 label.sk-toggleable__label-arrow:hover:before {\n",
       "  color: var(--sklearn-color-text);\n",
       "}\n",
       "\n",
       "/* Toggleable content - dropdown */\n",
       "\n",
       "#sk-container-id-5 div.sk-toggleable__content {\n",
       "  max-height: 0;\n",
       "  max-width: 0;\n",
       "  overflow: hidden;\n",
       "  text-align: left;\n",
       "  /* unfitted */\n",
       "  background-color: var(--sklearn-color-unfitted-level-0);\n",
       "}\n",
       "\n",
       "#sk-container-id-5 div.sk-toggleable__content.fitted {\n",
       "  /* fitted */\n",
       "  background-color: var(--sklearn-color-fitted-level-0);\n",
       "}\n",
       "\n",
       "#sk-container-id-5 div.sk-toggleable__content pre {\n",
       "  margin: 0.2em;\n",
       "  border-radius: 0.25em;\n",
       "  color: var(--sklearn-color-text);\n",
       "  /* unfitted */\n",
       "  background-color: var(--sklearn-color-unfitted-level-0);\n",
       "}\n",
       "\n",
       "#sk-container-id-5 div.sk-toggleable__content.fitted pre {\n",
       "  /* unfitted */\n",
       "  background-color: var(--sklearn-color-fitted-level-0);\n",
       "}\n",
       "\n",
       "#sk-container-id-5 input.sk-toggleable__control:checked~div.sk-toggleable__content {\n",
       "  /* Expand drop-down */\n",
       "  max-height: 200px;\n",
       "  max-width: 100%;\n",
       "  overflow: auto;\n",
       "}\n",
       "\n",
       "#sk-container-id-5 input.sk-toggleable__control:checked~label.sk-toggleable__label-arrow:before {\n",
       "  content: \"▾\";\n",
       "}\n",
       "\n",
       "/* Pipeline/ColumnTransformer-specific style */\n",
       "\n",
       "#sk-container-id-5 div.sk-label input.sk-toggleable__control:checked~label.sk-toggleable__label {\n",
       "  color: var(--sklearn-color-text);\n",
       "  background-color: var(--sklearn-color-unfitted-level-2);\n",
       "}\n",
       "\n",
       "#sk-container-id-5 div.sk-label.fitted input.sk-toggleable__control:checked~label.sk-toggleable__label {\n",
       "  background-color: var(--sklearn-color-fitted-level-2);\n",
       "}\n",
       "\n",
       "/* Estimator-specific style */\n",
       "\n",
       "/* Colorize estimator box */\n",
       "#sk-container-id-5 div.sk-estimator input.sk-toggleable__control:checked~label.sk-toggleable__label {\n",
       "  /* unfitted */\n",
       "  background-color: var(--sklearn-color-unfitted-level-2);\n",
       "}\n",
       "\n",
       "#sk-container-id-5 div.sk-estimator.fitted input.sk-toggleable__control:checked~label.sk-toggleable__label {\n",
       "  /* fitted */\n",
       "  background-color: var(--sklearn-color-fitted-level-2);\n",
       "}\n",
       "\n",
       "#sk-container-id-5 div.sk-label label.sk-toggleable__label,\n",
       "#sk-container-id-5 div.sk-label label {\n",
       "  /* The background is the default theme color */\n",
       "  color: var(--sklearn-color-text-on-default-background);\n",
       "}\n",
       "\n",
       "/* On hover, darken the color of the background */\n",
       "#sk-container-id-5 div.sk-label:hover label.sk-toggleable__label {\n",
       "  color: var(--sklearn-color-text);\n",
       "  background-color: var(--sklearn-color-unfitted-level-2);\n",
       "}\n",
       "\n",
       "/* Label box, darken color on hover, fitted */\n",
       "#sk-container-id-5 div.sk-label.fitted:hover label.sk-toggleable__label.fitted {\n",
       "  color: var(--sklearn-color-text);\n",
       "  background-color: var(--sklearn-color-fitted-level-2);\n",
       "}\n",
       "\n",
       "/* Estimator label */\n",
       "\n",
       "#sk-container-id-5 div.sk-label label {\n",
       "  font-family: monospace;\n",
       "  font-weight: bold;\n",
       "  display: inline-block;\n",
       "  line-height: 1.2em;\n",
       "}\n",
       "\n",
       "#sk-container-id-5 div.sk-label-container {\n",
       "  text-align: center;\n",
       "}\n",
       "\n",
       "/* Estimator-specific */\n",
       "#sk-container-id-5 div.sk-estimator {\n",
       "  font-family: monospace;\n",
       "  border: 1px dotted var(--sklearn-color-border-box);\n",
       "  border-radius: 0.25em;\n",
       "  box-sizing: border-box;\n",
       "  margin-bottom: 0.5em;\n",
       "  /* unfitted */\n",
       "  background-color: var(--sklearn-color-unfitted-level-0);\n",
       "}\n",
       "\n",
       "#sk-container-id-5 div.sk-estimator.fitted {\n",
       "  /* fitted */\n",
       "  background-color: var(--sklearn-color-fitted-level-0);\n",
       "}\n",
       "\n",
       "/* on hover */\n",
       "#sk-container-id-5 div.sk-estimator:hover {\n",
       "  /* unfitted */\n",
       "  background-color: var(--sklearn-color-unfitted-level-2);\n",
       "}\n",
       "\n",
       "#sk-container-id-5 div.sk-estimator.fitted:hover {\n",
       "  /* fitted */\n",
       "  background-color: var(--sklearn-color-fitted-level-2);\n",
       "}\n",
       "\n",
       "/* Specification for estimator info (e.g. \"i\" and \"?\") */\n",
       "\n",
       "/* Common style for \"i\" and \"?\" */\n",
       "\n",
       ".sk-estimator-doc-link,\n",
       "a:link.sk-estimator-doc-link,\n",
       "a:visited.sk-estimator-doc-link {\n",
       "  float: right;\n",
       "  font-size: smaller;\n",
       "  line-height: 1em;\n",
       "  font-family: monospace;\n",
       "  background-color: var(--sklearn-color-background);\n",
       "  border-radius: 1em;\n",
       "  height: 1em;\n",
       "  width: 1em;\n",
       "  text-decoration: none !important;\n",
       "  margin-left: 1ex;\n",
       "  /* unfitted */\n",
       "  border: var(--sklearn-color-unfitted-level-1) 1pt solid;\n",
       "  color: var(--sklearn-color-unfitted-level-1);\n",
       "}\n",
       "\n",
       ".sk-estimator-doc-link.fitted,\n",
       "a:link.sk-estimator-doc-link.fitted,\n",
       "a:visited.sk-estimator-doc-link.fitted {\n",
       "  /* fitted */\n",
       "  border: var(--sklearn-color-fitted-level-1) 1pt solid;\n",
       "  color: var(--sklearn-color-fitted-level-1);\n",
       "}\n",
       "\n",
       "/* On hover */\n",
       "div.sk-estimator:hover .sk-estimator-doc-link:hover,\n",
       ".sk-estimator-doc-link:hover,\n",
       "div.sk-label-container:hover .sk-estimator-doc-link:hover,\n",
       ".sk-estimator-doc-link:hover {\n",
       "  /* unfitted */\n",
       "  background-color: var(--sklearn-color-unfitted-level-3);\n",
       "  color: var(--sklearn-color-background);\n",
       "  text-decoration: none;\n",
       "}\n",
       "\n",
       "div.sk-estimator.fitted:hover .sk-estimator-doc-link.fitted:hover,\n",
       ".sk-estimator-doc-link.fitted:hover,\n",
       "div.sk-label-container:hover .sk-estimator-doc-link.fitted:hover,\n",
       ".sk-estimator-doc-link.fitted:hover {\n",
       "  /* fitted */\n",
       "  background-color: var(--sklearn-color-fitted-level-3);\n",
       "  color: var(--sklearn-color-background);\n",
       "  text-decoration: none;\n",
       "}\n",
       "\n",
       "/* Span, style for the box shown on hovering the info icon */\n",
       ".sk-estimator-doc-link span {\n",
       "  display: none;\n",
       "  z-index: 9999;\n",
       "  position: relative;\n",
       "  font-weight: normal;\n",
       "  right: .2ex;\n",
       "  padding: .5ex;\n",
       "  margin: .5ex;\n",
       "  width: min-content;\n",
       "  min-width: 20ex;\n",
       "  max-width: 50ex;\n",
       "  color: var(--sklearn-color-text);\n",
       "  box-shadow: 2pt 2pt 4pt #999;\n",
       "  /* unfitted */\n",
       "  background: var(--sklearn-color-unfitted-level-0);\n",
       "  border: .5pt solid var(--sklearn-color-unfitted-level-3);\n",
       "}\n",
       "\n",
       ".sk-estimator-doc-link.fitted span {\n",
       "  /* fitted */\n",
       "  background: var(--sklearn-color-fitted-level-0);\n",
       "  border: var(--sklearn-color-fitted-level-3);\n",
       "}\n",
       "\n",
       ".sk-estimator-doc-link:hover span {\n",
       "  display: block;\n",
       "}\n",
       "\n",
       "/* \"?\"-specific style due to the `<a>` HTML tag */\n",
       "\n",
       "#sk-container-id-5 a.estimator_doc_link {\n",
       "  float: right;\n",
       "  font-size: 1rem;\n",
       "  line-height: 1em;\n",
       "  font-family: monospace;\n",
       "  background-color: var(--sklearn-color-background);\n",
       "  border-radius: 1rem;\n",
       "  height: 1rem;\n",
       "  width: 1rem;\n",
       "  text-decoration: none;\n",
       "  /* unfitted */\n",
       "  color: var(--sklearn-color-unfitted-level-1);\n",
       "  border: var(--sklearn-color-unfitted-level-1) 1pt solid;\n",
       "}\n",
       "\n",
       "#sk-container-id-5 a.estimator_doc_link.fitted {\n",
       "  /* fitted */\n",
       "  border: var(--sklearn-color-fitted-level-1) 1pt solid;\n",
       "  color: var(--sklearn-color-fitted-level-1);\n",
       "}\n",
       "\n",
       "/* On hover */\n",
       "#sk-container-id-5 a.estimator_doc_link:hover {\n",
       "  /* unfitted */\n",
       "  background-color: var(--sklearn-color-unfitted-level-3);\n",
       "  color: var(--sklearn-color-background);\n",
       "  text-decoration: none;\n",
       "}\n",
       "\n",
       "#sk-container-id-5 a.estimator_doc_link.fitted:hover {\n",
       "  /* fitted */\n",
       "  background-color: var(--sklearn-color-fitted-level-3);\n",
       "}\n",
       "</style><div id=\"sk-container-id-5\" class=\"sk-top-container\"><div class=\"sk-text-repr-fallback\"><pre>AgglomerativeClustering(distance_threshold=0, linkage=&#x27;complete&#x27;,\n",
       "                        n_clusters=None)</pre><b>In a Jupyter environment, please rerun this cell to show the HTML representation or trust the notebook. <br />On GitHub, the HTML representation is unable to render, please try loading this page with nbviewer.org.</b></div><div class=\"sk-container\" hidden><div class=\"sk-item\"><div class=\"sk-estimator fitted sk-toggleable\"><input class=\"sk-toggleable__control sk-hidden--visually\" id=\"sk-estimator-id-5\" type=\"checkbox\" checked><label for=\"sk-estimator-id-5\" class=\"sk-toggleable__label fitted sk-toggleable__label-arrow fitted\">&nbsp;&nbsp;AgglomerativeClustering<a class=\"sk-estimator-doc-link fitted\" rel=\"noreferrer\" target=\"_blank\" href=\"https://scikit-learn.org/1.5/modules/generated/sklearn.cluster.AgglomerativeClustering.html\">?<span>Documentation for AgglomerativeClustering</span></a><span class=\"sk-estimator-doc-link fitted\">i<span>Fitted</span></span></label><div class=\"sk-toggleable__content fitted\"><pre>AgglomerativeClustering(distance_threshold=0, linkage=&#x27;complete&#x27;,\n",
       "                        n_clusters=None)</pre></div> </div></div></div></div>"
      ]
     },
     "metadata": {},
     "execution_count": 63
    }
   ],
   "source": [
    "HClust = AgglomerativeClustering\n",
    "hc_comp = HClust(distance_threshold=0,\n",
    "                 n_clusters=None,\n",
    "                 linkage='complete')\n",
    "hc_comp.fit(X)\n"
   ]
  },
  {
   "cell_type": "markdown",
   "id": "a86162f3",
   "metadata": {
    "id": "a86162f3"
   },
   "source": [
    "This computes the entire dendrogram.\n",
    "We could just as easily perform hierarchical clustering with average or single linkage instead:"
   ]
  },
  {
   "cell_type": "code",
   "execution_count": 64,
   "id": "dc8c9fa7",
   "metadata": {
    "id": "dc8c9fa7"
   },
   "outputs": [],
   "source": [
    "hc_avg = HClust(distance_threshold=0,\n",
    "                n_clusters=None,\n",
    "                linkage='average');\n",
    "hc_avg.fit(X)\n",
    "hc_sing = HClust(distance_threshold=0,\n",
    "                 n_clusters=None,\n",
    "                 linkage='single');\n",
    "hc_sing.fit(X);\n"
   ]
  },
  {
   "cell_type": "markdown",
   "id": "c367b799",
   "metadata": {
    "id": "c367b799"
   },
   "source": [
    "To use a precomputed distance matrix, we provide an additional\n",
    "argument `metric=\"precomputed\"`. In the code below, the first four lines computes the $50\\times 50$ pairwise-distance matrix."
   ]
  },
  {
   "cell_type": "code",
   "execution_count": 65,
   "id": "17af050a",
   "metadata": {
    "colab": {
     "base_uri": "https://localhost:8080/",
     "height": 97
    },
    "id": "17af050a",
    "outputId": "feecd67f-1414-4ed8-b1e6-1efab700248c"
   },
   "outputs": [
    {
     "output_type": "execute_result",
     "data": {
      "text/plain": [
       "AgglomerativeClustering(distance_threshold=0, linkage='single',\n",
       "                        metric='precomputed', n_clusters=None)"
      ],
      "text/html": [
       "<style>#sk-container-id-6 {\n",
       "  /* Definition of color scheme common for light and dark mode */\n",
       "  --sklearn-color-text: black;\n",
       "  --sklearn-color-line: gray;\n",
       "  /* Definition of color scheme for unfitted estimators */\n",
       "  --sklearn-color-unfitted-level-0: #fff5e6;\n",
       "  --sklearn-color-unfitted-level-1: #f6e4d2;\n",
       "  --sklearn-color-unfitted-level-2: #ffe0b3;\n",
       "  --sklearn-color-unfitted-level-3: chocolate;\n",
       "  /* Definition of color scheme for fitted estimators */\n",
       "  --sklearn-color-fitted-level-0: #f0f8ff;\n",
       "  --sklearn-color-fitted-level-1: #d4ebff;\n",
       "  --sklearn-color-fitted-level-2: #b3dbfd;\n",
       "  --sklearn-color-fitted-level-3: cornflowerblue;\n",
       "\n",
       "  /* Specific color for light theme */\n",
       "  --sklearn-color-text-on-default-background: var(--sg-text-color, var(--theme-code-foreground, var(--jp-content-font-color1, black)));\n",
       "  --sklearn-color-background: var(--sg-background-color, var(--theme-background, var(--jp-layout-color0, white)));\n",
       "  --sklearn-color-border-box: var(--sg-text-color, var(--theme-code-foreground, var(--jp-content-font-color1, black)));\n",
       "  --sklearn-color-icon: #696969;\n",
       "\n",
       "  @media (prefers-color-scheme: dark) {\n",
       "    /* Redefinition of color scheme for dark theme */\n",
       "    --sklearn-color-text-on-default-background: var(--sg-text-color, var(--theme-code-foreground, var(--jp-content-font-color1, white)));\n",
       "    --sklearn-color-background: var(--sg-background-color, var(--theme-background, var(--jp-layout-color0, #111)));\n",
       "    --sklearn-color-border-box: var(--sg-text-color, var(--theme-code-foreground, var(--jp-content-font-color1, white)));\n",
       "    --sklearn-color-icon: #878787;\n",
       "  }\n",
       "}\n",
       "\n",
       "#sk-container-id-6 {\n",
       "  color: var(--sklearn-color-text);\n",
       "}\n",
       "\n",
       "#sk-container-id-6 pre {\n",
       "  padding: 0;\n",
       "}\n",
       "\n",
       "#sk-container-id-6 input.sk-hidden--visually {\n",
       "  border: 0;\n",
       "  clip: rect(1px 1px 1px 1px);\n",
       "  clip: rect(1px, 1px, 1px, 1px);\n",
       "  height: 1px;\n",
       "  margin: -1px;\n",
       "  overflow: hidden;\n",
       "  padding: 0;\n",
       "  position: absolute;\n",
       "  width: 1px;\n",
       "}\n",
       "\n",
       "#sk-container-id-6 div.sk-dashed-wrapped {\n",
       "  border: 1px dashed var(--sklearn-color-line);\n",
       "  margin: 0 0.4em 0.5em 0.4em;\n",
       "  box-sizing: border-box;\n",
       "  padding-bottom: 0.4em;\n",
       "  background-color: var(--sklearn-color-background);\n",
       "}\n",
       "\n",
       "#sk-container-id-6 div.sk-container {\n",
       "  /* jupyter's `normalize.less` sets `[hidden] { display: none; }`\n",
       "     but bootstrap.min.css set `[hidden] { display: none !important; }`\n",
       "     so we also need the `!important` here to be able to override the\n",
       "     default hidden behavior on the sphinx rendered scikit-learn.org.\n",
       "     See: https://github.com/scikit-learn/scikit-learn/issues/21755 */\n",
       "  display: inline-block !important;\n",
       "  position: relative;\n",
       "}\n",
       "\n",
       "#sk-container-id-6 div.sk-text-repr-fallback {\n",
       "  display: none;\n",
       "}\n",
       "\n",
       "div.sk-parallel-item,\n",
       "div.sk-serial,\n",
       "div.sk-item {\n",
       "  /* draw centered vertical line to link estimators */\n",
       "  background-image: linear-gradient(var(--sklearn-color-text-on-default-background), var(--sklearn-color-text-on-default-background));\n",
       "  background-size: 2px 100%;\n",
       "  background-repeat: no-repeat;\n",
       "  background-position: center center;\n",
       "}\n",
       "\n",
       "/* Parallel-specific style estimator block */\n",
       "\n",
       "#sk-container-id-6 div.sk-parallel-item::after {\n",
       "  content: \"\";\n",
       "  width: 100%;\n",
       "  border-bottom: 2px solid var(--sklearn-color-text-on-default-background);\n",
       "  flex-grow: 1;\n",
       "}\n",
       "\n",
       "#sk-container-id-6 div.sk-parallel {\n",
       "  display: flex;\n",
       "  align-items: stretch;\n",
       "  justify-content: center;\n",
       "  background-color: var(--sklearn-color-background);\n",
       "  position: relative;\n",
       "}\n",
       "\n",
       "#sk-container-id-6 div.sk-parallel-item {\n",
       "  display: flex;\n",
       "  flex-direction: column;\n",
       "}\n",
       "\n",
       "#sk-container-id-6 div.sk-parallel-item:first-child::after {\n",
       "  align-self: flex-end;\n",
       "  width: 50%;\n",
       "}\n",
       "\n",
       "#sk-container-id-6 div.sk-parallel-item:last-child::after {\n",
       "  align-self: flex-start;\n",
       "  width: 50%;\n",
       "}\n",
       "\n",
       "#sk-container-id-6 div.sk-parallel-item:only-child::after {\n",
       "  width: 0;\n",
       "}\n",
       "\n",
       "/* Serial-specific style estimator block */\n",
       "\n",
       "#sk-container-id-6 div.sk-serial {\n",
       "  display: flex;\n",
       "  flex-direction: column;\n",
       "  align-items: center;\n",
       "  background-color: var(--sklearn-color-background);\n",
       "  padding-right: 1em;\n",
       "  padding-left: 1em;\n",
       "}\n",
       "\n",
       "\n",
       "/* Toggleable style: style used for estimator/Pipeline/ColumnTransformer box that is\n",
       "clickable and can be expanded/collapsed.\n",
       "- Pipeline and ColumnTransformer use this feature and define the default style\n",
       "- Estimators will overwrite some part of the style using the `sk-estimator` class\n",
       "*/\n",
       "\n",
       "/* Pipeline and ColumnTransformer style (default) */\n",
       "\n",
       "#sk-container-id-6 div.sk-toggleable {\n",
       "  /* Default theme specific background. It is overwritten whether we have a\n",
       "  specific estimator or a Pipeline/ColumnTransformer */\n",
       "  background-color: var(--sklearn-color-background);\n",
       "}\n",
       "\n",
       "/* Toggleable label */\n",
       "#sk-container-id-6 label.sk-toggleable__label {\n",
       "  cursor: pointer;\n",
       "  display: block;\n",
       "  width: 100%;\n",
       "  margin-bottom: 0;\n",
       "  padding: 0.5em;\n",
       "  box-sizing: border-box;\n",
       "  text-align: center;\n",
       "}\n",
       "\n",
       "#sk-container-id-6 label.sk-toggleable__label-arrow:before {\n",
       "  /* Arrow on the left of the label */\n",
       "  content: \"▸\";\n",
       "  float: left;\n",
       "  margin-right: 0.25em;\n",
       "  color: var(--sklearn-color-icon);\n",
       "}\n",
       "\n",
       "#sk-container-id-6 label.sk-toggleable__label-arrow:hover:before {\n",
       "  color: var(--sklearn-color-text);\n",
       "}\n",
       "\n",
       "/* Toggleable content - dropdown */\n",
       "\n",
       "#sk-container-id-6 div.sk-toggleable__content {\n",
       "  max-height: 0;\n",
       "  max-width: 0;\n",
       "  overflow: hidden;\n",
       "  text-align: left;\n",
       "  /* unfitted */\n",
       "  background-color: var(--sklearn-color-unfitted-level-0);\n",
       "}\n",
       "\n",
       "#sk-container-id-6 div.sk-toggleable__content.fitted {\n",
       "  /* fitted */\n",
       "  background-color: var(--sklearn-color-fitted-level-0);\n",
       "}\n",
       "\n",
       "#sk-container-id-6 div.sk-toggleable__content pre {\n",
       "  margin: 0.2em;\n",
       "  border-radius: 0.25em;\n",
       "  color: var(--sklearn-color-text);\n",
       "  /* unfitted */\n",
       "  background-color: var(--sklearn-color-unfitted-level-0);\n",
       "}\n",
       "\n",
       "#sk-container-id-6 div.sk-toggleable__content.fitted pre {\n",
       "  /* unfitted */\n",
       "  background-color: var(--sklearn-color-fitted-level-0);\n",
       "}\n",
       "\n",
       "#sk-container-id-6 input.sk-toggleable__control:checked~div.sk-toggleable__content {\n",
       "  /* Expand drop-down */\n",
       "  max-height: 200px;\n",
       "  max-width: 100%;\n",
       "  overflow: auto;\n",
       "}\n",
       "\n",
       "#sk-container-id-6 input.sk-toggleable__control:checked~label.sk-toggleable__label-arrow:before {\n",
       "  content: \"▾\";\n",
       "}\n",
       "\n",
       "/* Pipeline/ColumnTransformer-specific style */\n",
       "\n",
       "#sk-container-id-6 div.sk-label input.sk-toggleable__control:checked~label.sk-toggleable__label {\n",
       "  color: var(--sklearn-color-text);\n",
       "  background-color: var(--sklearn-color-unfitted-level-2);\n",
       "}\n",
       "\n",
       "#sk-container-id-6 div.sk-label.fitted input.sk-toggleable__control:checked~label.sk-toggleable__label {\n",
       "  background-color: var(--sklearn-color-fitted-level-2);\n",
       "}\n",
       "\n",
       "/* Estimator-specific style */\n",
       "\n",
       "/* Colorize estimator box */\n",
       "#sk-container-id-6 div.sk-estimator input.sk-toggleable__control:checked~label.sk-toggleable__label {\n",
       "  /* unfitted */\n",
       "  background-color: var(--sklearn-color-unfitted-level-2);\n",
       "}\n",
       "\n",
       "#sk-container-id-6 div.sk-estimator.fitted input.sk-toggleable__control:checked~label.sk-toggleable__label {\n",
       "  /* fitted */\n",
       "  background-color: var(--sklearn-color-fitted-level-2);\n",
       "}\n",
       "\n",
       "#sk-container-id-6 div.sk-label label.sk-toggleable__label,\n",
       "#sk-container-id-6 div.sk-label label {\n",
       "  /* The background is the default theme color */\n",
       "  color: var(--sklearn-color-text-on-default-background);\n",
       "}\n",
       "\n",
       "/* On hover, darken the color of the background */\n",
       "#sk-container-id-6 div.sk-label:hover label.sk-toggleable__label {\n",
       "  color: var(--sklearn-color-text);\n",
       "  background-color: var(--sklearn-color-unfitted-level-2);\n",
       "}\n",
       "\n",
       "/* Label box, darken color on hover, fitted */\n",
       "#sk-container-id-6 div.sk-label.fitted:hover label.sk-toggleable__label.fitted {\n",
       "  color: var(--sklearn-color-text);\n",
       "  background-color: var(--sklearn-color-fitted-level-2);\n",
       "}\n",
       "\n",
       "/* Estimator label */\n",
       "\n",
       "#sk-container-id-6 div.sk-label label {\n",
       "  font-family: monospace;\n",
       "  font-weight: bold;\n",
       "  display: inline-block;\n",
       "  line-height: 1.2em;\n",
       "}\n",
       "\n",
       "#sk-container-id-6 div.sk-label-container {\n",
       "  text-align: center;\n",
       "}\n",
       "\n",
       "/* Estimator-specific */\n",
       "#sk-container-id-6 div.sk-estimator {\n",
       "  font-family: monospace;\n",
       "  border: 1px dotted var(--sklearn-color-border-box);\n",
       "  border-radius: 0.25em;\n",
       "  box-sizing: border-box;\n",
       "  margin-bottom: 0.5em;\n",
       "  /* unfitted */\n",
       "  background-color: var(--sklearn-color-unfitted-level-0);\n",
       "}\n",
       "\n",
       "#sk-container-id-6 div.sk-estimator.fitted {\n",
       "  /* fitted */\n",
       "  background-color: var(--sklearn-color-fitted-level-0);\n",
       "}\n",
       "\n",
       "/* on hover */\n",
       "#sk-container-id-6 div.sk-estimator:hover {\n",
       "  /* unfitted */\n",
       "  background-color: var(--sklearn-color-unfitted-level-2);\n",
       "}\n",
       "\n",
       "#sk-container-id-6 div.sk-estimator.fitted:hover {\n",
       "  /* fitted */\n",
       "  background-color: var(--sklearn-color-fitted-level-2);\n",
       "}\n",
       "\n",
       "/* Specification for estimator info (e.g. \"i\" and \"?\") */\n",
       "\n",
       "/* Common style for \"i\" and \"?\" */\n",
       "\n",
       ".sk-estimator-doc-link,\n",
       "a:link.sk-estimator-doc-link,\n",
       "a:visited.sk-estimator-doc-link {\n",
       "  float: right;\n",
       "  font-size: smaller;\n",
       "  line-height: 1em;\n",
       "  font-family: monospace;\n",
       "  background-color: var(--sklearn-color-background);\n",
       "  border-radius: 1em;\n",
       "  height: 1em;\n",
       "  width: 1em;\n",
       "  text-decoration: none !important;\n",
       "  margin-left: 1ex;\n",
       "  /* unfitted */\n",
       "  border: var(--sklearn-color-unfitted-level-1) 1pt solid;\n",
       "  color: var(--sklearn-color-unfitted-level-1);\n",
       "}\n",
       "\n",
       ".sk-estimator-doc-link.fitted,\n",
       "a:link.sk-estimator-doc-link.fitted,\n",
       "a:visited.sk-estimator-doc-link.fitted {\n",
       "  /* fitted */\n",
       "  border: var(--sklearn-color-fitted-level-1) 1pt solid;\n",
       "  color: var(--sklearn-color-fitted-level-1);\n",
       "}\n",
       "\n",
       "/* On hover */\n",
       "div.sk-estimator:hover .sk-estimator-doc-link:hover,\n",
       ".sk-estimator-doc-link:hover,\n",
       "div.sk-label-container:hover .sk-estimator-doc-link:hover,\n",
       ".sk-estimator-doc-link:hover {\n",
       "  /* unfitted */\n",
       "  background-color: var(--sklearn-color-unfitted-level-3);\n",
       "  color: var(--sklearn-color-background);\n",
       "  text-decoration: none;\n",
       "}\n",
       "\n",
       "div.sk-estimator.fitted:hover .sk-estimator-doc-link.fitted:hover,\n",
       ".sk-estimator-doc-link.fitted:hover,\n",
       "div.sk-label-container:hover .sk-estimator-doc-link.fitted:hover,\n",
       ".sk-estimator-doc-link.fitted:hover {\n",
       "  /* fitted */\n",
       "  background-color: var(--sklearn-color-fitted-level-3);\n",
       "  color: var(--sklearn-color-background);\n",
       "  text-decoration: none;\n",
       "}\n",
       "\n",
       "/* Span, style for the box shown on hovering the info icon */\n",
       ".sk-estimator-doc-link span {\n",
       "  display: none;\n",
       "  z-index: 9999;\n",
       "  position: relative;\n",
       "  font-weight: normal;\n",
       "  right: .2ex;\n",
       "  padding: .5ex;\n",
       "  margin: .5ex;\n",
       "  width: min-content;\n",
       "  min-width: 20ex;\n",
       "  max-width: 50ex;\n",
       "  color: var(--sklearn-color-text);\n",
       "  box-shadow: 2pt 2pt 4pt #999;\n",
       "  /* unfitted */\n",
       "  background: var(--sklearn-color-unfitted-level-0);\n",
       "  border: .5pt solid var(--sklearn-color-unfitted-level-3);\n",
       "}\n",
       "\n",
       ".sk-estimator-doc-link.fitted span {\n",
       "  /* fitted */\n",
       "  background: var(--sklearn-color-fitted-level-0);\n",
       "  border: var(--sklearn-color-fitted-level-3);\n",
       "}\n",
       "\n",
       ".sk-estimator-doc-link:hover span {\n",
       "  display: block;\n",
       "}\n",
       "\n",
       "/* \"?\"-specific style due to the `<a>` HTML tag */\n",
       "\n",
       "#sk-container-id-6 a.estimator_doc_link {\n",
       "  float: right;\n",
       "  font-size: 1rem;\n",
       "  line-height: 1em;\n",
       "  font-family: monospace;\n",
       "  background-color: var(--sklearn-color-background);\n",
       "  border-radius: 1rem;\n",
       "  height: 1rem;\n",
       "  width: 1rem;\n",
       "  text-decoration: none;\n",
       "  /* unfitted */\n",
       "  color: var(--sklearn-color-unfitted-level-1);\n",
       "  border: var(--sklearn-color-unfitted-level-1) 1pt solid;\n",
       "}\n",
       "\n",
       "#sk-container-id-6 a.estimator_doc_link.fitted {\n",
       "  /* fitted */\n",
       "  border: var(--sklearn-color-fitted-level-1) 1pt solid;\n",
       "  color: var(--sklearn-color-fitted-level-1);\n",
       "}\n",
       "\n",
       "/* On hover */\n",
       "#sk-container-id-6 a.estimator_doc_link:hover {\n",
       "  /* unfitted */\n",
       "  background-color: var(--sklearn-color-unfitted-level-3);\n",
       "  color: var(--sklearn-color-background);\n",
       "  text-decoration: none;\n",
       "}\n",
       "\n",
       "#sk-container-id-6 a.estimator_doc_link.fitted:hover {\n",
       "  /* fitted */\n",
       "  background-color: var(--sklearn-color-fitted-level-3);\n",
       "}\n",
       "</style><div id=\"sk-container-id-6\" class=\"sk-top-container\"><div class=\"sk-text-repr-fallback\"><pre>AgglomerativeClustering(distance_threshold=0, linkage=&#x27;single&#x27;,\n",
       "                        metric=&#x27;precomputed&#x27;, n_clusters=None)</pre><b>In a Jupyter environment, please rerun this cell to show the HTML representation or trust the notebook. <br />On GitHub, the HTML representation is unable to render, please try loading this page with nbviewer.org.</b></div><div class=\"sk-container\" hidden><div class=\"sk-item\"><div class=\"sk-estimator fitted sk-toggleable\"><input class=\"sk-toggleable__control sk-hidden--visually\" id=\"sk-estimator-id-6\" type=\"checkbox\" checked><label for=\"sk-estimator-id-6\" class=\"sk-toggleable__label fitted sk-toggleable__label-arrow fitted\">&nbsp;&nbsp;AgglomerativeClustering<a class=\"sk-estimator-doc-link fitted\" rel=\"noreferrer\" target=\"_blank\" href=\"https://scikit-learn.org/1.5/modules/generated/sklearn.cluster.AgglomerativeClustering.html\">?<span>Documentation for AgglomerativeClustering</span></a><span class=\"sk-estimator-doc-link fitted\">i<span>Fitted</span></span></label><div class=\"sk-toggleable__content fitted\"><pre>AgglomerativeClustering(distance_threshold=0, linkage=&#x27;single&#x27;,\n",
       "                        metric=&#x27;precomputed&#x27;, n_clusters=None)</pre></div> </div></div></div></div>"
      ]
     },
     "metadata": {},
     "execution_count": 65
    }
   ],
   "source": [
    "D = np.zeros((X.shape[0], X.shape[0]));\n",
    "for i in range(X.shape[0]):\n",
    "    x_ = np.multiply.outer(np.ones(X.shape[0]), X[i])\n",
    "    D[i] = np.sqrt(np.sum((X - x_)**2, 1));\n",
    "hc_sing_pre = HClust(distance_threshold=0,\n",
    "                     n_clusters=None,\n",
    "                     metric='precomputed',\n",
    "                     linkage='single')\n",
    "hc_sing_pre.fit(D)\n"
   ]
  },
  {
   "cell_type": "markdown",
   "id": "cd51d288",
   "metadata": {
    "id": "cd51d288"
   },
   "source": [
    "We use\n",
    "`dendrogram()` from `scipy.cluster.hierarchy` to plot the dendrogram. However,\n",
    "`dendrogram()` expects a so-called *linkage-matrix representation*\n",
    "of the clustering, which is not provided by `AgglomerativeClustering()`,\n",
    "but can be computed. The function `compute_linkage()` in the\n",
    "`ISLP.cluster` package is provided for this purpose.\n",
    "\n",
    "We can now plot the dendrograms. The numbers at the bottom of the plot\n",
    "identify each observation. The `dendrogram()` function has a default method to\n",
    "color different branches of the tree that suggests a pre-defined cut of the tree at a particular depth.\n",
    "We prefer to overwrite this default by setting this threshold to be infinite. Since we want this behavior for many dendrograms, we store these values in a dictionary `cargs` and pass this as keyword arguments using the notation `**cargs`."
   ]
  },
  {
   "cell_type": "code",
   "execution_count": 66,
   "id": "b2902747",
   "metadata": {
    "colab": {
     "base_uri": "https://localhost:8080/",
     "height": 676
    },
    "id": "b2902747",
    "outputId": "7dcf55d6-294c-4165-afd0-a7922f7a428a"
   },
   "outputs": [
    {
     "output_type": "display_data",
     "data": {
      "text/plain": [
       "<Figure size 800x800 with 1 Axes>"
      ],
      "image/png": "[encoded data removed]"
     },
     "metadata": {}
    }
   ],
   "source": [
    "cargs = {'color_threshold':-np.inf,\n",
    "         'above_threshold_color':'black'}\n",
    "linkage_comp = compute_linkage(hc_comp)\n",
    "fig, ax = plt.subplots(1, 1, figsize=(8, 8))\n",
    "dendrogram(linkage_comp,\n",
    "           ax=ax,\n",
    "           **cargs);\n"
   ]
  },
  {
   "cell_type": "markdown",
   "id": "6933178d",
   "metadata": {
    "id": "6933178d"
   },
   "source": [
    "We may want to color branches of the tree above\n",
    "and below a cut-threshold differently. This can be achieved\n",
    "by changing the `color_threshold`. Let’s cut the tree at a height of 4,\n",
    "coloring links that merge above 4 in black."
   ]
  },
  {
   "cell_type": "code",
   "execution_count": 67,
   "id": "81bc1753",
   "metadata": {
    "colab": {
     "base_uri": "https://localhost:8080/",
     "height": 676
    },
    "id": "81bc1753",
    "outputId": "62574072-1eeb-4475-b219-d6625d49aec7"
   },
   "outputs": [
    {
     "output_type": "display_data",
     "data": {
      "text/plain": [
       "<Figure size 800x800 with 1 Axes>"
      ],
      "image/png": "[encoded data removed]"
     },
     "metadata": {}
    }
   ],
   "source": [
    "fig, ax = plt.subplots(1, 1, figsize=(8, 8))\n",
    "dendrogram(linkage_comp,\n",
    "           ax=ax,\n",
    "           color_threshold=4,\n",
    "           above_threshold_color='black');\n"
   ]
  },
  {
   "cell_type": "markdown",
   "id": "5e4cd4ee",
   "metadata": {
    "id": "5e4cd4ee"
   },
   "source": [
    "To determine the cluster labels for each observation associated with a\n",
    "given cut of the dendrogram, we can use the `cut_tree()`\n",
    "function from `scipy.cluster.hierarchy`:"
   ]
  },
  {
   "cell_type": "code",
   "execution_count": 68,
   "id": "12fa137c",
   "metadata": {
    "colab": {
     "base_uri": "https://localhost:8080/"
    },
    "id": "12fa137c",
    "outputId": "99cdb89c-4dab-4fcb-9626-51fff2613c81"
   },
   "outputs": [
    {
     "output_type": "execute_result",
     "data": {
      "text/plain": [
       "array([[0, 1, 0, 0, 1, 1, 0, 1, 0, 0, 2, 0, 0, 0, 1, 1, 0, 0, 1, 0, 0, 2,\n",
       "        0, 2, 2, 3, 2, 3, 3, 3, 3, 2, 3, 3, 3, 3, 2, 3, 3, 3, 3, 2, 3, 3,\n",
       "        3, 3, 3, 3, 3, 3]])"
      ]
     },
     "metadata": {},
     "execution_count": 68
    }
   ],
   "source": [
    "cut_tree(linkage_comp, n_clusters=4).T\n"
   ]
  },
  {
   "cell_type": "markdown",
   "id": "404ae519",
   "metadata": {
    "id": "404ae519"
   },
   "source": [
    "This can also be achieved by providing an argument `n_clusters`\n",
    "to `HClust()`; however each cut would require recomputing\n",
    "the clustering. Similarly, trees may be cut by distance threshold\n",
    "with an argument of `distance_threshold` to `HClust()`\n",
    "or `height` to `cut_tree()`."
   ]
  },
  {
   "cell_type": "markdown",
   "source": [
    "# Activity: Hierarchical Clustering on the Iris Dataset"
   ],
   "metadata": {
    "id": "31FuG3w370yd"
   },
   "id": "31FuG3w370yd"
  },
  {
   "cell_type": "markdown",
   "source": [
    "Load the Dataset: Start by loading the Iris dataset using the following code:\n",
    "\n"
   ],
   "metadata": {
    "id": "ueuLa5dX8Zjj"
   },
   "id": "ueuLa5dX8Zjj"
  },
  {
   "cell_type": "code",
   "source": [
    "from sklearn.datasets import load_iris\n",
    "import pandas as pd\n",
    "\n",
    "iris = load_iris()\n",
    "X = pd.DataFrame(iris.data, columns=iris.feature_names)"
   ],
   "metadata": {
    "id": "YzxJA5FC7won"
   },
   "id": "YzxJA5FC7won",
   "execution_count": null,
   "outputs": []
  },
  {
   "cell_type": "markdown",
   "source": [
    "- Perform Hierarchical Clustering: Use Agglomerative Clustering and create a dendrogram:"
   ],
   "metadata": {
    "id": "npm4n8RG8j0c"
   },
   "id": "npm4n8RG8j0c"
  },
  {
   "cell_type": "code",
   "source": [
    "## write your code here"
   ],
   "metadata": {
    "id": "nr45B9708_Tg"
   },
   "id": "nr45B9708_Tg",
   "execution_count": null,
   "outputs": []
  }
 ],
 "metadata": {
  "jupytext": {
   "cell_metadata_filter": "-all",
   "main_language": "python",
   "notebook_metadata_filter": "-all"
  },
  "kernelspec": {
   "display_name": "Python 3 (ipykernel)",
   "language": "python",
   "name": "python3"
  },
  "language_info": {
   "codemirror_mode": {
    "name": "ipython",
    "version": 3
   },
   "file_extension": ".py",
   "mimetype": "text/x-python",
   "name": "python",
   "nbconvert_exporter": "python",
   "pygments_lexer": "ipython3",
   "version": "3.11.5"
  },
  "colab": {
   "provenance": []
  }
 },
 "nbformat": 4,
 "nbformat_minor": 5
}
