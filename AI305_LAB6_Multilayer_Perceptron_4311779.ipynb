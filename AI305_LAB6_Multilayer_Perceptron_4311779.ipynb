{
  "cells": [
    {
      "cell_type": "markdown",
      "source": [
        "# AI305 - Multilayer Perceptron\n",
        "\n"
      ],
      "metadata": {
        "id": "Vxv_saeDbyUH"
      }
    },
    {
      "cell_type": "markdown",
      "source": [
        "The purpose of this lab is to implement multilayer perceptron or fully-connected neural networks (FCNNs) using the MLP implementation from *scikit-learn* \n",
        "\n",
        "We will work on MNIST datast. "
      ],
      "metadata": {
        "id": "sC6-DExLb8L7"
      }
    },
    {
      "cell_type": "markdown",
      "source": [
        "### Multilayer perceptron for classification \n",
        "\n",
        "*Use the neural network implementation from scikit-learn, i.e. MLPClassifier, to build a classifier to recognize all ten digits in the MNIST data set. Investigate the best architecture for the fully connected neural networks (i.e., number of hidden layers and number of hidden nodes per layer) for this task, and fine-tune all hyper-parameters in the SGD optimizer towards the best possible performance.*\n",
        "https://scikit-learn.org/stable/modules/generated/sklearn.neural_network.MLPClassifier.html#sklearn.neural_network.MLPClassifier.predict"
      ],
      "metadata": {
        "id": "fjk6HU6Ortvv"
      }
    },
    {
      "cell_type": "code",
      "source": [
        "# install python_mnist\n",
        "!pip install python_mnist"
      ],
      "outputs": [
        {
          "output_type": "stream",
          "name": "stdout",
          "text": "Collecting python_mnist\n  Downloading python_mnist-0.7-py2.py3-none-any.whl.metadata (3.5 kB)\nDownloading python_mnist-0.7-py2.py3-none-any.whl (9.6 kB)\nInstalling collected packages: python_mnist\nSuccessfully installed python_mnist-0.7\n"
        }
      ],
      "execution_count": 1,
      "metadata": {
        "ExecuteTime": {
          "end_time": "2024-10-23T11:13:28.673930Z",
          "start_time": "2024-10-23T11:13:25.988923Z"
        },
        "colab": {
          "base_uri": "https://localhost:8080/"
        },
        "id": "Fupbz3a-p2zy",
        "outputId": "aa3b483e-d095-4646-d606-d8b2d78e982a"
      }
    },
    {
      "cell_type": "code",
      "source": [
        "#load MINST images\n",
        "\n",
        "from mnist import MNIST\n",
        "import numpy as np\n",
        "\n",
        "mnist_loader = MNIST('')\n",
        "train_data, train_label = mnist_loader.load_training()\n",
        "test_data, test_label = mnist_loader.load_testing()\n",
        "X_train = np.array(train_data, dtype='float')/255.0 # norm to [0,1]\n",
        "y_train = np.array(train_label, dtype='short')\n",
        "X_test = np.array(test_data, dtype='float')/255.0 # norm to [0,1]\n",
        "y_test = np.array(test_label, dtype='short')\n",
        "\n",
        "\n",
        "# convert MNIST training labels into 10-D one-hot vectors \n",
        "Y_train = np.zeros((y_train.size, y_train.max()+1))\n",
        "Y_train[np.arange(y_train.size),y_train] = 1\n",
        "\n",
        "print(X_train.shape, y_train.shape, X_test.shape, y_test.shape, Y_train.shape)"
      ],
      "outputs": [
        {
          "output_type": "stream",
          "name": "stdout",
          "text": "(60000, 784) (60000,) (10000, 784) (10000,) (60000, 10)\n"
        }
      ],
      "execution_count": 2,
      "metadata": {
        "ExecuteTime": {
          "end_time": "2024-10-23T11:13:32.973828Z",
          "start_time": "2024-10-23T11:13:31.047071Z"
        },
        "colab": {
          "base_uri": "https://localhost:8080/"
        },
        "id": "tdwEWWClp5l4",
        "outputId": "e5851878-951c-418a-8050-a1eddc8965a4"
      }
    },
    {
      "cell_type": "code",
      "source": [
        "# build 10-digit classifer using MLPClassifier from scikit-learn\n",
        "\n",
        "from sklearn.neural_network import MLPClassifier\n",
        "\n",
        "# here are all hyper-parameters for MLPClassifier\n",
        "#\n",
        "mlp = MLPClassifier(activation='relu', alpha=0.0001, batch_size='auto', beta_1=0.9,\n",
        "              beta_2=0.999, early_stopping=False, epsilon=1e-08,\n",
        "              hidden_layer_sizes=(500,250,100), learning_rate='constant',\n",
        "              learning_rate_init=0.1, max_fun=15000, max_iter=20, momentum=0.9,\n",
        "              n_iter_no_change=10, nesterovs_momentum=True, power_t=0.5,\n",
        "              random_state=1, shuffle=True, solver='sgd', tol=0.0001,\n",
        "              validation_fraction=0.1, verbose=10, warm_start=False)\n",
        "\n",
        "mlp.fit(X_train, y_train)\n",
        "\n",
        "print(f\"Training set score: {mlp.score(X_train, y_train):.3f}\")"
      ],
      "outputs": [
        {
          "output_type": "stream",
          "name": "stdout",
          "text": "Iteration 1, loss = 0.25828809\nIteration 2, loss = 0.08666144\nIteration 3, loss = 0.05555631\nIteration 4, loss = 0.04099409\nIteration 5, loss = 0.03231283\nIteration 6, loss = 0.02398454\nIteration 7, loss = 0.01929084\nIteration 8, loss = 0.01741954\nIteration 9, loss = 0.01556434\nIteration 10, loss = 0.00976176\nIteration 11, loss = 0.00997135\nIteration 12, loss = 0.00679177\nIteration 13, loss = 0.00777384\nIteration 14, loss = 0.00933750\nIteration 15, loss = 0.00539144\nIteration 16, loss = 0.00488355\nIteration 17, loss = 0.00428039\nIteration 18, loss = 0.00948719\nIteration 19, loss = 0.00865621\nIteration 20, loss = 0.00993937\nTraining set score: 0.998\n"
        },
        {
          "output_type": "stream",
          "name": "stderr",
          "text": "C:\\Users\\4311779\\AppData\\Local\\anaconda3\\Lib\\site-packages\\sklearn\\neural_network\\_multilayer_perceptron.py:691: ConvergenceWarning: Stochastic Optimizer: Maximum iterations (20) reached and the optimization hasn't converged yet.\n  warnings.warn(\n"
        }
      ],
      "execution_count": 3,
      "metadata": {
        "ExecuteTime": {
          "end_time": "2024-10-23T11:15:33.995203Z",
          "start_time": "2024-10-23T11:14:46.056444Z"
        },
        "colab": {
          "base_uri": "https://localhost:8080/"
        },
        "id": "MzlXRoWcmryw",
        "outputId": "4165a0ea-ed62-4fa4-a516-4744acfdb758"
      }
    },
    {
      "cell_type": "markdown",
      "source": [
        "Return the mean accuracy on the given test data and labels"
      ],
      "metadata": {
        "id": "x9pX5tRZRCrc"
      }
    },
    {
      "cell_type": "code",
      "source": [
        "print(f\"Test set score: {mlp.score(X_test, y_test):.3f}\")"
      ],
      "outputs": [
        {
          "output_type": "stream",
          "name": "stdout",
          "text": "Test set score: 0.981\n"
        }
      ],
      "execution_count": 4,
      "metadata": {
        "ExecuteTime": {
          "end_time": "2024-10-23T11:21:17.295794Z",
          "start_time": "2024-10-23T11:21:17.254509Z"
        },
        "id": "FpcRpoIkQ35W"
      }
    },
    {
      "cell_type": "markdown",
      "source": [
        "Visulaize an image"
      ],
      "metadata": {
        "id": "QEvSCC0fQ9a8"
      }
    },
    {
      "cell_type": "code",
      "source": [
        "import matplotlib.pyplot as plt\n",
        "pixels = np.array(X_test[5,:], dtype='float')\n",
        "pixels = pixels.reshape((28, 28))\n",
        "#plt.title('Label is {label}'.format(label=label))\n",
        "plt.imshow(pixels, cmap='gray')\n",
        "plt.show()"
      ],
      "outputs": [
        {
          "output_type": "display_data",
          "data": {
            "image/png": "[encoded data removed]",
            "text/plain": "<Figure size 640x480 with 1 Axes>"
          },
          "metadata": {}
        }
      ],
      "execution_count": 5,
      "metadata": {
        "ExecuteTime": {
          "end_time": "2024-10-23T11:21:19.447418Z",
          "start_time": "2024-10-23T11:21:19.327832Z"
        },
        "colab": {
          "base_uri": "https://localhost:8080/",
          "height": 265
        },
        "id": "cgak6RCCNTcr",
        "outputId": "909f9a53-2b17-481f-a827-27e2c8f8faff"
      }
    },
    {
      "cell_type": "code",
      "source": [
        "import matplotlib.pyplot as plt\n",
        "image= X_test[1:2,:]\n",
        "pixels = np.array(image, dtype='float')\n",
        "pixels = pixels.reshape((28, 28))\n",
        "#plt.title('Label is {label}'.format(label=label))\n",
        "plt.imshow(pixels, cmap='gray')\n",
        "plt.show()\n"
      ],
      "outputs": [
        {
          "output_type": "display_data",
          "data": {
            "image/png": "[encoded data removed]",
            "text/plain": "<Figure size 640x480 with 1 Axes>"
          },
          "metadata": {}
        }
      ],
      "execution_count": 6,
      "metadata": {
        "ExecuteTime": {
          "end_time": "2024-10-23T11:21:20.722471Z",
          "start_time": "2024-10-23T11:21:20.657759Z"
        },
        "colab": {
          "base_uri": "https://localhost:8080/",
          "height": 265
        },
        "id": "g37or-DhQxIY",
        "outputId": "0f2c84c1-f29d-416f-a258-f95fa46ed7d0"
      }
    },
    {
      "cell_type": "code",
      "source": [
        "mlp.predict(X_test[1:2,:])"
      ],
      "outputs": [
        {
          "output_type": "execute_result",
          "execution_count": 7,
          "data": {
            "text/plain": "array([2], dtype=int16)"
          },
          "metadata": {}
        }
      ],
      "execution_count": 7,
      "metadata": {
        "ExecuteTime": {
          "end_time": "2024-10-23T11:21:23.398274Z",
          "start_time": "2024-10-23T11:21:23.392652Z"
        },
        "colab": {
          "base_uri": "https://localhost:8080/"
        },
        "id": "kIoYymAqSKUo",
        "outputId": "0ce0378d-fe3a-4c5f-93ae-94c25388b675"
      }
    },
    {
      "cell_type": "markdown",
      "source": [
        "## Activity"
      ],
      "metadata": {}
    },
    {
      "cell_type": "markdown",
      "source": [
        "1. Install cifar10 and cifar100 datasets and build appropriate MLP models for them, showing the accuracy and confusion matrices.\n",
        "2. explain the results of the previous activity.\n",
        "2. Investigate applying multilayer preceptron on regression by building a regression model on a regression dataset from the previous labs or any suitable dataset you suggest. "
      ],
      "metadata": {
        "id": "IVBp6zqmG5kV"
      }
    },
    {
      "cell_type": "code",
      "source": [
        "!pip install tensorflow"
      ],
      "outputs": [
        {
          "output_type": "stream",
          "name": "stdout",
          "text": "Requirement already satisfied: tensorflow in c:\\users\\themi\\anaconda3\\envs\\genai\\lib\\site-packages (2.18.0)\nRequirement already satisfied: tensorflow-intel==2.18.0 in c:\\users\\themi\\anaconda3\\envs\\genai\\lib\\site-packages (from tensorflow) (2.18.0)\nRequirement already satisfied: absl-py>=1.0.0 in c:\\users\\themi\\anaconda3\\envs\\genai\\lib\\site-packages (from tensorflow-intel==2.18.0->tensorflow) (2.1.0)\nRequirement already satisfied: astunparse>=1.6.0 in c:\\users\\themi\\anaconda3\\envs\\genai\\lib\\site-packages (from tensorflow-intel==2.18.0->tensorflow) (1.6.3)\nRequirement already satisfied: flatbuffers>=24.3.25 in c:\\users\\themi\\anaconda3\\envs\\genai\\lib\\site-packages (from tensorflow-intel==2.18.0->tensorflow) (24.3.25)\nRequirement already satisfied: gast!=0.5.0,!=0.5.1,!=0.5.2,>=0.2.1 in c:\\users\\themi\\anaconda3\\envs\\genai\\lib\\site-packages (from tensorflow-intel==2.18.0->tensorflow) (0.6.0)\nRequirement already satisfied: google-pasta>=0.1.1 in c:\\users\\themi\\anaconda3\\envs\\genai\\lib\\site-packages (from tensorflow-intel==2.18.0->tensorflow) (0.2.0)\nRequirement already satisfied: libclang>=13.0.0 in c:\\users\\themi\\anaconda3\\envs\\genai\\lib\\site-packages (from tensorflow-intel==2.18.0->tensorflow) (18.1.1)\nRequirement already satisfied: opt-einsum>=2.3.2 in c:\\users\\themi\\anaconda3\\envs\\genai\\lib\\site-packages (from tensorflow-intel==2.18.0->tensorflow) (3.4.0)\nRequirement already satisfied: packaging in c:\\users\\themi\\anaconda3\\envs\\genai\\lib\\site-packages (from tensorflow-intel==2.18.0->tensorflow) (24.1)\nRequirement already satisfied: protobuf!=4.21.0,!=4.21.1,!=4.21.2,!=4.21.3,!=4.21.4,!=4.21.5,<6.0.0dev,>=3.20.3 in c:\\users\\themi\\anaconda3\\envs\\genai\\lib\\site-packages (from tensorflow-intel==2.18.0->tensorflow) (5.28.3)\nRequirement already satisfied: requests<3,>=2.21.0 in c:\\users\\themi\\anaconda3\\envs\\genai\\lib\\site-packages (from tensorflow-intel==2.18.0->tensorflow) (2.32.3)\nRequirement already satisfied: setuptools in c:\\users\\themi\\anaconda3\\envs\\genai\\lib\\site-packages (from tensorflow-intel==2.18.0->tensorflow) (72.1.0)\nRequirement already satisfied: six>=1.12.0 in c:\\users\\themi\\anaconda3\\envs\\genai\\lib\\site-packages (from tensorflow-intel==2.18.0->tensorflow) (1.16.0)\nRequirement already satisfied: termcolor>=1.1.0 in c:\\users\\themi\\anaconda3\\envs\\genai\\lib\\site-packages (from tensorflow-intel==2.18.0->tensorflow) (2.5.0)\nRequirement already satisfied: typing-extensions>=3.6.6 in c:\\users\\themi\\anaconda3\\envs\\genai\\lib\\site-packages (from tensorflow-intel==2.18.0->tensorflow) (4.11.0)\nRequirement already satisfied: wrapt>=1.11.0 in c:\\users\\themi\\anaconda3\\envs\\genai\\lib\\site-packages (from tensorflow-intel==2.18.0->tensorflow) (1.16.0)\nRequirement already satisfied: grpcio<2.0,>=1.24.3 in c:\\users\\themi\\anaconda3\\envs\\genai\\lib\\site-packages (from tensorflow-intel==2.18.0->tensorflow) (1.67.0)\nRequirement already satisfied: tensorboard<2.19,>=2.18 in c:\\users\\themi\\anaconda3\\envs\\genai\\lib\\site-packages (from tensorflow-intel==2.18.0->tensorflow) (2.18.0)\nRequirement already satisfied: keras>=3.5.0 in c:\\users\\themi\\anaconda3\\envs\\genai\\lib\\site-packages (from tensorflow-intel==2.18.0->tensorflow) (3.6.0)\nRequirement already satisfied: numpy<2.1.0,>=1.26.0 in c:\\users\\themi\\anaconda3\\envs\\genai\\lib\\site-packages (from tensorflow-intel==2.18.0->tensorflow) (1.26.4)\nRequirement already satisfied: h5py>=3.11.0 in c:\\users\\themi\\anaconda3\\envs\\genai\\lib\\site-packages (from tensorflow-intel==2.18.0->tensorflow) (3.12.1)\nRequirement already satisfied: ml-dtypes<0.5.0,>=0.4.0 in c:\\users\\themi\\anaconda3\\envs\\genai\\lib\\site-packages (from tensorflow-intel==2.18.0->tensorflow) (0.4.1)\nRequirement already satisfied: tensorflow-io-gcs-filesystem>=0.23.1 in c:\\users\\themi\\anaconda3\\envs\\genai\\lib\\site-packages (from tensorflow-intel==2.18.0->tensorflow) (0.31.0)\nRequirement already satisfied: wheel<1.0,>=0.23.0 in c:\\users\\themi\\anaconda3\\envs\\genai\\lib\\site-packages (from astunparse>=1.6.0->tensorflow-intel==2.18.0->tensorflow) (0.43.0)\nRequirement already satisfied: rich in c:\\users\\themi\\anaconda3\\envs\\genai\\lib\\site-packages (from keras>=3.5.0->tensorflow-intel==2.18.0->tensorflow) (13.9.3)\nRequirement already satisfied: namex in c:\\users\\themi\\anaconda3\\envs\\genai\\lib\\site-packages (from keras>=3.5.0->tensorflow-intel==2.18.0->tensorflow) (0.0.8)\nRequirement already satisfied: optree in c:\\users\\themi\\anaconda3\\envs\\genai\\lib\\site-packages (from keras>=3.5.0->tensorflow-intel==2.18.0->tensorflow) (0.13.0)\nRequirement already satisfied: charset-normalizer<4,>=2 in c:\\users\\themi\\anaconda3\\envs\\genai\\lib\\site-packages (from requests<3,>=2.21.0->tensorflow-intel==2.18.0->tensorflow) (3.3.2)\nRequirement already satisfied: idna<4,>=2.5 in c:\\users\\themi\\anaconda3\\envs\\genai\\lib\\site-packages (from requests<3,>=2.21.0->tensorflow-intel==2.18.0->tensorflow) (3.7)\nRequirement already satisfied: urllib3<3,>=1.21.1 in c:\\users\\themi\\anaconda3\\envs\\genai\\lib\\site-packages (from requests<3,>=2.21.0->tensorflow-intel==2.18.0->tensorflow) (2.2.2)\nRequirement already satisfied: certifi>=2017.4.17 in c:\\users\\themi\\anaconda3\\envs\\genai\\lib\\site-packages (from requests<3,>=2.21.0->tensorflow-intel==2.18.0->tensorflow) (2024.7.4)\nRequirement already satisfied: markdown>=2.6.8 in c:\\users\\themi\\anaconda3\\envs\\genai\\lib\\site-packages (from tensorboard<2.19,>=2.18->tensorflow-intel==2.18.0->tensorflow) (3.7)\nRequirement already satisfied: tensorboard-data-server<0.8.0,>=0.7.0 in c:\\users\\themi\\anaconda3\\envs\\genai\\lib\\site-packages (from tensorboard<2.19,>=2.18->tensorflow-intel==2.18.0->tensorflow) (0.7.2)\nRequirement already satisfied: werkzeug>=1.0.1 in c:\\users\\themi\\anaconda3\\envs\\genai\\lib\\site-packages (from tensorboard<2.19,>=2.18->tensorflow-intel==2.18.0->tensorflow) (3.0.5)\nRequirement already satisfied: MarkupSafe>=2.1.1 in c:\\users\\themi\\anaconda3\\envs\\genai\\lib\\site-packages (from werkzeug>=1.0.1->tensorboard<2.19,>=2.18->tensorflow-intel==2.18.0->tensorflow) (2.1.3)\nRequirement already satisfied: markdown-it-py>=2.2.0 in c:\\users\\themi\\anaconda3\\envs\\genai\\lib\\site-packages (from rich->keras>=3.5.0->tensorflow-intel==2.18.0->tensorflow) (3.0.0)\nRequirement already satisfied: pygments<3.0.0,>=2.13.0 in c:\\users\\themi\\anaconda3\\envs\\genai\\lib\\site-packages (from rich->keras>=3.5.0->tensorflow-intel==2.18.0->tensorflow) (2.15.1)\nRequirement already satisfied: mdurl~=0.1 in c:\\users\\themi\\anaconda3\\envs\\genai\\lib\\site-packages (from markdown-it-py>=2.2.0->rich->keras>=3.5.0->tensorflow-intel==2.18.0->tensorflow) (0.1.2)\n"
        }
      ],
      "execution_count": 1,
      "metadata": {
        "ExecuteTime": {
          "end_time": "2024-10-23T11:53:41.700257Z",
          "start_time": "2024-10-23T11:34:39.194170Z"
        }
      }
    },
    {
      "cell_type": "code",
      "source": [
        "import numpy as np\n",
        "from tensorflow.keras.datasets import cifar10\n",
        "\n",
        "# Load CIFAR-10 dataset\n",
        "(train_data, train_label), (test_data, test_label) = cifar10.load_data()"
      ],
      "outputs": [
        {
          "output_type": "stream",
          "name": "stdout",
          "text": "Downloading data from https://www.cs.toronto.edu/~kriz/cifar-10-python.tar.gz\n\u001b[1m170498071/170498071\u001b[0m \u001b[32m━━━━━━━━━━━━━━━━━━━━\u001b[0m\u001b[37m\u001b[0m \u001b[1m191s\u001b[0m 1us/step\n"
        }
      ],
      "execution_count": 2,
      "metadata": {
        "ExecuteTime": {
          "end_time": "2024-10-23T12:03:34.437714Z",
          "start_time": "2024-10-23T11:54:54.439787Z"
        }
      }
    },
    {
      "cell_type": "code",
      "source": [
        "X_train = np.array(train_data, dtype='float') / 255.0  # Normalize to [0,1]\n",
        "X_train = X_train.reshape(X_train.shape[0], -1)  # Flatten to 2D (50000, 3072)\n",
        "\n",
        "y_train = np.array(train_label, dtype='short').reshape(-1)  # Convert to 1D array\n",
        "X_test = np.array(test_data, dtype='float') / 255.0    # Normalize to [0,1]\n",
        "X_test = X_test.reshape(X_test.shape[0], -1)          # Flatten to 2D (10000, 3072)\n",
        "\n",
        "y_test = np.array(test_label, dtype='short').reshape(-1)  # Convert to 1D array"
      ],
      "outputs": [],
      "execution_count": 16,
      "metadata": {
        "ExecuteTime": {
          "end_time": "2024-10-23T12:09:04.739367Z",
          "start_time": "2024-10-23T12:09:03.899846Z"
        }
      }
    },
    {
      "cell_type": "code",
      "source": [
        "Y_train = np.zeros((y_train.size, y_train.max()+1))\n",
        "Y_train[np.arange(y_train.size),y_train] = 1\n",
        "\n",
        "\n",
        "print(X_train.shape, y_train.shape, X_test.shape, y_test.shape, Y_train.shape)"
      ],
      "outputs": [
        {
          "output_type": "stream",
          "name": "stdout",
          "text": "(50000, 3072) (50000,) (10000, 3072) (10000,) (50000, 10)\n"
        }
      ],
      "execution_count": 17,
      "metadata": {
        "ExecuteTime": {
          "end_time": "2024-10-23T12:09:05.220566Z",
          "start_time": "2024-10-23T12:09:05.217130Z"
        }
      }
    },
    {
      "cell_type": "code",
      "source": [
        "from sklearn.neural_network import MLPClassifier\n",
        "\n",
        "mlp = MLPClassifier(activation='relu', alpha=0.0001, batch_size='auto', beta_1=0.9,\n",
        "                beta_2=0.999, early_stopping=False, epsilon=1e-08,\n",
        "                hidden_layer_sizes=(500,250,100), learning_rate='constant',\n",
        "                learning_rate_init=0.1, max_fun=15000, max_iter=20, momentum=0.9,\n",
        "                n_iter_no_change=10, nesterovs_momentum=True, power_t=0.5,\n",
        "                random_state=1, shuffle=True, solver='sgd', tol=0.0001,\n",
        "                validation_fraction=0.1, verbose=10, warm_start=False)\n",
        "\n",
        "mlp.fit(X_train, y_train)\n",
        "\n",
        "print(f\"Training set score: {mlp.score(X_train, y_train):.3f}\")"
      ],
      "outputs": [
        {
          "output_type": "stream",
          "name": "stdout",
          "text": "Iteration 1, loss = 2.09401784\nIteration 2, loss = 1.93204206\nIteration 3, loss = 1.82063516\nIteration 4, loss = 1.77543666\nIteration 5, loss = 1.71781997\nIteration 6, loss = 1.67264829\nIteration 7, loss = 1.63940026\nIteration 8, loss = 1.60615729\nIteration 9, loss = 1.59251004\nIteration 10, loss = 1.56161404\nIteration 11, loss = 1.55233105\nIteration 12, loss = 1.53208236\nIteration 13, loss = 1.51678824\nIteration 14, loss = 1.50879292\nIteration 15, loss = 1.49901979\nIteration 16, loss = 1.47947461\nIteration 17, loss = 1.47485107\nIteration 18, loss = 1.46177172\nIteration 19, loss = 1.45537219\nIteration 20, loss = 1.44196114\n"
        },
        {
          "output_type": "stream",
          "name": "stderr",
          "text": "C:\\Users\\4311779\\AppData\\Local\\anaconda3\\Lib\\site-packages\\sklearn\\neural_network\\_multilayer_perceptron.py:691: ConvergenceWarning: Stochastic Optimizer: Maximum iterations (20) reached and the optimization hasn't converged yet.\n  warnings.warn(\n"
        },
        {
          "output_type": "stream",
          "name": "stdout",
          "text": "Training set score: 0.490\n"
        }
      ],
      "execution_count": 19,
      "metadata": {
        "ExecuteTime": {
          "end_time": "2024-10-23T12:16:07.407826Z",
          "start_time": "2024-10-23T12:13:12.654810Z"
        }
      }
    },
    {
      "cell_type": "code",
      "source": [
        "print(f\"Test set score: {mlp.score(X_test, y_test):.3f}\")"
      ],
      "outputs": [
        {
          "output_type": "stream",
          "name": "stdout",
          "text": "Test set score: 0.448\n"
        }
      ],
      "execution_count": 20,
      "metadata": {
        "ExecuteTime": {
          "end_time": "2024-10-23T12:17:14.378768Z",
          "start_time": "2024-10-23T12:17:14.280299Z"
        }
      }
    },
    {
      "cell_type": "code",
      "source": [
        "import matplotlib.pyplot as plt\n",
        "pixels = np.array(X_test[20,:], dtype='float')\n",
        "pixels = pixels.reshape((32, 32, 3))\n",
        "plt.imshow(pixels, cmap='gray')\n",
        "plt.show()"
      ],
      "outputs": [
        {
          "output_type": "display_data",
          "data": {
            "image/png": "[encoded data removed]",
            "text/plain": "<Figure size 640x480 with 1 Axes>"
          },
          "metadata": {}
        }
      ],
      "execution_count": 29,
      "metadata": {
        "ExecuteTime": {
          "end_time": "2024-10-23T12:21:35.634154Z",
          "start_time": "2024-10-23T12:21:35.566457Z"
        }
      }
    },
    {
      "cell_type": "code",
      "source": [
        "mlp.predict(X_test[20:21,:])"
      ],
      "outputs": [
        {
          "output_type": "execute_result",
          "execution_count": 30,
          "data": {
            "text/plain": "array([4], dtype=int16)"
          },
          "metadata": {}
        }
      ],
      "execution_count": 30,
      "metadata": {
        "ExecuteTime": {
          "end_time": "2024-10-23T12:21:35.787823Z",
          "start_time": "2024-10-23T12:21:35.783438Z"
        }
      }
    },
    {
      "cell_type": "code",
      "source": [
        "### The code above creates an mlp classifier to build a classification model based upon the cifar10 dataset. The data was preprocessed to be able to fit into the mlp classifier. Next, The model is trained with fairly common/default parameters then it was tested and we got a fair accuracy of 0.490 and 0.448 respectively which is much better than just a random guessing model as that would have 0.10 accuracy by default. The model is then used to predict the label of the 20th image in the testing data which seems to be a horse by being displayed using matplotlib. The model predicts the label of the image as 4 which correctly means horse in this case."
      ],
      "outputs": [],
      "execution_count": 12,
      "metadata": {
        "vscode": {
          "languageId": "markdown"
        }
      }
    },
    {
      "cell_type": "code",
      "source": [
        "import pandas as pd\n",
        "from sklearn.model_selection import train_test_split\n",
        "from sklearn.neural_network import MLPRegressor"
      ],
      "outputs": [],
      "execution_count": 13,
      "metadata": {
        "vscode": {
          "languageId": "markdown"
        }
      }
    },
    {
      "cell_type": "code",
      "source": [
        "data = pd.read_csv(r\"C:\\Users\\themi\\Downloads\\train_multiple_features.csv\")\n",
        "data.head()"
      ],
      "outputs": [
        {
          "output_type": "execute_result",
          "execution_count": 14,
          "data": {
            "text/html": "<div>\n<style scoped>\n    .dataframe tbody tr th:only-of-type {\n        vertical-align: middle;\n    }\n\n    .dataframe tbody tr th {\n        vertical-align: top;\n    }\n\n    .dataframe thead th {\n        text-align: right;\n    }\n</style>\n<table border=\"1\" class=\"dataframe\">\n  <thead>\n    <tr style=\"text-align: right;\">\n      <th></th>\n      <th>x1</th>\n      <th>x2</th>\n      <th>y</th>\n    </tr>\n  </thead>\n  <tbody>\n    <tr>\n      <th>0</th>\n      <td>24</td>\n      <td>6</td>\n      <td>21.549452</td>\n    </tr>\n    <tr>\n      <th>1</th>\n      <td>50</td>\n      <td>10</td>\n      <td>47.464463</td>\n    </tr>\n    <tr>\n      <th>2</th>\n      <td>15</td>\n      <td>10</td>\n      <td>17.218656</td>\n    </tr>\n    <tr>\n      <th>3</th>\n      <td>38</td>\n      <td>10</td>\n      <td>36.586398</td>\n    </tr>\n    <tr>\n      <th>4</th>\n      <td>87</td>\n      <td>3</td>\n      <td>87.288984</td>\n    </tr>\n  </tbody>\n</table>\n</div>",
            "text/plain": "   x1  x2          y\n0  24   6  21.549452\n1  50  10  47.464463\n2  15  10  17.218656\n3  38  10  36.586398\n4  87   3  87.288984"
          },
          "metadata": {}
        }
      ],
      "execution_count": 14,
      "metadata": {
        "vscode": {
          "languageId": "markdown"
        }
      }
    },
    {
      "cell_type": "code",
      "source": [
        "X = data.drop(columns=['y'])\n",
        "y = data['y']   \n",
        "X_train, X_test, y_train, y_test = train_test_split(X, y, test_size=0.2, random_state=42)"
      ],
      "outputs": [],
      "execution_count": 15,
      "metadata": {
        "vscode": {
          "languageId": "markdown"
        }
      }
    },
    {
      "cell_type": "code",
      "source": [
        "mlp = MLPRegressor(activation='relu', alpha=0.0001, batch_size='auto',\n",
        "                    \n",
        "              hidden_layer_sizes=(1000,500,250), learning_rate='constant',\n",
        "                    \n",
        "              learning_rate_init=0.1, max_fun=15000, max_iter=20, momentum=0.9,\n",
        "                    \n",
        "              n_iter_no_change=10, nesterovs_momentum=True, power_t=0.5,\n",
        "                    \n",
        "              random_state=1, shuffle=True, solver='adam', tol=0.0001,\n",
        "                    \n",
        "              validation_fraction=0.1, verbose=10, warm_start=False)\n",
        "\n",
        "mlp.fit(X_train, y_train)\n",
        "\n",
        "print(f\"Training set score: {mlp.score(X_train, y_train):.3f}\")\n",
        "print(f\"Testing set score: {mlp.score(X_test, y_test):.3f}\")"
      ],
      "outputs": [
        {
          "output_type": "stream",
          "name": "stdout",
          "text": "Iteration 1, loss = 525378178.37549275\nIteration 2, loss = 181797.45735029\nIteration 3, loss = 7071.48456337\nIteration 4, loss = 395.95514353\nIteration 5, loss = 521.43749951\nIteration 6, loss = 173.26332427\nIteration 7, loss = 110.70815689\nIteration 8, loss = 75.52350481\nIteration 9, loss = 40.37628139\nIteration 10, loss = 30.21679303\nIteration 11, loss = 18.80629310\nIteration 12, loss = 14.17814545\nIteration 13, loss = 14.60628304\nIteration 14, loss = 10.48752562\nIteration 15, loss = 9.45560128\nIteration 16, loss = 7.74834727\nIteration 17, loss = 6.66244795\nIteration 18, loss = 6.74334263\nIteration 19, loss = 6.05683528\nIteration 20, loss = 5.42334532\nTraining set score: 0.987\nTesting set score: 0.987\n"
        },
        {
          "output_type": "stream",
          "name": "stderr",
          "text": "c:\\Users\\themi\\anaconda3\\envs\\GenAI\\lib\\site-packages\\sklearn\\neural_network\\_multilayer_perceptron.py:690: ConvergenceWarning: Stochastic Optimizer: Maximum iterations (20) reached and the optimization hasn't converged yet.\n  warnings.warn(\n"
        }
      ],
      "execution_count": 16,
      "metadata": {
        "vscode": {
          "languageId": "markdown"
        }
      }
    },
    {
      "cell_type": "code",
      "source": [],
      "outputs": [],
      "execution_count": null,
      "metadata": {
        "vscode": {
          "languageId": "markdown"
        }
      }
    }
  ],
  "metadata": {
    "accelerator": "GPU",
    "colab": {
      "collapsed_sections": [],
      "provenance": []
    },
    "kernelspec": {
      "display_name": "Python 3 (ipykernel)",
      "language": "python",
      "name": "python3"
    },
    "language_info": {
      "codemirror_mode": {
        "name": "ipython",
        "version": 3
      },
      "file_extension": ".py",
      "mimetype": "text/x-python",
      "name": "python",
      "nbconvert_exporter": "python",
      "pygments_lexer": "ipython3",
      "version": "3.10.14"
    },
    "nteract": {
      "version": "nteract-front-end@1.0.0"
    }
  },
  "nbformat": 4,
  "nbformat_minor": 4
}