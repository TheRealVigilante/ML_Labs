{
  "cells": [
    {
      "cell_type": "markdown",
      "source": [
        "# AI305-Lab3 -Fall 22\n",
        "\n",
        "## Basic Regression Tree\n",
        "#### Implementation of a regression tree, step by step\n",
        "\n"
      ],
      "metadata": {
        "id": "0ggtuK8a4DHt"
      }
    },
    {
      "cell_type": "markdown",
      "source": [
        "First, we import various\n",
        "packages and define a function to generate the training and test data."
      ],
      "metadata": {
        "id": "B_wib5IX4DHu"
      }
    },
    {
      "cell_type": "code",
      "source": [
        "import numpy as np\n",
        "from sklearn.datasets import make_friedman1\n",
        "from sklearn.model_selection import train_test_split"
      ],
      "outputs": [],
      "execution_count": 2,
      "metadata": {
        "id": "QbUr29QZ4DHv"
      }
    },
    {
      "cell_type": "markdown",
      "source": [
        "make_friedman1()\n",
        "\n",
        "Generate the “Friedman #1” regression problem.\n",
        "This dataset is described in Friedman [1] and Breiman [2].\n",
        "Inputs X are independent features uniformly distributed on the interval [0, 1]. The output y is created according to the formula:\n",
        "y(X) = 10 * sin(pi * X[:, 0] * X[:, 1]) + 20 * (X[:, 2] - 0.5) ** 2 + 10 * X[:, 3] + 5 * X[:, 4] + noise * N(0, 1).\n",
        "Out of the n_features features, only 5 are actually used to compute y. The remaining features are independent of y."
      ],
      "metadata": {
        "id": "pzgRJ6bw4DHw"
      }
    },
    {
      "cell_type": "code",
      "source": [
        "def makedata():\n",
        "  n_points = 500 # points\n",
        "\n",
        "  X, y =  make_friedman1(n_samples=n_points, n_features=5,\n",
        "                         noise=1.0, random_state=100)\n",
        "\n",
        "  return train_test_split(X, y, test_size=0.5, random_state=3)\n"
      ],
      "outputs": [],
      "execution_count": 3,
      "metadata": {
        "id": "RyQjSgpL4DHw"
      }
    },
    {
      "cell_type": "markdown",
      "source": [
        "The “main” method calls the makedata method, uses the training data to build a regression tree, and then predicts the responses of the test set and reports the mean squared-error loss."
      ],
      "metadata": {
        "id": "3IRMlhue4DHx"
      }
    },
    {
      "cell_type": "code",
      "source": [
        "\n",
        "def main():\n",
        "  X_train, X_test, y_train, y_test = makedata()\n",
        "  maxdepth = 10 # maximum tree depth\n",
        "  # Create tree root at depth 0\n",
        "  treeRoot = TNode(0, X_train,y_train)\n",
        "\n",
        "  # Build the regression tree with maximal depth equal to max_depth\n",
        "  Construct_Subtree(treeRoot, maxdepth)\n",
        "\n",
        "  # Predict\n",
        "  y_hat = np.zeros(len(X_test))\n",
        "  for i in range(len(X_test)):\n",
        "     y_hat[i] = Predict(X_test[i],treeRoot)\n",
        "\n",
        "  MSE = np.mean(np.power(y_hat - y_test,2))\n",
        "  print(\"Basic tree: tree loss = \",  MSE)\n"
      ],
      "outputs": [],
      "execution_count": 4,
      "metadata": {
        "id": "v-SepQuk4DHx"
      }
    },
    {
      "cell_type": "markdown",
      "source": [
        "The next step is to specify a tree node as a Python class. Each node has a number of attributes, including the features and the response data (X and y) and the depth at which the node is placed in the tree. The root node has depth 0. Each node w can calculate its contribution to the squared-error training loss\n",
        "\n",
        "![image.png](attachment:image.png)\n"
      ],
      "metadata": {
        "id": "k-kR2lRE4DHx"
      }
    },
    {
      "cell_type": "markdown",
      "source": [
        "Note that we have omitted the constant 1/n term when training the tree, which simply scales the loss\n",
        "![image.png](attachment:image.png)"
      ],
      "metadata": {
        "id": "9ITgt3474DHx"
      }
    },
    {
      "cell_type": "code",
      "source": [
        "# tree node\n",
        "class TNode:\n",
        "   def __init__(self, depth, X, y):\n",
        "      self.depth = depth\n",
        "      self.X = X   # matrix of explanatory variables\n",
        "      self.y = y   # vector of response variables\n",
        "      # initialize optimal split parameters\n",
        "      self.j = None\n",
        "      self.xi = None\n",
        "      # initialize children to be None\n",
        "      self.left = None\n",
        "      self.right = None\n",
        "      # initialize the regional predictor\n",
        "      self.g = None\n",
        "\n",
        "   def CalculateLoss(self):\n",
        "       if(len(self.y)==0):\n",
        "           return 0\n",
        "\n",
        "       return np.sum(np.power(self.y- self.y.mean(),2))\n",
        "\n"
      ],
      "outputs": [],
      "execution_count": 5,
      "metadata": {
        "id": "RdBvZO0Q4DHx"
      }
    },
    {
      "cell_type": "markdown",
      "source": [
        "The function below implements the training (tree-building) Algorithm\n",
        "![image.png](attachment:image.png)"
      ],
      "metadata": {
        "id": "rf3PG-gy4DHy"
      }
    },
    {
      "cell_type": "code",
      "source": [
        "def Construct_Subtree(node, max_depth):\n",
        "    if(node.depth == max_depth or len(node.y) == 1):\n",
        "        node.g  = node.y.mean()\n",
        "    else:\n",
        "        j, xi = CalculateOptimalSplit(node)\n",
        "        node.j = j\n",
        "        node.xi = xi\n",
        "        Xt, yt, Xf, yf = DataSplit(node.X, node.y, j, xi)\n",
        "\n",
        "        if(len(yt)>0):\n",
        "            node.left = TNode(node.depth+1,Xt,yt)\n",
        "            Construct_Subtree(node.left, max_depth)\n",
        "\n",
        "        if(len(yf)>0):\n",
        "            node.right = TNode(node.depth+1, Xf,yf)\n",
        "            Construct_Subtree(node.right, max_depth)\n",
        "\n",
        "    return node"
      ],
      "outputs": [],
      "execution_count": 6,
      "metadata": {
        "id": "DsQ-kNfQ4DHy"
      }
    },
    {
      "cell_type": "markdown",
      "source": [
        "This requires an implementation of the CalculateOptimalSplit function. To start,\n",
        "we implement a function DataSplit that splits the data according to ![image.png](attachment:image.png)"
      ],
      "metadata": {
        "id": "Fzpi5Sdu4DHy"
      }
    },
    {
      "cell_type": "code",
      "source": [
        "# split the data-set\n",
        "def DataSplit(X,y,j,xi):\n",
        "    ids = X[:,j]<=xi\n",
        "    Xt  = X[ids == True,:]\n",
        "    Xf  = X[ids == False,:]\n",
        "    yt  = y[ids == True]\n",
        "    yf  = y[ids == False]\n",
        "    return Xt, yt, Xf, yf"
      ],
      "outputs": [],
      "execution_count": 7,
      "metadata": {
        "id": "EWRVzO4S4DHy"
      }
    },
    {
      "cell_type": "markdown",
      "source": [
        "The CalculateOptimalSplit method runs through the possible splitting thresholds from the set {xj,k} and finds the optimal split."
      ],
      "metadata": {
        "id": "YCuM0sp34DHy"
      }
    },
    {
      "cell_type": "code",
      "source": [
        "def CalculateOptimalSplit(node):\n",
        "    X = node.X\n",
        "    y = node.y\n",
        "    best_var = 0\n",
        "    best_xi = X[0,best_var]\n",
        "    best_split_val = node.CalculateLoss()\n",
        "\n",
        "    m, n  = X.shape\n",
        "    # pass through the predictors and the values\n",
        "    for j in range(0,n):\n",
        "        for i in range(0,m):\n",
        "            xi = X[i,j]\n",
        "            Xt, yt, Xf, yf = DataSplit(X,y,j,xi)\n",
        "            tmpt = TNode(0, Xt, yt)\n",
        "            tmpf = TNode(0, Xf, yf)\n",
        "            loss_t = tmpt.CalculateLoss()\n",
        "            loss_f = tmpf.CalculateLoss()\n",
        "            curr_val =  loss_t + loss_f\n",
        "            if (curr_val < best_split_val):\n",
        "                best_split_val = curr_val\n",
        "                best_var = j\n",
        "                best_xi = xi\n",
        "    return best_var,  best_xi"
      ],
      "outputs": [],
      "execution_count": 8,
      "metadata": {
        "id": "u9nvhCj-4DHy"
      }
    },
    {
      "cell_type": "markdown",
      "source": [
        "Finally, we implement the recursive method for prediction."
      ],
      "metadata": {
        "id": "ucfAg-Vt4DHy"
      }
    },
    {
      "cell_type": "code",
      "source": [
        "def Predict(X,node):\n",
        "    if(node.right == None and node.left != None):\n",
        "        return Predict(X,node.left)\n",
        "\n",
        "    if(node.right != None and node.left == None):\n",
        "        return Predict(X,node.right)\n",
        "\n",
        "    if(node.right == None and node.left == None):\n",
        "        return node.g\n",
        "    else:\n",
        "        if(X[node.j] <= node.xi):\n",
        "            return Predict(X,node.left)\n",
        "        else:\n",
        "            return Predict(X,node.right)\n"
      ],
      "outputs": [],
      "execution_count": 9,
      "metadata": {
        "id": "8E4yb5Ds4DHy"
      }
    },
    {
      "cell_type": "markdown",
      "source": [
        "Running the main function defined above gives a similar result to what one would achieve with the sklearn package, using the DecisionTreeRegressor method."
      ],
      "metadata": {
        "id": "JLfcSu504DHy"
      }
    },
    {
      "cell_type": "code",
      "source": [
        "\n",
        "main()  # run the main program"
      ],
      "outputs": [
        {
          "output_type": "stream",
          "name": "stdout",
          "text": "Basic tree: tree loss =  9.067077996170276\n"
        }
      ],
      "execution_count": 10,
      "metadata": {
        "colab": {
          "base_uri": "https://localhost:8080/"
        },
        "id": "FKn_2hIM4DHy",
        "outputId": "df4525a9-7872-4a22-976b-10ea69638760"
      }
    },
    {
      "cell_type": "code",
      "source": [
        "# compare with sklearn\n",
        "from sklearn.tree import DecisionTreeRegressor\n",
        "X_train, X_test, y_train, y_test = makedata()\n",
        "regTree = DecisionTreeRegressor(max_depth = 10, random_state=0)\n",
        "regTree.fit(X_train,y_train)\n",
        "y_hat = regTree.predict(X_test)\n",
        "MSE2 = np.mean(np.power(y_hat - y_test,2))\n",
        "print(\"DecisionTreeRegressor: tree loss = \",  MSE2)\n"
      ],
      "outputs": [
        {
          "output_type": "stream",
          "name": "stdout",
          "text": "DecisionTreeRegressor: tree loss =  10.197991295531748\n"
        }
      ],
      "execution_count": 11,
      "metadata": {
        "colab": {
          "base_uri": "https://localhost:8080/"
        },
        "id": "TKXB0KeZ4DHz",
        "outputId": "95832ad6-03ff-4960-d06c-0eb188f4dd14"
      }
    },
    {
      "cell_type": "markdown",
      "source": [
        "Plot the DT:"
      ],
      "metadata": {
        "id": "Npfc2hT-4DHz"
      }
    },
    {
      "cell_type": "code",
      "source": [
        "from sklearn import tree\n",
        "import matplotlib.pyplot as plt\n",
        "tree.plot_tree(regTree,max_depth=1)\n",
        "plt.show()"
      ],
      "outputs": [
        {
          "output_type": "display_data",
          "data": {
            "text/plain": "<Figure size 640x480 with 1 Axes>",
            "image/png": "[encoded data removed]"
          },
          "metadata": {}
        }
      ],
      "execution_count": 12,
      "metadata": {
        "colab": {
          "base_uri": "https://localhost:8080/",
          "height": 406
        },
        "id": "QkRYii9n4DHz",
        "outputId": "5cf72d7a-6ce5-40ee-d125-d00e2ac76366"
      }
    },
    {
      "cell_type": "markdown",
      "source": [
        "### Activity\n",
        "#### 1- Modify the previous code to implement classification decision tree\n",
        "#### 2- implement one of the ensemble methods covered in the lecture: Bagging, random forest, or boosting\n"
      ],
      "metadata": {
        "id": "QndCumpn4DHz"
      }
    },
    {
      "cell_type": "markdown",
      "source": [
        "# **1)**"
      ],
      "metadata": {
        "id": "VL-lm2B96Am9"
      }
    },
    {
      "cell_type": "code",
      "source": [
        "import numpy as np\n",
        "from sklearn.datasets import make_friedman1\n",
        "from sklearn.model_selection import train_test_split\n",
        "from sklearn.tree import DecisionTreeRegressor\n",
        "from sklearn import tree\n",
        "import matplotlib.pyplot as plt\n",
        "from sklearn.datasets import make_classification"
      ],
      "outputs": [],
      "execution_count": 14,
      "metadata": {
        "id": "74GalreK5War"
      }
    },
    {
      "cell_type": "code",
      "source": [
        "def makedata():\n",
        "  n_points = 500 # points\n",
        "\n",
        "  X, y =  make_classification(n_samples=n_points, n_features=5,\n",
        "                         n_informative=2, n_redundant=0,\n",
        "                         random_state=100)\n",
        "\n",
        "  return train_test_split(X, y, test_size=0.5, random_state=3)"
      ],
      "outputs": [],
      "execution_count": 15,
      "metadata": {
        "id": "vNK-8E6W5ZWb"
      }
    },
    {
      "cell_type": "code",
      "source": [
        "def main():\n",
        "  X_train, X_test, y_train, y_test = makedata()\n",
        "  maxdepth = 10 # maximum tree depth\n",
        "  # Create tree root at depth 0\n",
        "  treeRoot = TNode(0, X_train,y_train)\n",
        "\n",
        "  # Build the regression tree with maximal depth equal to max_depth\n",
        "  Construct_Subtree(treeRoot, maxdepth)\n",
        "\n",
        "  # Predict\n",
        "  y_hat = np.zeros(len(X_test))\n",
        "  for i in range(len(X_test)):\n",
        "     y_hat[i] = Predict(X_test[i],treeRoot)\n",
        "\n",
        "  Accuracy = np.mean(y_hat == y_test)\n",
        "  print(\"Basic tree: tree Accuracy = \",  Accuracy)"
      ],
      "outputs": [],
      "execution_count": 16,
      "metadata": {
        "id": "bgDypaQK5cWA"
      }
    },
    {
      "cell_type": "code",
      "source": [
        "# tree node\n",
        "class TNode:\n",
        "   def __init__(self, depth, X, y):\n",
        "      self.depth = depth\n",
        "      self.X = X   # matrix of explanatory variables\n",
        "      self.y = y   # vector of response variables\n",
        "      # initialize optimal split parameters\n",
        "      self.j = None\n",
        "      self.xi = None\n",
        "      # initialize children to be None\n",
        "      self.left = None\n",
        "      self.right = None\n",
        "      # initialize the regional predictor\n",
        "      self.g = None\n",
        "\n",
        "   def CalculateLoss(self):\n",
        "       if(len(self.y)==0):\n",
        "           return 0\n",
        "\n",
        "       return np.sum(np.power(self.y- np.argmax(np.bincount(self.y)),2))"
      ],
      "outputs": [],
      "execution_count": 17,
      "metadata": {
        "id": "B1o18NpZ5eMQ"
      }
    },
    {
      "cell_type": "code",
      "source": [
        "def Construct_Subtree(node, max_depth):\n",
        "    if(node.depth == max_depth or len(node.y) == 1):\n",
        "        node.g  = np.argmax(np.bincount(node.y))\n",
        "    else:\n",
        "        j, xi = CalculateOptimalSplit(node)\n",
        "        node.j = j\n",
        "        node.xi = xi\n",
        "        Xt, yt, Xf, yf = DataSplit(node.X, node.y, j, xi)\n",
        "\n",
        "        if(len(yt)>0):\n",
        "            node.left = TNode(node.depth+1,Xt,yt)\n",
        "            Construct_Subtree(node.left, max_depth)\n",
        "\n",
        "        if(len(yf)>0):\n",
        "            node.right = TNode(node.depth+1, Xf,yf)\n",
        "            Construct_Subtree(node.right, max_depth)\n",
        "\n",
        "    return node"
      ],
      "outputs": [],
      "execution_count": 18,
      "metadata": {
        "id": "uT4z9rU35f7O"
      }
    },
    {
      "cell_type": "code",
      "source": [
        "# split the data-set\n",
        "def DataSplit(X,y,j,xi):\n",
        "    ids = X[:,j]<=xi\n",
        "    Xt  = X[ids == True,:]\n",
        "    Xf  = X[ids == False,:]\n",
        "    yt  = y[ids == True]\n",
        "    yf  = y[ids == False]\n",
        "    return Xt, yt, Xf, yf"
      ],
      "outputs": [],
      "execution_count": 19,
      "metadata": {
        "id": "cE5lvnMZ5k7u"
      }
    },
    {
      "cell_type": "code",
      "source": [
        "def CalculateOptimalSplit(node):\n",
        "    X = node.X\n",
        "    y = node.y\n",
        "    best_var = 0\n",
        "    best_xi = X[0,best_var]\n",
        "    best_split_val = node.CalculateLoss()\n",
        "\n",
        "    m, n  = X.shape\n",
        "    # pass through the predictors and the values\n",
        "    for j in range(0,n):\n",
        "        for i in range(0,m):\n",
        "            xi = X[i,j]\n",
        "            Xt, yt, Xf, yf = DataSplit(X,y,j,xi)\n",
        "            tmpt = TNode(0, Xt, yt)\n",
        "            tmpf = TNode(0, Xf, yf)\n",
        "            loss_t = tmpt.CalculateLoss()\n",
        "            loss_f = tmpf.CalculateLoss()\n",
        "            curr_val =  loss_t + loss_f\n",
        "            if (curr_val < best_split_val):\n",
        "                best_split_val = curr_val\n",
        "                best_var = j\n",
        "                best_xi = xi\n",
        "    return best_var,  best_xi"
      ],
      "outputs": [],
      "execution_count": 20,
      "metadata": {
        "id": "4u0eVCfQ5ncZ"
      }
    },
    {
      "cell_type": "code",
      "source": [
        "def Predict(X,node):\n",
        "    if(node.right == None and node.left != None):\n",
        "        return Predict(X,node.left)\n",
        "\n",
        "    if(node.right != None and node.left == None):\n",
        "        return Predict(X,node.right)\n",
        "\n",
        "    if(node.right == None and node.left == None):\n",
        "        return node.g\n",
        "    else:\n",
        "        if(X[node.j] <= node.xi):\n",
        "            return Predict(X,node.left)\n",
        "        else:\n",
        "            return Predict(X,node.right)\n",
        "\n",
        "main()"
      ],
      "outputs": [
        {
          "output_type": "stream",
          "name": "stdout",
          "text": "Basic tree: tree Accuracy =  0.912\n"
        }
      ],
      "execution_count": 21,
      "metadata": {
        "colab": {
          "base_uri": "https://localhost:8080/"
        },
        "id": "5_32o44y5rQn",
        "outputId": "aae21ed0-c53f-45a5-b7d1-5d09fc188314"
      }
    },
    {
      "cell_type": "markdown",
      "source": [
        "# **2) Boosting**"
      ],
      "metadata": {
        "id": "Waq8T1SN6KdL"
      }
    },
    {
      "cell_type": "code",
      "source": [
        "from sklearn.ensemble import AdaBoostClassifier\n",
        "\n",
        "\n",
        "def makedata():\n",
        "  n_points = 500  # points\n",
        "\n",
        "  X, y = make_classification(n_samples=n_points, n_features=5,\n",
        "                             n_informative=2, n_redundant=0,\n",
        "                             random_state=100)\n",
        "\n",
        "  return train_test_split(X, y, test_size=0.5, random_state=3)\n",
        "\n",
        "\n",
        "def main():\n",
        "  X_train, X_test, y_train, y_test = makedata()\n",
        "  clf = AdaBoostClassifier(n_estimators=100, random_state=0)\n",
        "\n",
        "  clf.fit(X_train, y_train)\n",
        "\n",
        "  y_pred = clf.predict(X_test)\n",
        "\n",
        "  accuracy = np.mean(y_pred == y_test)\n",
        "  print(\"Boosting (AdaBoost): Accuracy =\", accuracy)\n",
        "\n",
        "\n",
        "main()"
      ],
      "outputs": [],
      "execution_count": null,
      "metadata": {
        "id": "CKxHIWw8675e"
      }
    }
  ],
  "metadata": {
    "kernelspec": {
      "display_name": "Python 3 (ipykernel)",
      "language": "python",
      "name": "python3"
    },
    "language_info": {
      "codemirror_mode": {
        "name": "ipython",
        "version": 3
      },
      "file_extension": ".py",
      "mimetype": "text/x-python",
      "name": "python",
      "nbconvert_exporter": "python",
      "pygments_lexer": "ipython3",
      "version": "3.12.4"
    },
    "colab": {
      "provenance": []
    },
    "nteract": {
      "version": "nteract-front-end@1.0.0"
    }
  },
  "nbformat": 4,
  "nbformat_minor": 0
}