{
 "cells": [
  {
   "cell_type": "markdown",
   "metadata": {
    "id": "Lj38HMPq1Wee"
   },
   "source": [
    "# LAB9 - Unsupervised Learning - PCA\n"
   ]
  },
  {
   "cell_type": "markdown",
   "metadata": {},
   "source": [
    "**PCA represents new dimensions that capture the most variance in your original dataset, enabling dimensionality reduction while retaining important information.**"
   ]
  },
  {
   "cell_type": "markdown",
   "metadata": {
    "id": "hwpTXb9B1WfF"
   },
   "source": [
    "- [1: Principal Component Analysis](#1:-Principal-Component-Analysis)\n",
    "- [2:  NCI60 Data Example](#2:-NCI60-Data-Example)"
   ]
  },
  {
   "cell_type": "code",
   "execution_count": 1,
   "metadata": {
    "id": "ToJQ0sXL1WfM"
   },
   "outputs": [],
   "source": [
    "# %load ../standard_import.txt\n",
    "import pandas as pd\n",
    "import numpy as np\n",
    "import matplotlib as mpl\n",
    "import matplotlib.pyplot as plt\n",
    "import seaborn as sns\n",
    "\n",
    "from sklearn.preprocessing import scale\n",
    "from sklearn.decomposition import PCA\n",
    "\n",
    "\n",
    "%matplotlib inline\n",
    "# plt.style.use('seaborn-white')"
   ]
  },
  {
   "cell_type": "markdown",
   "metadata": {
    "id": "5ZLf-DYm1Wff"
   },
   "source": [
    "##  1: Principal Component Analysis"
   ]
  },
  {
   "cell_type": "markdown",
   "metadata": {
    "id": "CFy-F1-17aJt"
   },
   "source": [
    "The rows of the data set contain the 50 states, in\n",
    "alphabetical order\n",
    "The columns of the data set contain the four variables."
   ]
  },
  {
   "cell_type": "code",
   "execution_count": 2,
   "metadata": {
    "colab": {
     "base_uri": "https://localhost:8080/"
    },
    "id": "1Gazg5td1Wfl",
    "outputId": "8b8412d3-c828-4280-a1a3-653e6b820506"
   },
   "outputs": [
    {
     "name": "stdout",
     "output_type": "stream",
     "text": [
      "<class 'pandas.core.frame.DataFrame'>\n",
      "Index: 50 entries, Alabama to Wyoming\n",
      "Data columns (total 4 columns):\n",
      " #   Column    Non-Null Count  Dtype  \n",
      "---  ------    --------------  -----  \n",
      " 0   Murder    50 non-null     float64\n",
      " 1   Assault   50 non-null     int64  \n",
      " 2   UrbanPop  50 non-null     int64  \n",
      " 3   Rape      50 non-null     float64\n",
      "dtypes: float64(2), int64(2)\n",
      "memory usage: 2.0+ KB\n"
     ]
    }
   ],
   "source": [
    "df = pd.read_csv('USArrests.csv', index_col=0) # each row will be labeled with the corresponding state name\n",
    "df.info()"
   ]
  },
  {
   "cell_type": "markdown",
   "metadata": {
    "id": "RKoglZA67i_T"
   },
   "source": [
    "We first brifey examine the data. We notice that the variables have vastly different means."
   ]
  },
  {
   "cell_type": "code",
   "execution_count": 3,
   "metadata": {
    "colab": {
     "base_uri": "https://localhost:8080/"
    },
    "id": "z13hbPxA1Wfv",
    "outputId": "6d1d9a3f-12d9-420c-8bb0-319cd958c720"
   },
   "outputs": [
    {
     "data": {
      "text/plain": [
       "Murder        7.788\n",
       "Assault     170.760\n",
       "UrbanPop     65.540\n",
       "Rape         21.232\n",
       "dtype: float64"
      ]
     },
     "execution_count": 3,
     "metadata": {},
     "output_type": "execute_result"
    }
   ],
   "source": [
    "df.mean()"
   ]
  },
  {
   "cell_type": "markdown",
   "metadata": {
    "id": "kmrxTKAS7vf1"
   },
   "source": [
    " We see that there are on average three times as many\n",
    "rapes as murders, and more than eight times as many assaults as rapes"
   ]
  },
  {
   "cell_type": "markdown",
   "metadata": {
    "id": "1BrmHAmY76ob"
   },
   "source": [
    "We can also examine the variances of the four variables"
   ]
  },
  {
   "cell_type": "code",
   "execution_count": 4,
   "metadata": {
    "colab": {
     "base_uri": "https://localhost:8080/"
    },
    "id": "ImzrGjWC1Wf5",
    "outputId": "81eb3fa4-3a2b-41d6-f8c4-3dc393364339"
   },
   "outputs": [
    {
     "data": {
      "text/plain": [
       "Murder        18.970465\n",
       "Assault     6945.165714\n",
       "UrbanPop     209.518776\n",
       "Rape          87.729159\n",
       "dtype: float64"
      ]
     },
     "execution_count": 4,
     "metadata": {},
     "output_type": "execute_result"
    }
   ],
   "source": [
    "df.var()"
   ]
  },
  {
   "cell_type": "markdown",
   "metadata": {
    "id": "EcduEOcE8GsA"
   },
   "source": [
    "Not surprisingly, the variables also have vastly different variances: the UrbanPop variable measures the percentage of the population in each state living in an urban area, which is not a comparable number to the number\n",
    "of rapes in each state per 100,000 individuals. \n",
    "\n",
    "If we failed to scale the variables before performing PCA, then most of the principal components that we observed would be driven by the Assault variable, since it has by far the largest mean and variance. \n",
    "\n",
    "Thus, it is important to standardize the variables to have mean zero and standard deviation one before performing PCA."
   ]
  },
  {
   "cell_type": "code",
   "execution_count": 5,
   "metadata": {
    "colab": {
     "base_uri": "https://localhost:8080/",
     "height": 206
    },
    "id": "9_7-_nCr1Wf9",
    "outputId": "707a111a-3fcb-4c22-dafd-83f865ed83e6"
   },
   "outputs": [
    {
     "data": {
      "text/html": [
       "<div>\n",
       "<style scoped>\n",
       "    .dataframe tbody tr th:only-of-type {\n",
       "        vertical-align: middle;\n",
       "    }\n",
       "\n",
       "    .dataframe tbody tr th {\n",
       "        vertical-align: top;\n",
       "    }\n",
       "\n",
       "    .dataframe thead th {\n",
       "        text-align: right;\n",
       "    }\n",
       "</style>\n",
       "<table border=\"1\" class=\"dataframe\">\n",
       "  <thead>\n",
       "    <tr style=\"text-align: right;\">\n",
       "      <th></th>\n",
       "      <th>Murder</th>\n",
       "      <th>Assault</th>\n",
       "      <th>UrbanPop</th>\n",
       "      <th>Rape</th>\n",
       "    </tr>\n",
       "  </thead>\n",
       "  <tbody>\n",
       "    <tr>\n",
       "      <th>Alabama</th>\n",
       "      <td>1.255179</td>\n",
       "      <td>0.790787</td>\n",
       "      <td>-0.526195</td>\n",
       "      <td>-0.003451</td>\n",
       "    </tr>\n",
       "    <tr>\n",
       "      <th>Alaska</th>\n",
       "      <td>0.513019</td>\n",
       "      <td>1.118060</td>\n",
       "      <td>-1.224067</td>\n",
       "      <td>2.509424</td>\n",
       "    </tr>\n",
       "    <tr>\n",
       "      <th>Arizona</th>\n",
       "      <td>0.072361</td>\n",
       "      <td>1.493817</td>\n",
       "      <td>1.009122</td>\n",
       "      <td>1.053466</td>\n",
       "    </tr>\n",
       "    <tr>\n",
       "      <th>Arkansas</th>\n",
       "      <td>0.234708</td>\n",
       "      <td>0.233212</td>\n",
       "      <td>-1.084492</td>\n",
       "      <td>-0.186794</td>\n",
       "    </tr>\n",
       "    <tr>\n",
       "      <th>California</th>\n",
       "      <td>0.281093</td>\n",
       "      <td>1.275635</td>\n",
       "      <td>1.776781</td>\n",
       "      <td>2.088814</td>\n",
       "    </tr>\n",
       "  </tbody>\n",
       "</table>\n",
       "</div>"
      ],
      "text/plain": [
       "              Murder   Assault  UrbanPop      Rape\n",
       "Alabama     1.255179  0.790787 -0.526195 -0.003451\n",
       "Alaska      0.513019  1.118060 -1.224067  2.509424\n",
       "Arizona     0.072361  1.493817  1.009122  1.053466\n",
       "Arkansas    0.234708  0.233212 -1.084492 -0.186794\n",
       "California  0.281093  1.275635  1.776781  2.088814"
      ]
     },
     "execution_count": 5,
     "metadata": {},
     "output_type": "execute_result"
    }
   ],
   "source": [
    "X = pd.DataFrame(scale(df), index=df.index, columns=df.columns)\n",
    "X.head()"
   ]
  },
  {
   "cell_type": "markdown",
   "metadata": {
    "id": "rJRrNLCm8ZvJ"
   },
   "source": [
    "We now perform principal components analysis"
   ]
  },
  {
   "cell_type": "code",
   "execution_count": 6,
   "metadata": {
    "id": "O-_wQ_se6Ujw"
   },
   "outputs": [],
   "source": [
    "pca1=PCA().fit(X)"
   ]
  },
  {
   "cell_type": "markdown",
   "metadata": {},
   "source": [
    "**Shape of pca components is (n_components, n_features) where n_componentsis the min minimum of the number of samples and features**"
   ]
  },
  {
   "cell_type": "markdown",
   "metadata": {
    "id": "By1Ku1me8mso"
   },
   "source": [
    "Show the principal component loadings; each column contains the corresponding principal component loading vector"
   ]
  },
  {
   "cell_type": "code",
   "execution_count": 7,
   "metadata": {
    "colab": {
     "base_uri": "https://localhost:8080/",
     "height": 175
    },
    "id": "VHWwm-dL1Wf_",
    "outputId": "9f19e881-e4ee-4040-980a-2469952eb2fa"
   },
   "outputs": [
    {
     "data": {
      "text/html": [
       "<div>\n",
       "<style scoped>\n",
       "    .dataframe tbody tr th:only-of-type {\n",
       "        vertical-align: middle;\n",
       "    }\n",
       "\n",
       "    .dataframe tbody tr th {\n",
       "        vertical-align: top;\n",
       "    }\n",
       "\n",
       "    .dataframe thead th {\n",
       "        text-align: right;\n",
       "    }\n",
       "</style>\n",
       "<table border=\"1\" class=\"dataframe\">\n",
       "  <thead>\n",
       "    <tr style=\"text-align: right;\">\n",
       "      <th></th>\n",
       "      <th>V1</th>\n",
       "      <th>V2</th>\n",
       "      <th>V3</th>\n",
       "      <th>V4</th>\n",
       "    </tr>\n",
       "  </thead>\n",
       "  <tbody>\n",
       "    <tr>\n",
       "      <th>Murder</th>\n",
       "      <td>0.535899</td>\n",
       "      <td>-0.418181</td>\n",
       "      <td>-0.341233</td>\n",
       "      <td>-0.649228</td>\n",
       "    </tr>\n",
       "    <tr>\n",
       "      <th>Assault</th>\n",
       "      <td>0.583184</td>\n",
       "      <td>-0.187986</td>\n",
       "      <td>-0.268148</td>\n",
       "      <td>0.743407</td>\n",
       "    </tr>\n",
       "    <tr>\n",
       "      <th>UrbanPop</th>\n",
       "      <td>0.278191</td>\n",
       "      <td>0.872806</td>\n",
       "      <td>-0.378016</td>\n",
       "      <td>-0.133878</td>\n",
       "    </tr>\n",
       "    <tr>\n",
       "      <th>Rape</th>\n",
       "      <td>0.543432</td>\n",
       "      <td>0.167319</td>\n",
       "      <td>0.817778</td>\n",
       "      <td>-0.089024</td>\n",
       "    </tr>\n",
       "  </tbody>\n",
       "</table>\n",
       "</div>"
      ],
      "text/plain": [
       "                V1        V2        V3        V4\n",
       "Murder    0.535899 -0.418181 -0.341233 -0.649228\n",
       "Assault   0.583184 -0.187986 -0.268148  0.743407\n",
       "UrbanPop  0.278191  0.872806 -0.378016 -0.133878\n",
       "Rape      0.543432  0.167319  0.817778 -0.089024"
      ]
     },
     "execution_count": 7,
     "metadata": {},
     "output_type": "execute_result"
    }
   ],
   "source": [
    "# The loading vectors\n",
    "pca_loadings = pd.DataFrame(pca1.components_.T, index=df.columns, columns=['V1', 'V2', 'V3', 'V4'])\n",
    "pca_loadings"
   ]
  },
  {
   "cell_type": "markdown",
   "metadata": {},
   "source": [
    "**V1 has 0.536 which indicates it contributes significantly to Murder.** higher value means higher importance\n",
    "\n",
    "**V2 has inverse relationship with Murder**"
   ]
  },
  {
   "cell_type": "markdown",
   "metadata": {
    "id": "yha1nQxH850G"
   },
   "source": [
    "We see that there are four distinct principal components. This is to be expected because there are in general min(n − 1; p) informative principal components in a data set with n observations and p variables."
   ]
  },
  {
   "cell_type": "code",
   "execution_count": 8,
   "metadata": {},
   "outputs": [
    {
     "data": {
      "text/plain": [
       "(50, 4)"
      ]
     },
     "execution_count": 8,
     "metadata": {},
     "output_type": "execute_result"
    }
   ],
   "source": [
    "X.shape"
   ]
  },
  {
   "cell_type": "code",
   "execution_count": 9,
   "metadata": {
    "colab": {
     "base_uri": "https://localhost:8080/",
     "height": 1000
    },
    "id": "MQIByhwo1WgM",
    "outputId": "b7d87dd7-c24f-4201-f015-e3975342581c"
   },
   "outputs": [
    {
     "data": {
      "text/html": [
       "<div>\n",
       "<style scoped>\n",
       "    .dataframe tbody tr th:only-of-type {\n",
       "        vertical-align: middle;\n",
       "    }\n",
       "\n",
       "    .dataframe tbody tr th {\n",
       "        vertical-align: top;\n",
       "    }\n",
       "\n",
       "    .dataframe thead th {\n",
       "        text-align: right;\n",
       "    }\n",
       "</style>\n",
       "<table border=\"1\" class=\"dataframe\">\n",
       "  <thead>\n",
       "    <tr style=\"text-align: right;\">\n",
       "      <th></th>\n",
       "      <th>PC1</th>\n",
       "      <th>PC2</th>\n",
       "      <th>PC3</th>\n",
       "      <th>PC4</th>\n",
       "    </tr>\n",
       "  </thead>\n",
       "  <tbody>\n",
       "    <tr>\n",
       "      <th>Alabama</th>\n",
       "      <td>0.985566</td>\n",
       "      <td>-1.133392</td>\n",
       "      <td>-0.444269</td>\n",
       "      <td>-0.156267</td>\n",
       "    </tr>\n",
       "    <tr>\n",
       "      <th>Alaska</th>\n",
       "      <td>1.950138</td>\n",
       "      <td>-1.073213</td>\n",
       "      <td>2.040003</td>\n",
       "      <td>0.438583</td>\n",
       "    </tr>\n",
       "    <tr>\n",
       "      <th>Arizona</th>\n",
       "      <td>1.763164</td>\n",
       "      <td>0.745957</td>\n",
       "      <td>0.054781</td>\n",
       "      <td>0.834653</td>\n",
       "    </tr>\n",
       "    <tr>\n",
       "      <th>Arkansas</th>\n",
       "      <td>-0.141420</td>\n",
       "      <td>-1.119797</td>\n",
       "      <td>0.114574</td>\n",
       "      <td>0.182811</td>\n",
       "    </tr>\n",
       "    <tr>\n",
       "      <th>California</th>\n",
       "      <td>2.523980</td>\n",
       "      <td>1.542934</td>\n",
       "      <td>0.598557</td>\n",
       "      <td>0.341996</td>\n",
       "    </tr>\n",
       "    <tr>\n",
       "      <th>Colorado</th>\n",
       "      <td>1.514563</td>\n",
       "      <td>0.987555</td>\n",
       "      <td>1.095007</td>\n",
       "      <td>-0.001465</td>\n",
       "    </tr>\n",
       "    <tr>\n",
       "      <th>Connecticut</th>\n",
       "      <td>-1.358647</td>\n",
       "      <td>1.088928</td>\n",
       "      <td>-0.643258</td>\n",
       "      <td>0.118469</td>\n",
       "    </tr>\n",
       "    <tr>\n",
       "      <th>Delaware</th>\n",
       "      <td>0.047709</td>\n",
       "      <td>0.325359</td>\n",
       "      <td>-0.718633</td>\n",
       "      <td>0.881978</td>\n",
       "    </tr>\n",
       "    <tr>\n",
       "      <th>Florida</th>\n",
       "      <td>3.013042</td>\n",
       "      <td>-0.039229</td>\n",
       "      <td>-0.576829</td>\n",
       "      <td>0.096285</td>\n",
       "    </tr>\n",
       "    <tr>\n",
       "      <th>Georgia</th>\n",
       "      <td>1.639283</td>\n",
       "      <td>-1.278942</td>\n",
       "      <td>-0.342460</td>\n",
       "      <td>-1.076797</td>\n",
       "    </tr>\n",
       "    <tr>\n",
       "      <th>Hawaii</th>\n",
       "      <td>-0.912657</td>\n",
       "      <td>1.570460</td>\n",
       "      <td>0.050782</td>\n",
       "      <td>-0.902807</td>\n",
       "    </tr>\n",
       "    <tr>\n",
       "      <th>Idaho</th>\n",
       "      <td>-1.639800</td>\n",
       "      <td>-0.210973</td>\n",
       "      <td>0.259801</td>\n",
       "      <td>0.499104</td>\n",
       "    </tr>\n",
       "    <tr>\n",
       "      <th>Illinois</th>\n",
       "      <td>1.378911</td>\n",
       "      <td>0.681841</td>\n",
       "      <td>-0.677496</td>\n",
       "      <td>0.122021</td>\n",
       "    </tr>\n",
       "    <tr>\n",
       "      <th>Indiana</th>\n",
       "      <td>-0.505461</td>\n",
       "      <td>0.151563</td>\n",
       "      <td>0.228055</td>\n",
       "      <td>-0.424666</td>\n",
       "    </tr>\n",
       "    <tr>\n",
       "      <th>Iowa</th>\n",
       "      <td>-2.253646</td>\n",
       "      <td>0.104054</td>\n",
       "      <td>0.164564</td>\n",
       "      <td>-0.017556</td>\n",
       "    </tr>\n",
       "    <tr>\n",
       "      <th>Kansas</th>\n",
       "      <td>-0.796881</td>\n",
       "      <td>0.270165</td>\n",
       "      <td>0.025553</td>\n",
       "      <td>-0.206496</td>\n",
       "    </tr>\n",
       "    <tr>\n",
       "      <th>Kentucky</th>\n",
       "      <td>-0.750859</td>\n",
       "      <td>-0.958440</td>\n",
       "      <td>-0.028369</td>\n",
       "      <td>-0.670557</td>\n",
       "    </tr>\n",
       "    <tr>\n",
       "      <th>Louisiana</th>\n",
       "      <td>1.564818</td>\n",
       "      <td>-0.871055</td>\n",
       "      <td>-0.783480</td>\n",
       "      <td>-0.454728</td>\n",
       "    </tr>\n",
       "    <tr>\n",
       "      <th>Maine</th>\n",
       "      <td>-2.396829</td>\n",
       "      <td>-0.376392</td>\n",
       "      <td>-0.065682</td>\n",
       "      <td>0.330460</td>\n",
       "    </tr>\n",
       "    <tr>\n",
       "      <th>Maryland</th>\n",
       "      <td>1.763369</td>\n",
       "      <td>-0.427655</td>\n",
       "      <td>-0.157250</td>\n",
       "      <td>0.559070</td>\n",
       "    </tr>\n",
       "    <tr>\n",
       "      <th>Massachusetts</th>\n",
       "      <td>-0.486166</td>\n",
       "      <td>1.474496</td>\n",
       "      <td>-0.609497</td>\n",
       "      <td>0.179599</td>\n",
       "    </tr>\n",
       "    <tr>\n",
       "      <th>Michigan</th>\n",
       "      <td>2.108441</td>\n",
       "      <td>0.155397</td>\n",
       "      <td>0.384869</td>\n",
       "      <td>-0.102372</td>\n",
       "    </tr>\n",
       "    <tr>\n",
       "      <th>Minnesota</th>\n",
       "      <td>-1.692682</td>\n",
       "      <td>0.632261</td>\n",
       "      <td>0.153070</td>\n",
       "      <td>-0.067317</td>\n",
       "    </tr>\n",
       "    <tr>\n",
       "      <th>Mississippi</th>\n",
       "      <td>0.996494</td>\n",
       "      <td>-2.393796</td>\n",
       "      <td>-0.740808</td>\n",
       "      <td>-0.215508</td>\n",
       "    </tr>\n",
       "    <tr>\n",
       "      <th>Missouri</th>\n",
       "      <td>0.696787</td>\n",
       "      <td>0.263355</td>\n",
       "      <td>0.377444</td>\n",
       "      <td>-0.225824</td>\n",
       "    </tr>\n",
       "    <tr>\n",
       "      <th>Montana</th>\n",
       "      <td>-1.185452</td>\n",
       "      <td>-0.536874</td>\n",
       "      <td>0.246889</td>\n",
       "      <td>-0.123742</td>\n",
       "    </tr>\n",
       "    <tr>\n",
       "      <th>Nebraska</th>\n",
       "      <td>-1.265637</td>\n",
       "      <td>0.193954</td>\n",
       "      <td>0.175574</td>\n",
       "      <td>-0.015893</td>\n",
       "    </tr>\n",
       "    <tr>\n",
       "      <th>Nevada</th>\n",
       "      <td>2.874395</td>\n",
       "      <td>0.775600</td>\n",
       "      <td>1.163380</td>\n",
       "      <td>-0.314515</td>\n",
       "    </tr>\n",
       "    <tr>\n",
       "      <th>New Hampshire</th>\n",
       "      <td>-2.383915</td>\n",
       "      <td>0.018082</td>\n",
       "      <td>0.036855</td>\n",
       "      <td>0.033137</td>\n",
       "    </tr>\n",
       "    <tr>\n",
       "      <th>New Jersey</th>\n",
       "      <td>0.181566</td>\n",
       "      <td>1.449506</td>\n",
       "      <td>-0.764454</td>\n",
       "      <td>-0.243383</td>\n",
       "    </tr>\n",
       "    <tr>\n",
       "      <th>New Mexico</th>\n",
       "      <td>1.980024</td>\n",
       "      <td>-0.142849</td>\n",
       "      <td>0.183692</td>\n",
       "      <td>0.339534</td>\n",
       "    </tr>\n",
       "    <tr>\n",
       "      <th>New York</th>\n",
       "      <td>1.682577</td>\n",
       "      <td>0.823184</td>\n",
       "      <td>-0.643075</td>\n",
       "      <td>0.013484</td>\n",
       "    </tr>\n",
       "    <tr>\n",
       "      <th>North Carolina</th>\n",
       "      <td>1.123379</td>\n",
       "      <td>-2.228003</td>\n",
       "      <td>-0.863572</td>\n",
       "      <td>0.954382</td>\n",
       "    </tr>\n",
       "    <tr>\n",
       "      <th>North Dakota</th>\n",
       "      <td>-2.992226</td>\n",
       "      <td>-0.599119</td>\n",
       "      <td>0.301277</td>\n",
       "      <td>0.253987</td>\n",
       "    </tr>\n",
       "    <tr>\n",
       "      <th>Ohio</th>\n",
       "      <td>-0.225965</td>\n",
       "      <td>0.742238</td>\n",
       "      <td>-0.031139</td>\n",
       "      <td>-0.473916</td>\n",
       "    </tr>\n",
       "    <tr>\n",
       "      <th>Oklahoma</th>\n",
       "      <td>-0.311783</td>\n",
       "      <td>0.287854</td>\n",
       "      <td>-0.015310</td>\n",
       "      <td>-0.010332</td>\n",
       "    </tr>\n",
       "    <tr>\n",
       "      <th>Oregon</th>\n",
       "      <td>0.059122</td>\n",
       "      <td>0.541411</td>\n",
       "      <td>0.939833</td>\n",
       "      <td>0.237781</td>\n",
       "    </tr>\n",
       "    <tr>\n",
       "      <th>Pennsylvania</th>\n",
       "      <td>-0.888416</td>\n",
       "      <td>0.571100</td>\n",
       "      <td>-0.400629</td>\n",
       "      <td>-0.359061</td>\n",
       "    </tr>\n",
       "    <tr>\n",
       "      <th>Rhode Island</th>\n",
       "      <td>-0.863772</td>\n",
       "      <td>1.491978</td>\n",
       "      <td>-1.369946</td>\n",
       "      <td>0.613569</td>\n",
       "    </tr>\n",
       "    <tr>\n",
       "      <th>South Carolina</th>\n",
       "      <td>1.320724</td>\n",
       "      <td>-1.933405</td>\n",
       "      <td>-0.300538</td>\n",
       "      <td>0.131467</td>\n",
       "    </tr>\n",
       "    <tr>\n",
       "      <th>South Dakota</th>\n",
       "      <td>-1.987775</td>\n",
       "      <td>-0.823343</td>\n",
       "      <td>0.389293</td>\n",
       "      <td>0.109572</td>\n",
       "    </tr>\n",
       "    <tr>\n",
       "      <th>Tennessee</th>\n",
       "      <td>0.999742</td>\n",
       "      <td>-0.860251</td>\n",
       "      <td>0.188083</td>\n",
       "      <td>-0.652864</td>\n",
       "    </tr>\n",
       "    <tr>\n",
       "      <th>Texas</th>\n",
       "      <td>1.355138</td>\n",
       "      <td>0.412481</td>\n",
       "      <td>-0.492069</td>\n",
       "      <td>-0.643195</td>\n",
       "    </tr>\n",
       "    <tr>\n",
       "      <th>Utah</th>\n",
       "      <td>-0.550565</td>\n",
       "      <td>1.471505</td>\n",
       "      <td>0.293728</td>\n",
       "      <td>0.082314</td>\n",
       "    </tr>\n",
       "    <tr>\n",
       "      <th>Vermont</th>\n",
       "      <td>-2.801412</td>\n",
       "      <td>-1.402288</td>\n",
       "      <td>0.841263</td>\n",
       "      <td>0.144890</td>\n",
       "    </tr>\n",
       "    <tr>\n",
       "      <th>Virginia</th>\n",
       "      <td>-0.096335</td>\n",
       "      <td>-0.199735</td>\n",
       "      <td>0.011713</td>\n",
       "      <td>-0.211371</td>\n",
       "    </tr>\n",
       "    <tr>\n",
       "      <th>Washington</th>\n",
       "      <td>-0.216903</td>\n",
       "      <td>0.970124</td>\n",
       "      <td>0.624871</td>\n",
       "      <td>0.220848</td>\n",
       "    </tr>\n",
       "    <tr>\n",
       "      <th>West Virginia</th>\n",
       "      <td>-2.108585</td>\n",
       "      <td>-1.424847</td>\n",
       "      <td>0.104775</td>\n",
       "      <td>-0.131909</td>\n",
       "    </tr>\n",
       "    <tr>\n",
       "      <th>Wisconsin</th>\n",
       "      <td>-2.079714</td>\n",
       "      <td>0.611269</td>\n",
       "      <td>-0.138865</td>\n",
       "      <td>-0.184104</td>\n",
       "    </tr>\n",
       "    <tr>\n",
       "      <th>Wyoming</th>\n",
       "      <td>-0.629427</td>\n",
       "      <td>-0.321013</td>\n",
       "      <td>-0.240659</td>\n",
       "      <td>0.166652</td>\n",
       "    </tr>\n",
       "  </tbody>\n",
       "</table>\n",
       "</div>"
      ],
      "text/plain": [
       "                     PC1       PC2       PC3       PC4\n",
       "Alabama         0.985566 -1.133392 -0.444269 -0.156267\n",
       "Alaska          1.950138 -1.073213  2.040003  0.438583\n",
       "Arizona         1.763164  0.745957  0.054781  0.834653\n",
       "Arkansas       -0.141420 -1.119797  0.114574  0.182811\n",
       "California      2.523980  1.542934  0.598557  0.341996\n",
       "Colorado        1.514563  0.987555  1.095007 -0.001465\n",
       "Connecticut    -1.358647  1.088928 -0.643258  0.118469\n",
       "Delaware        0.047709  0.325359 -0.718633  0.881978\n",
       "Florida         3.013042 -0.039229 -0.576829  0.096285\n",
       "Georgia         1.639283 -1.278942 -0.342460 -1.076797\n",
       "Hawaii         -0.912657  1.570460  0.050782 -0.902807\n",
       "Idaho          -1.639800 -0.210973  0.259801  0.499104\n",
       "Illinois        1.378911  0.681841 -0.677496  0.122021\n",
       "Indiana        -0.505461  0.151563  0.228055 -0.424666\n",
       "Iowa           -2.253646  0.104054  0.164564 -0.017556\n",
       "Kansas         -0.796881  0.270165  0.025553 -0.206496\n",
       "Kentucky       -0.750859 -0.958440 -0.028369 -0.670557\n",
       "Louisiana       1.564818 -0.871055 -0.783480 -0.454728\n",
       "Maine          -2.396829 -0.376392 -0.065682  0.330460\n",
       "Maryland        1.763369 -0.427655 -0.157250  0.559070\n",
       "Massachusetts  -0.486166  1.474496 -0.609497  0.179599\n",
       "Michigan        2.108441  0.155397  0.384869 -0.102372\n",
       "Minnesota      -1.692682  0.632261  0.153070 -0.067317\n",
       "Mississippi     0.996494 -2.393796 -0.740808 -0.215508\n",
       "Missouri        0.696787  0.263355  0.377444 -0.225824\n",
       "Montana        -1.185452 -0.536874  0.246889 -0.123742\n",
       "Nebraska       -1.265637  0.193954  0.175574 -0.015893\n",
       "Nevada          2.874395  0.775600  1.163380 -0.314515\n",
       "New Hampshire  -2.383915  0.018082  0.036855  0.033137\n",
       "New Jersey      0.181566  1.449506 -0.764454 -0.243383\n",
       "New Mexico      1.980024 -0.142849  0.183692  0.339534\n",
       "New York        1.682577  0.823184 -0.643075  0.013484\n",
       "North Carolina  1.123379 -2.228003 -0.863572  0.954382\n",
       "North Dakota   -2.992226 -0.599119  0.301277  0.253987\n",
       "Ohio           -0.225965  0.742238 -0.031139 -0.473916\n",
       "Oklahoma       -0.311783  0.287854 -0.015310 -0.010332\n",
       "Oregon          0.059122  0.541411  0.939833  0.237781\n",
       "Pennsylvania   -0.888416  0.571100 -0.400629 -0.359061\n",
       "Rhode Island   -0.863772  1.491978 -1.369946  0.613569\n",
       "South Carolina  1.320724 -1.933405 -0.300538  0.131467\n",
       "South Dakota   -1.987775 -0.823343  0.389293  0.109572\n",
       "Tennessee       0.999742 -0.860251  0.188083 -0.652864\n",
       "Texas           1.355138  0.412481 -0.492069 -0.643195\n",
       "Utah           -0.550565  1.471505  0.293728  0.082314\n",
       "Vermont        -2.801412 -1.402288  0.841263  0.144890\n",
       "Virginia       -0.096335 -0.199735  0.011713 -0.211371\n",
       "Washington     -0.216903  0.970124  0.624871  0.220848\n",
       "West Virginia  -2.108585 -1.424847  0.104775 -0.131909\n",
       "Wisconsin      -2.079714  0.611269 -0.138865 -0.184104\n",
       "Wyoming        -0.629427 -0.321013 -0.240659  0.166652"
      ]
     },
     "execution_count": 9,
     "metadata": {},
     "output_type": "execute_result"
    }
   ],
   "source": [
    "# Fit the PCA model and transform X to get the principal components\n",
    "pca = PCA()\n",
    "df_plot = pd.DataFrame(pca.fit_transform(X), columns=['PC1', 'PC2', 'PC3', 'PC4'], index=X.index)\n",
    "df_plot"
   ]
  },
  {
   "cell_type": "markdown",
   "metadata": {
    "id": "fhDOBvN89e02"
   },
   "source": [
    "We can plot the first two principal components as follows:"
   ]
  },
  {
   "cell_type": "code",
   "execution_count": 17,
   "metadata": {
    "colab": {
     "base_uri": "https://localhost:8080/",
     "height": 464
    },
    "id": "jHERVzpj1WgP",
    "outputId": "3fc02f80-ac46-45ce-fafd-b43d8dc3acce"
   },
   "outputs": [
    {
     "name": "stderr",
     "output_type": "stream",
     "text": [
      "C:\\Users\\jawad\\AppData\\Local\\Temp\\ipykernel_27372\\1119103770.py:31: FutureWarning: Series.__getitem__ treating keys as positions is deprecated. In a future version, integer keys will always be treated as labels (consistent with DataFrame behavior). To access a value by position, use `ser.iloc[pos]`\n",
      "  ax2.arrow(0,0,pca_loadings.V1[0], -pca_loadings.V2[0])\n",
      "C:\\Users\\jawad\\AppData\\Local\\Temp\\ipykernel_27372\\1119103770.py:32: FutureWarning: Series.__getitem__ treating keys as positions is deprecated. In a future version, integer keys will always be treated as labels (consistent with DataFrame behavior). To access a value by position, use `ser.iloc[pos]`\n",
      "  ax2.arrow(0,0,pca_loadings.V1[1], -pca_loadings.V2[1])\n",
      "C:\\Users\\jawad\\AppData\\Local\\Temp\\ipykernel_27372\\1119103770.py:33: FutureWarning: Series.__getitem__ treating keys as positions is deprecated. In a future version, integer keys will always be treated as labels (consistent with DataFrame behavior). To access a value by position, use `ser.iloc[pos]`\n",
      "  ax2.arrow(0,0,pca_loadings.V1[2], -pca_loadings.V2[2])\n",
      "C:\\Users\\jawad\\AppData\\Local\\Temp\\ipykernel_27372\\1119103770.py:34: FutureWarning: Series.__getitem__ treating keys as positions is deprecated. In a future version, integer keys will always be treated as labels (consistent with DataFrame behavior). To access a value by position, use `ser.iloc[pos]`\n",
      "  ax2.arrow(0,0,pca_loadings.V1[3], -pca_loadings.V2[3])\n"
     ]
    },
    {
     "data": {
      "image/png": "[encoded data removed]",
      "text/plain": [
       "<Figure size 900x700 with 3 Axes>"
      ]
     },
     "metadata": {},
     "output_type": "display_data"
    }
   ],
   "source": [
    "fig , ax1 = plt.subplots(figsize=(9,7))\n",
    "\n",
    "ax1.set_xlim(-3.5,3.5)\n",
    "ax1.set_ylim(-3.5,3.5)\n",
    "\n",
    "# Plot Principal Components 1 and 2\n",
    "for i in df_plot.index:\n",
    "    ax1.annotate(i, (df_plot.PC1.loc[i], -df_plot.PC2.loc[i]), ha='center')\n",
    "\n",
    "# Plot reference lines\n",
    "ax1.hlines(0,-3.5,3.5, linestyles='dotted', colors='grey')\n",
    "ax1.vlines(0,-3.5,3.5, linestyles='dotted', colors='grey')\n",
    "\n",
    "ax1.set_xlabel('First Principal Component')\n",
    "ax1.set_ylabel('Second Principal Component')\n",
    "    \n",
    "# Plot Principal Component loading vectors, using a second y-axis.\n",
    "ax2 = ax1.twinx().twiny() \n",
    "\n",
    "ax2.set_ylim(-1,1)\n",
    "ax2.set_xlim(-1,1)\n",
    "ax2.tick_params(axis='y', colors='orange')\n",
    "ax2.set_xlabel('Principal Component loading vectors', color='orange')\n",
    "\n",
    "# Plot labels for vectors. Variable 'a' is a small offset parameter to separate arrow tip and text.\n",
    "a = 1.07  \n",
    "for i in pca_loadings[['V1', 'V2']].index:\n",
    "    ax2.annotate(i, (pca_loadings.V1.loc[i]*a, -pca_loadings.V2.loc[i]*a), color='orange')\n",
    "\n",
    "# Plot vectors\n",
    "ax2.arrow(0,0,pca_loadings.V1[0], -pca_loadings.V2[0])\n",
    "ax2.arrow(0,0,pca_loadings.V1[1], -pca_loadings.V2[1])\n",
    "ax2.arrow(0,0,pca_loadings.V1[2], -pca_loadings.V2[2])\n",
    "ax2.arrow(0,0,pca_loadings.V1[3], -pca_loadings.V2[3])\n",
    "plt.show()"
   ]
  },
  {
   "cell_type": "code",
   "execution_count": 11,
   "metadata": {
    "colab": {
     "base_uri": "https://localhost:8080/"
    },
    "id": "gctxPQTB1WgY",
    "outputId": "eedeb81d-1f8e-44e5-d033-178b8ca78ed8"
   },
   "outputs": [
    {
     "data": {
      "text/plain": [
       "array([1.5908673 , 1.00496987, 0.6031915 , 0.4206774 ])"
      ]
     },
     "execution_count": 11,
     "metadata": {},
     "output_type": "execute_result"
    }
   ],
   "source": [
    "# Standard deviation of the four principal components\n",
    "np.sqrt(pca.explained_variance_)"
   ]
  },
  {
   "cell_type": "code",
   "execution_count": 12,
   "metadata": {
    "colab": {
     "base_uri": "https://localhost:8080/"
    },
    "id": "8wWJTGAL1Wgb",
    "outputId": "d0fce2ca-5596-4a04-9dca-fd1733a3f627"
   },
   "outputs": [
    {
     "data": {
      "text/plain": [
       "array([2.53085875, 1.00996444, 0.36383998, 0.17696948])"
      ]
     },
     "execution_count": 12,
     "metadata": {},
     "output_type": "execute_result"
    }
   ],
   "source": [
    "pca.explained_variance_"
   ]
  },
  {
   "cell_type": "code",
   "execution_count": 13,
   "metadata": {
    "colab": {
     "base_uri": "https://localhost:8080/"
    },
    "id": "Am6ITc0F1Wge",
    "outputId": "a3537901-4477-4b5d-812e-9cb53993fbf2"
   },
   "outputs": [
    {
     "data": {
      "text/plain": [
       "array([0.62006039, 0.24744129, 0.0891408 , 0.04335752])"
      ]
     },
     "execution_count": 13,
     "metadata": {},
     "output_type": "execute_result"
    }
   ],
   "source": [
    "pca.explained_variance_ratio_"
   ]
  },
  {
   "cell_type": "markdown",
   "metadata": {
    "id": "x3xnZ43N-IoD"
   },
   "source": [
    "We see that the first principal component explains 62.0% of the variance in the data, the next principal component explains 24.7% of the variance, and so forth."
   ]
  },
  {
   "cell_type": "markdown",
   "metadata": {
    "id": "Be0O14Bp-QsT"
   },
   "source": [
    "We can plot the Proportion of Variance Explained PVE explained by each component, as well as the cumulative PVE, as follows:"
   ]
  },
  {
   "cell_type": "code",
   "execution_count": 16,
   "metadata": {
    "colab": {
     "base_uri": "https://localhost:8080/",
     "height": 330
    },
    "id": "W045Be2J1Wgi",
    "outputId": "86f4fba8-382e-4fb3-ef65-287a65f43a77"
   },
   "outputs": [
    {
     "data": {
      "image/png": "[encoded data removed]",
      "text/plain": [
       "<Figure size 700x500 with 1 Axes>"
      ]
     },
     "metadata": {},
     "output_type": "display_data"
    }
   ],
   "source": [
    "plt.figure(figsize=(7,5))\n",
    "\n",
    "plt.plot([1,2,3,4], pca.explained_variance_ratio_, '-o', label='Individual component')\n",
    "plt.plot([1,2,3,4], np.cumsum(pca.explained_variance_ratio_), '-s', label='Cumulative')\n",
    "\n",
    "plt.ylabel('Proportion of Variance Explained')\n",
    "plt.xlabel('Principal Component')\n",
    "plt.xlim(0.75,4.25)\n",
    "plt.ylim(0,1.05)\n",
    "plt.xticks([1,2,3,4])\n",
    "plt.legend(loc=2);\n",
    "plt.show()"
   ]
  },
  {
   "cell_type": "markdown",
   "metadata": {
    "id": "U-r3w2zm1Wh-"
   },
   "source": [
    "## 2: NCI60 Data Example"
   ]
  },
  {
   "cell_type": "markdown",
   "metadata": {
    "id": "NFTzs13U1Wh_"
   },
   "source": [
    "### PCA\n",
    "Apply PCA one the attached NC160 dataset\n",
    "similar to what we did in the lab\n"
   ]
  }
 ],
 "metadata": {
  "colab": {
   "provenance": []
  },
  "kernelspec": {
   "display_name": "Python 3 (ipykernel)",
   "language": "python",
   "name": "python3"
  },
  "language_info": {
   "codemirror_mode": {
    "name": "ipython",
    "version": 3
   },
   "file_extension": ".py",
   "mimetype": "text/x-python",
   "name": "python",
   "nbconvert_exporter": "python",
   "pygments_lexer": "ipython3",
   "version": "3.12.4"
  }
 },
 "nbformat": 4,
 "nbformat_minor": 4
}
