{
 "cells": [
  {
   "cell_type": "markdown",
   "id": "4a1d76db-1e45-459e-962f-dbddbba2c4c1",
   "metadata": {},
   "source": [
    "# AI305 Lab 1 - Python Setup"
   ]
  },
  {
   "cell_type": "markdown",
   "id": "aeda8118-0f72-4ea6-8901-662a9c74214d",
   "metadata": {},
   "source": [
    "### Objective of this lab:\n",
    "This lab introduces NumPy, Pandas, and Matplotlib Python libraries for data science and machine learning. You'll learn to perform numerical computations, manage and manipulate datasets, and create visualizations. By the end, you'll be equipped to handle basic operations crucial for machine learning workflows."
   ]
  },
  {
   "cell_type": "markdown",
   "id": "fccf8317-47ba-48f7-9dbe-b35b867ebbd9",
   "metadata": {},
   "source": [
    "# Quick Python Recap\n",
    "Short revision about related python libraries"
   ]
  },
  {
   "cell_type": "code",
   "execution_count": 4,
   "id": "8977b4c8-965e-436a-866a-8889b3b1e891",
   "metadata": {},
   "outputs": [
    {
     "name": "stdout",
     "output_type": "stream",
     "text": [
      "x is greater than 5\n"
     ]
    }
   ],
   "source": [
    "# If-Else statement\n",
    "x = 10\n",
    "if x > 5:\n",
    "    print(\"x is greater than 5\")\n",
    "elif x == 5:\n",
    "    print(\"x is equal to 5\")\n",
    "else:\n",
    "    print(\"x is less than 5\")\n"
   ]
  },
  {
   "cell_type": "code",
   "execution_count": 6,
   "id": "632f9f02-c19b-4b0d-ad19-26eb35c6a0ba",
   "metadata": {},
   "outputs": [
    {
     "name": "stdout",
     "output_type": "stream",
     "text": [
      "0\n",
      "1\n",
      "2\n",
      "3\n",
      "4\n"
     ]
    }
   ],
   "source": [
    "# For loop\n",
    "for i in range(5):\n",
    "    print(i)"
   ]
  },
  {
   "cell_type": "code",
   "execution_count": 8,
   "id": "4b77b70d-18bc-4443-a0af-712bb6191840",
   "metadata": {},
   "outputs": [
    {
     "name": "stdout",
     "output_type": "stream",
     "text": [
      "0\n",
      "1\n",
      "2\n",
      "3\n",
      "4\n"
     ]
    }
   ],
   "source": [
    "# While loop\n",
    "i = 0\n",
    "while i < 5:\n",
    "    print(i)\n",
    "    i += 1 # i = i+1"
   ]
  },
  {
   "cell_type": "code",
   "execution_count": 10,
   "id": "28bc433e-d70e-41e4-9df1-4fda3637434a",
   "metadata": {},
   "outputs": [
    {
     "name": "stdout",
     "output_type": "stream",
     "text": [
      "1\n"
     ]
    },
    {
     "data": {
      "text/plain": [
       "[1, 2, 3, 4, 5, 6]"
      ]
     },
     "execution_count": 10,
     "metadata": {},
     "output_type": "execute_result"
    }
   ],
   "source": [
    "# List\n",
    "my_list = [1, 2, 3, 4, 5]\n",
    "print(my_list[0]) # print first elment ''' index starts from 0 rather than 1'''\n",
    "my_list.append(6)  # Add an element to the list\n",
    "my_list"
   ]
  },
  {
   "cell_type": "code",
   "execution_count": 18,
   "id": "57fff9f5-cb12-4c27-a169-de5af505a7f4",
   "metadata": {},
   "outputs": [
    {
     "name": "stdout",
     "output_type": "stream",
     "text": [
      "Mohammed\n"
     ]
    }
   ],
   "source": [
    "# Dictionary\n",
    "my_dict = {'name': 'Mohammed', 'age': 25}\n",
    "print(my_dict['name'])  # Access value by key\n",
    "my_dict['age'] = 26  # Update value using its key"
   ]
  },
  {
   "cell_type": "code",
   "execution_count": 20,
   "id": "19c0a70b-c1fd-4bf5-b033-d0431d3ff872",
   "metadata": {},
   "outputs": [
    {
     "name": "stdout",
     "output_type": "stream",
     "text": [
      "name: Mohammed\n",
      "age: 26\n"
     ]
    }
   ],
   "source": [
    "# iterate over a dict\n",
    "for key, value in my_dict.items():\n",
    "    print(f\"{key}: {value}\")"
   ]
  },
  {
   "cell_type": "code",
   "execution_count": 22,
   "id": "5f3456f8-4ba2-4354-9270-291dc0e2a81c",
   "metadata": {},
   "outputs": [
    {
     "name": "stdout",
     "output_type": "stream",
     "text": [
      "Hello Mohammed\n"
     ]
    }
   ],
   "source": [
    "# create a function\n",
    "def greet(name):\n",
    "    return f\"Hello {name}\"\n",
    "\n",
    "print(greet(\"Mohammed\")) "
   ]
  },
  {
   "cell_type": "markdown",
   "id": "1590a26e-48d9-48ac-89d1-e60db1ba4424",
   "metadata": {},
   "source": [
    "# Part 1"
   ]
  },
  {
   "cell_type": "markdown",
   "id": "97358f96-cd0a-406f-b127-ff57ddbc37b0",
   "metadata": {},
   "source": [
    "### What is NumPy? https://numpy.org/\n",
    "\n",
    "NumPy, which stands for Numerical Python, is a fundamental package for scientific computing in Python. It provides support for large, multi-dimensional arrays and matrices, along with a collection of mathematical functions to operate on these arrays. Whether you’re working with vectors, matrices, or high-dimensional data, NumPy is an essential tool in the Python ecosystem."
   ]
  },
  {
   "cell_type": "markdown",
   "id": "7a28820d-d9c3-4cf1-812c-d1929bbdb0ed",
   "metadata": {},
   "source": [
    "## Let's start with some basic operations"
   ]
  },
  {
   "cell_type": "markdown",
   "id": "07956c8f-97eb-4b3e-b4d4-88356b4ba23e",
   "metadata": {},
   "source": [
    "### Creating Arrays\n"
   ]
  },
  {
   "cell_type": "code",
   "execution_count": 32,
   "id": "3d690d03-0b3c-4f44-8ae7-bf683eeaf4e0",
   "metadata": {},
   "outputs": [
    {
     "name": "stdout",
     "output_type": "stream",
     "text": [
      "[1 2 3]\n"
     ]
    }
   ],
   "source": [
    "import numpy as np\n",
    "array = np.array([1, 2, 3])\n",
    "print(array)"
   ]
  },
  {
   "cell_type": "markdown",
   "id": "41a1353c-e97a-4513-a0bf-14a2989e2d0c",
   "metadata": {},
   "source": [
    "### Creating Arrays or Vectors of Zeros and Ones"
   ]
  },
  {
   "cell_type": "code",
   "execution_count": 35,
   "id": "e94e6b5a-5797-43b2-ae74-e5fc96431f45",
   "metadata": {},
   "outputs": [
    {
     "name": "stdout",
     "output_type": "stream",
     "text": [
      "Array of zeros:\n",
      " [[0. 0. 0.]\n",
      " [0. 0. 0.]\n",
      " [0. 0. 0.]]\n",
      "\n",
      "Array of ones:\n",
      " [[1. 1. 1.]\n",
      " [1. 1. 1.]\n",
      " [1. 1. 1.]]\n",
      "\n",
      "\n",
      "Vector of zeros:\n",
      " [0. 0. 0.]\n",
      "\n",
      "Vector of ones:\n",
      " [1. 1. 1.]\n"
     ]
    }
   ],
   "source": [
    "zeros_array = np.zeros((3, 3))\n",
    "ones_array = np.ones((3, 3))\n",
    "print(\"Array of zeros:\\n\", zeros_array)\n",
    "print()\n",
    "print(\"Array of ones:\\n\", ones_array)\n",
    "\n",
    "\n",
    "zeros_vec = np.zeros((3))\n",
    "ones_vec = np.ones((3))\n",
    "\n",
    "print(\"\\n\\nVector of zeros:\\n\", zeros_vec)\n",
    "print()\n",
    "print(\"Vector of ones:\\n\", ones_vec)"
   ]
  },
  {
   "cell_type": "markdown",
   "id": "2f00a55d-f0e5-41ee-9e84-f34e208bfc94",
   "metadata": {},
   "source": [
    "### Random Number Generation\n",
    "Generate random numbers using \"np.random.rand()\" for a uniform distribution or \"np.random.randn()\" for a normal distribution."
   ]
  },
  {
   "cell_type": "code",
   "execution_count": 61,
   "id": "502fbe85-89c3-48a0-9ac2-f955d78dd9c7",
   "metadata": {},
   "outputs": [
    {
     "name": "stdout",
     "output_type": "stream",
     "text": [
      "Uniform Random Numbers:\n",
      " [[0.35106901 0.27381546 0.31991491]\n",
      " [0.46875119 0.20049157 0.58329164]\n",
      " [0.83110455 0.13182248 0.6522801 ]]\n",
      "\n",
      "Normal Random Numbers:\n",
      " [[ 0.5473167  -0.54101309  0.99100342]\n",
      " [ 0.91156139  0.23107696  0.78748769]\n",
      " [-2.92006153 -0.03310643 -2.49812313]]\n",
      "\n",
      "Int Random Numbers:\n",
      " [[4 4 6]\n",
      " [7 3 4]\n",
      " [3 9 3]]\n"
     ]
    }
   ],
   "source": [
    "random_uniform_array = np.random.rand(3, 3)\n",
    "random_normal_array = np.random.randn(3, 3)\n",
    "random_int_array = np.random.randint(low = 3, high = 10, size = (3,3))\n",
    "print(\"Uniform Random Numbers:\\n\", random_uniform_array)\n",
    "print()\n",
    "print(\"Normal Random Numbers:\\n\", random_normal_array)\n",
    "print()\n",
    "print(\"Int Random Numbers:\\n\", random_int_array)"
   ]
  },
  {
   "cell_type": "markdown",
   "id": "ab5a853d-f4f2-4220-b941-e2a0174181e4",
   "metadata": {},
   "source": [
    "### Dot Product and Matrix Operations\n"
   ]
  },
  {
   "cell_type": "code",
   "execution_count": 45,
   "id": "a72890a6-d4c7-42d0-a6b2-44d32829a154",
   "metadata": {},
   "outputs": [
    {
     "name": "stdout",
     "output_type": "stream",
     "text": [
      "Dot Product:\n",
      " [[19 22]\n",
      " [43 50]]\n",
      "\n",
      " Other Product\n",
      "[[ 5 12]\n",
      " [21 32]]\n"
     ]
    }
   ],
   "source": [
    "arr1 = np.array([[1, 2], [3, 4]])\n",
    "arr2 = np.array([[5, 6], [7, 8]])\n",
    "dot_product = np.dot(arr1, arr2)\n",
    "print(\"Dot Product:\\n\", dot_product)\n",
    "print(\"\\n Other Product\")\n",
    "print(arr1*arr2)"
   ]
  },
  {
   "cell_type": "code",
   "execution_count": 47,
   "id": "5c1a923e-683d-4848-a4e6-70cc1bd0d04b",
   "metadata": {},
   "outputs": [
    {
     "name": "stdout",
     "output_type": "stream",
     "text": [
      "Total Sum: 10\n",
      "Mean: 2.5\n",
      "Standard Deviation: 1.118033988749895\n"
     ]
    }
   ],
   "source": [
    "# Sum, mean, and standard deviation of arr1 elements.\n",
    "total_sum = np.sum(arr1)\n",
    "mean_value = np.mean(arr1)\n",
    "std_value = np.std(arr1)\n",
    "print(\"Total Sum:\", total_sum)\n",
    "print(\"Mean:\", mean_value)\n",
    "print(\"Standard Deviation:\", std_value)"
   ]
  },
  {
   "cell_type": "markdown",
   "id": "b5a1b14a-7f33-43ca-9452-a64b911a0398",
   "metadata": {},
   "source": [
    "### Reshaping Arrays"
   ]
  },
  {
   "cell_type": "code",
   "execution_count": 50,
   "id": "efc05770-c22e-4b19-9522-52fa035ce38a",
   "metadata": {},
   "outputs": [
    {
     "name": "stdout",
     "output_type": "stream",
     "text": [
      "Reshaped Array:\n",
      " [[1]\n",
      " [2]\n",
      " [3]]\n"
     ]
    }
   ],
   "source": [
    "reshaped_array = np.reshape(array, (3, 1))\n",
    "print(\"Reshaped Array:\\n\", reshaped_array)"
   ]
  },
  {
   "cell_type": "markdown",
   "id": "84df1d12-4b3d-42e6-bbe5-b75f90cec862",
   "metadata": {},
   "source": [
    "### Finding Maximum and Minimum Values"
   ]
  },
  {
   "cell_type": "code",
   "execution_count": 16,
   "id": "c6272179-3707-4fbe-acd2-ff143d862d0d",
   "metadata": {},
   "outputs": [
    {
     "name": "stdout",
     "output_type": "stream",
     "text": [
      "Index of Max Value: 2\n",
      "Index of Min Value: 0\n"
     ]
    }
   ],
   "source": [
    "max_index = np.argmax(array)\n",
    "min_index = np.argmin(array)\n",
    "print(\"Index of Max Value:\", max_index)\n",
    "print(\"Index of Min Value:\", min_index)"
   ]
  },
  {
   "cell_type": "code",
   "execution_count": 63,
   "id": "2c0f10f0-3134-405c-8704-acd53c69d001",
   "metadata": {},
   "outputs": [
    {
     "name": "stdout",
     "output_type": "stream",
     "text": [
      "Concatenated Array:\n",
      " [[1 2 5 6]\n",
      " [3 4 7 8]]\n"
     ]
    }
   ],
   "source": [
    "concatenated_array = np.concatenate((arr1, arr2), axis=1) # axis=0 means sum by rows. you may want to try sum by columns\n",
    "print(\"Concatenated Array:\\n\", concatenated_array)"
   ]
  },
  {
   "cell_type": "markdown",
   "id": "76dba9fb-c881-41ec-a2e6-724e493da73c",
   "metadata": {},
   "source": [
    "# Part 2"
   ]
  },
  {
   "cell_type": "markdown",
   "id": "31166585-fc3d-492c-b27f-b3add5c441c4",
   "metadata": {},
   "source": [
    "## What is Pandas? https://pandas.pydata.org/\n",
    "\n",
    "Pandas is a powerful Python library for data manipulation and analysis. It provides structures like Series and DataFrame to handle and analyze structured data efficiently. Whether you're cleaning, transforming, or analyzing data, Pandas is an essential tool in data science and machine learning workflows."
   ]
  },
  {
   "cell_type": "markdown",
   "id": "966e375c-c0aa-47d7-a89c-3bb2aa274adb",
   "metadata": {},
   "source": [
    "### Data Loading"
   ]
  },
  {
   "cell_type": "code",
   "execution_count": 68,
   "id": "abf1c7bb-8679-4bac-8b0f-4807ceb00a66",
   "metadata": {},
   "outputs": [
    {
     "name": "stdout",
     "output_type": "stream",
     "text": [
      "Requirement already satisfied: pandas in c:\\users\\4311779\\appdata\\local\\anaconda3\\lib\\site-packages (2.2.2)\n",
      "Requirement already satisfied: numpy>=1.26.0 in c:\\users\\4311779\\appdata\\local\\anaconda3\\lib\\site-packages (from pandas) (1.26.4)\n",
      "Requirement already satisfied: python-dateutil>=2.8.2 in c:\\users\\4311779\\appdata\\local\\anaconda3\\lib\\site-packages (from pandas) (2.9.0.post0)\n",
      "Requirement already satisfied: pytz>=2020.1 in c:\\users\\4311779\\appdata\\local\\anaconda3\\lib\\site-packages (from pandas) (2024.1)\n",
      "Requirement already satisfied: tzdata>=2022.7 in c:\\users\\4311779\\appdata\\local\\anaconda3\\lib\\site-packages (from pandas) (2023.3)\n",
      "Requirement already satisfied: six>=1.5 in c:\\users\\4311779\\appdata\\local\\anaconda3\\lib\\site-packages (from python-dateutil>=2.8.2->pandas) (1.16.0)\n"
     ]
    }
   ],
   "source": [
    "!pip install pandas"
   ]
  },
  {
   "cell_type": "code",
   "execution_count": 70,
   "id": "075b00b4-28b0-4154-8d3c-b2ea141ce49a",
   "metadata": {
    "scrolled": true
   },
   "outputs": [
    {
     "name": "stdout",
     "output_type": "stream",
     "text": [
      "First 5 rows of the dataset:\n",
      "   longitude  latitude  housing_median_age  total_rooms  total_bedrooms  \\\n",
      "0    -122.23     37.88                41.0        880.0           129.0   \n",
      "1    -122.22     37.86                21.0       7099.0          1106.0   \n",
      "2    -122.24     37.85                52.0       1467.0           190.0   \n",
      "3    -122.25     37.85                52.0       1274.0           235.0   \n",
      "4    -122.25     37.85                52.0       1627.0           280.0   \n",
      "\n",
      "   population  households  median_income  median_house_value  \n",
      "0       322.0       126.0         8.3252            452600.0  \n",
      "1      2401.0      1138.0         8.3014            358500.0  \n",
      "2       496.0       177.0         7.2574            352100.0  \n",
      "3       558.0       219.0         5.6431            341300.0  \n",
      "4       565.0       259.0         3.8462            342200.0  \n"
     ]
    }
   ],
   "source": [
    "import pandas as pd\n",
    "\n",
    "df = pd.read_csv('housing.csv')\n",
    "df = df.drop(columns=['ocean_proximity'])\n",
    "\n",
    "#Show first 5 rows, you may want to try tail function\n",
    "print(\"First 5 rows of the dataset:\")\n",
    "print(df.head())"
   ]
  },
  {
   "cell_type": "markdown",
   "id": "b18597a2-42c6-4ba2-9ced-07662c6faa29",
   "metadata": {},
   "source": [
    "### Data Inspecting\n",
    "Before diving into model training, it's important to inspect the dataset to understand its structure, check for missing values, and get basic statistics."
   ]
  },
  {
   "cell_type": "code",
   "execution_count": 73,
   "id": "ee1886dc-ad7f-4814-8ff6-312389f75733",
   "metadata": {
    "scrolled": true
   },
   "outputs": [
    {
     "name": "stdout",
     "output_type": "stream",
     "text": [
      "Shape of the dataset: (20640, 9)\n",
      "\n",
      "Summary of the dataset:\n",
      "<class 'pandas.core.frame.DataFrame'>\n",
      "RangeIndex: 20640 entries, 0 to 20639\n",
      "Data columns (total 9 columns):\n",
      " #   Column              Non-Null Count  Dtype  \n",
      "---  ------              --------------  -----  \n",
      " 0   longitude           20640 non-null  float64\n",
      " 1   latitude            20640 non-null  float64\n",
      " 2   housing_median_age  20640 non-null  float64\n",
      " 3   total_rooms         20640 non-null  float64\n",
      " 4   total_bedrooms      20433 non-null  float64\n",
      " 5   population          20640 non-null  float64\n",
      " 6   households          20640 non-null  float64\n",
      " 7   median_income       20640 non-null  float64\n",
      " 8   median_house_value  20640 non-null  float64\n",
      "dtypes: float64(9)\n",
      "memory usage: 1.4 MB\n",
      "None\n",
      "\n",
      "Descriptive statistics:\n",
      "          longitude      latitude  housing_median_age   total_rooms  \\\n",
      "count  20640.000000  20640.000000        20640.000000  20640.000000   \n",
      "mean    -119.569704     35.631861           28.639486   2635.763081   \n",
      "std        2.003532      2.135952           12.585558   2181.615252   \n",
      "min     -124.350000     32.540000            1.000000      2.000000   \n",
      "25%     -121.800000     33.930000           18.000000   1447.750000   \n",
      "50%     -118.490000     34.260000           29.000000   2127.000000   \n",
      "75%     -118.010000     37.710000           37.000000   3148.000000   \n",
      "max     -114.310000     41.950000           52.000000  39320.000000   \n",
      "\n",
      "       total_bedrooms    population    households  median_income  \\\n",
      "count    20433.000000  20640.000000  20640.000000   20640.000000   \n",
      "mean       537.870553   1425.476744    499.539680       3.870671   \n",
      "std        421.385070   1132.462122    382.329753       1.899822   \n",
      "min          1.000000      3.000000      1.000000       0.499900   \n",
      "25%        296.000000    787.000000    280.000000       2.563400   \n",
      "50%        435.000000   1166.000000    409.000000       3.534800   \n",
      "75%        647.000000   1725.000000    605.000000       4.743250   \n",
      "max       6445.000000  35682.000000   6082.000000      15.000100   \n",
      "\n",
      "       median_house_value  \n",
      "count        20640.000000  \n",
      "mean        206855.816909  \n",
      "std         115395.615874  \n",
      "min          14999.000000  \n",
      "25%         119600.000000  \n",
      "50%         179700.000000  \n",
      "75%         264725.000000  \n",
      "max         500001.000000  \n"
     ]
    }
   ],
   "source": [
    "print(\"Shape of the dataset:\", df.shape)\n",
    "\n",
    "\n",
    "print(\"\\nSummary of the dataset:\")\n",
    "print(df.info())\n",
    "\n",
    "\n",
    "print(\"\\nDescriptive statistics:\")\n",
    "print(df.describe())"
   ]
  },
  {
   "cell_type": "markdown",
   "id": "4c52e374-f73b-48f7-b8e1-4d266fbb1f38",
   "metadata": {},
   "source": [
    "### Check missing values if any"
   ]
  },
  {
   "cell_type": "code",
   "execution_count": 76,
   "id": "d3564c60-1520-421d-a1c0-a904b06b7edc",
   "metadata": {},
   "outputs": [
    {
     "name": "stdout",
     "output_type": "stream",
     "text": [
      "longitude               0\n",
      "latitude                0\n",
      "housing_median_age      0\n",
      "total_rooms             0\n",
      "total_bedrooms        207\n",
      "population              0\n",
      "households              0\n",
      "median_income           0\n",
      "median_house_value      0\n",
      "dtype: int64\n"
     ]
    }
   ],
   "source": [
    "missing_values = df.isnull().sum()\n",
    "print(missing_values)"
   ]
  },
  {
   "cell_type": "markdown",
   "id": "7b146b9d-78c1-488f-b2c0-5d4a3c5ff629",
   "metadata": {},
   "source": [
    "### Handling Missing Data\n",
    "dealing with missing values either by drop or fill them"
   ]
  },
  {
   "cell_type": "code",
   "execution_count": 79,
   "id": "b1a04452-8445-472a-9b37-4ef3738cbf51",
   "metadata": {},
   "outputs": [],
   "source": [
    "# Drop\n",
    "# df_cleaned = df.dropna()\n",
    "\n",
    "# Fill\n",
    "df_filled = df.fillna(df.mean())"
   ]
  },
  {
   "cell_type": "code",
   "execution_count": 81,
   "id": "0f67268d-c78e-4ecb-8ade-ea62a6f3ce2c",
   "metadata": {},
   "outputs": [
    {
     "name": "stdout",
     "output_type": "stream",
     "text": [
      "longitude             0\n",
      "latitude              0\n",
      "housing_median_age    0\n",
      "total_rooms           0\n",
      "total_bedrooms        0\n",
      "population            0\n",
      "households            0\n",
      "median_income         0\n",
      "median_house_value    0\n",
      "dtype: int64\n"
     ]
    }
   ],
   "source": [
    "missing_values = df_filled.isnull().sum()\n",
    "print(missing_values)"
   ]
  },
  {
   "cell_type": "markdown",
   "id": "0f0af4f0-3122-4355-86ff-29bc9b74f6fd",
   "metadata": {},
   "source": [
    "### Feature Engineering"
   ]
  },
  {
   "cell_type": "code",
   "execution_count": 109,
   "id": "bbc08dc5-d1dc-4980-b4d2-38022663f6b8",
   "metadata": {},
   "outputs": [
    {
     "name": "stdout",
     "output_type": "stream",
     "text": [
      "   total_rooms  households  rooms_per_household\n",
      "0        880.0       126.0             6.984127\n",
      "1       7099.0      1138.0             6.238137\n",
      "2       1467.0       177.0             8.288136\n",
      "3       1274.0       219.0             5.817352\n",
      "4       1627.0       259.0             6.281853\n"
     ]
    }
   ],
   "source": [
    "df['rooms_per_household'] = df['total_rooms'] / df['households']\n",
    "print(df[['total_rooms', 'households', 'rooms_per_household']].head())"
   ]
  },
  {
   "cell_type": "markdown",
   "id": "7cf9b752-d7d7-42dd-b822-af843adba314",
   "metadata": {},
   "source": [
    "### Change data type"
   ]
  },
  {
   "cell_type": "code",
   "execution_count": 112,
   "id": "48b860df-f6a1-4487-add9-c004d2d3f6a1",
   "metadata": {},
   "outputs": [
    {
     "name": "stdout",
     "output_type": "stream",
     "text": [
      "Datatype of total rooms feature: float64\n",
      "Datatype of total rooms feature after converting: string\n"
     ]
    }
   ],
   "source": [
    "print('Datatype of total rooms feature:',df['total_rooms'].dtype)\n",
    "\n",
    "df['total_rooms'] = df['total_rooms'].astype('string')\n",
    "print('Datatype of total rooms feature after converting:',df['total_rooms'].dtype)"
   ]
  },
  {
   "cell_type": "markdown",
   "id": "cbf729ad-3e26-424e-86b8-67a4b6d6b6aa",
   "metadata": {},
   "source": [
    "# Part 3"
   ]
  },
  {
   "cell_type": "markdown",
   "id": "199f65d7-d3cd-45d2-8117-23548ecb06a1",
   "metadata": {},
   "source": [
    "### What is Matplotlib? https://matplotlib.org/\n",
    "\n",
    "Matplotlib is a Python library for creating visualizations. It helps generate a variety of plots, from simple line graphs to complex 3D plots. Essential in data science and machine learning, Matplotlib enables you to visualize patterns and insights within your data."
   ]
  },
  {
   "cell_type": "code",
   "execution_count": null,
   "id": "0b7aa7b2-0b7a-4bea-9a41-0efe855f5ae7",
   "metadata": {},
   "outputs": [],
   "source": [
    "pip install scikit-learn"
   ]
  },
  {
   "cell_type": "markdown",
   "id": "05ebad37-9bde-40f6-9af3-2d7e91b88452",
   "metadata": {},
   "source": [
    "### Display the Relation Between Features"
   ]
  },
  {
   "cell_type": "code",
   "execution_count": 143,
   "id": "c0f3b627-06f6-482c-9474-2e5c6e1700fb",
   "metadata": {},
   "outputs": [
    {
     "data": {
      "image/png": "[encoded data removed]",
      "text/plain": [
       "<Figure size 640x480 with 1 Axes>"
      ]
     },
     "metadata": {},
     "output_type": "display_data"
    }
   ],
   "source": [
    "import numpy as np\n",
    "import matplotlib.pyplot as plt\n",
    "\n",
    "x = np.array([1, 2, 3, 4, 5, 6, 7, 8, 9, 10])\n",
    "y = 2 * x + 3 + np.random.normal(0, 1, len(x)) # add some noise\n",
    "\n",
    "plt.plot(x, y, label='Data points')\n",
    "\n",
    "plt.xlabel('X')\n",
    "plt.ylabel('Y')\n",
    "plt.title('Relationship Between X and Y')\n",
    "\n",
    "# Display the plot\n",
    "plt.show()\n"
   ]
  },
  {
   "cell_type": "markdown",
   "id": "3470d946-98bf-494d-8ca4-cf627dea610a",
   "metadata": {},
   "source": [
    "### Data Representation Using Bar Plot"
   ]
  },
  {
   "cell_type": "code",
   "execution_count": 146,
   "id": "6c580a52-9044-4031-a494-75bf20de8508",
   "metadata": {},
   "outputs": [
    {
     "data": {
      "image/png": "[encoded data removed]",
      "text/plain": [
       "<Figure size 640x480 with 1 Axes>"
      ]
     },
     "metadata": {},
     "output_type": "display_data"
    }
   ],
   "source": [
    "categories = ['Category A', 'Category B', 'Category C']\n",
    "values = [10, 30, 20]\n",
    "\n",
    "# Creating a bar plot\n",
    "plt.bar(categories, values)\n",
    "\n",
    "plt.xlabel('Categories')\n",
    "plt.ylabel('Values')\n",
    "plt.title('Bar Plot')\n",
    "\n",
    "# Display the plot\n",
    "plt.show()\n"
   ]
  },
  {
   "cell_type": "markdown",
   "id": "2b96f2df-432c-4761-aefc-8b7a6ee8c221",
   "metadata": {},
   "source": [
    "### Subplots\n"
   ]
  },
  {
   "cell_type": "code",
   "execution_count": 156,
   "id": "399eca04-1088-4e76-acfb-4b75c81413ea",
   "metadata": {},
   "outputs": [
    {
     "data": {
      "image/png": "[encoded data removed]",
      "text/plain": [
       "<Figure size 640x480 with 1 Axes>"
      ]
     },
     "metadata": {},
     "output_type": "display_data"
    }
   ],
   "source": [
    "x = [1, 2, 3, 4, 5]\n",
    "y1 = [1, 4, 9, 16, 25]\n",
    "y2 = [2, 3, 5, 7, 11]\n",
    "\n",
    "# Creating subplots\n",
    "plt.subplot(1, 2, 2) # row, col ,index\n",
    "plt.plot(x, y1)\n",
    "plt.title('Square Numbers')\n",
    "\n",
    "plt.subplot(1, 2, 2)\n",
    "plt.plot(x, y2)\n",
    "plt.title('Prime Numbers')\n",
    "\n",
    "plt.show()"
   ]
  },
  {
   "cell_type": "markdown",
   "id": "ad8097ef-25df-4009-ba32-2d5df11a5bd8",
   "metadata": {},
   "source": [
    "### Data Representation Using Histogram"
   ]
  },
  {
   "cell_type": "code",
   "execution_count": 162,
   "id": "971f7817-74b2-4d29-adc7-9b30d71f136b",
   "metadata": {},
   "outputs": [
    {
     "data": {
      "image/png": "[encoded data removed]",
      "text/plain": [
       "<Figure size 640x480 with 1 Axes>"
      ]
     },
     "metadata": {},
     "output_type": "display_data"
    }
   ],
   "source": [
    "data = [22, 87, 5, 43, 56, 73, 55, 54, 11, 20, 51, 5, 79, 31, 27]\n",
    "\n",
    "# Creating a histogram\n",
    "plt.hist(data, bins=6)\n",
    "\n",
    "plt.xlabel('Value')\n",
    "plt.ylabel('Frequency')\n",
    "plt.title('Histogram')\n",
    "\n",
    "plt.show()\n"
   ]
  },
  {
   "cell_type": "markdown",
   "id": "6e58e706-56f2-4b79-88d2-2227fc8f4e61",
   "metadata": {},
   "source": [
    "### Displaying Diffusion Matrix"
   ]
  },
  {
   "cell_type": "code",
   "execution_count": 168,
   "id": "a1daf4a2-cbbe-44ad-b24a-6488714b19f6",
   "metadata": {},
   "outputs": [
    {
     "data": {
      "image/png": "[encoded data removed]",
      "text/plain": [
       "<Figure size 640x480 with 2 Axes>"
      ]
     },
     "metadata": {},
     "output_type": "display_data"
    }
   ],
   "source": [
    "from sklearn.metrics import confusion_matrix\n",
    "import numpy as np\n",
    "import matplotlib.pyplot as plt\n",
    "# Some random values\n",
    "actual = [0, 1, 0, 1, 0, 1, 0, 0, 1, 1]\n",
    "predicted = [0, 0, 0, 1, 0, 1, 1, 0, 1, 1]\n",
    "\n",
    "# create confusion matrix\n",
    "cm = confusion_matrix(actual, predicted)\n",
    "\n",
    "# Plotting the confusion matrix\n",
    "plt.imshow(cm, cmap=plt.cm.Blues)\n",
    "plt.title('Confusion Matrix')\n",
    "plt.colorbar()\n",
    "tick_marks = np.arange(3)\n",
    "plt.xticks(tick_marks, ['Class 0', 'Class 1',\"Class 2\"])\n",
    "plt.yticks(tick_marks, ['Class 0', 'Class 1', \"Class 2\"])\n",
    "\n",
    "plt.ylabel('Actual')\n",
    "plt.xlabel('Predicted')\n",
    "plt.show()\n"
   ]
  },
  {
   "cell_type": "markdown",
   "id": "8af05f1c-2f44-468b-af51-913d22ff8d5b",
   "metadata": {},
   "source": [
    "# Exercises\n",
    "## Now that you have learned some basic functions, try solving the following exercises:"
   ]
  },
  {
   "cell_type": "markdown",
   "id": "e3e6465e-c7d4-4387-ba1e-93f526be3349",
   "metadata": {},
   "source": [
    "## Exercise 1"
   ]
  },
  {
   "cell_type": "markdown",
   "id": "308a9031-ece7-4ea4-a992-50e919574f13",
   "metadata": {},
   "source": [
    "### 1.1 Create an Array:\n",
    "Create a 2-dimensional array with shape (4, 4) containing numbers from 1 to 16."
   ]
  },
  {
   "cell_type": "code",
   "execution_count": 91,
   "id": "80624122-e249-4cdd-b96a-a89cd24b93eb",
   "metadata": {},
   "outputs": [
    {
     "name": "stdout",
     "output_type": "stream",
     "text": [
      "[[ 1  2  3  4]\n",
      " [ 5  6  7  8]\n",
      " [ 9 10 11 12]\n",
      " [13 14 15 16]]\n"
     ]
    }
   ],
   "source": [
    "#TODO\n",
    "TwoD_array = np.array([[1,2,3,4],[5,6,7,8],[9,10,11,12],[13,14,15,16]])\n",
    "print(TwoD_array)"
   ]
  },
  {
   "cell_type": "markdown",
   "id": "4b788b3f-a9b0-4a75-ae0d-fcc24fdaf6ac",
   "metadata": {},
   "source": [
    "### 1.2 Reshape Array from Exercise 1.1 into 1D"
   ]
  },
  {
   "cell_type": "code",
   "execution_count": 97,
   "id": "7f840dc9-bd7f-4b7b-9ce4-f29c69dc0886",
   "metadata": {},
   "outputs": [
    {
     "name": "stdout",
     "output_type": "stream",
     "text": [
      "[[ 1  2  3  4  5  6  7  8  9 10 11 12 13 14 15 16]]\n"
     ]
    }
   ],
   "source": [
    "#TODO\n",
    "new_1d_array = np.reshape(TwoD_array,(1,16))\n",
    "print(new_1d_array)"
   ]
  },
  {
   "cell_type": "markdown",
   "id": "a66db98c-fd14-4851-823a-b02c89441819",
   "metadata": {},
   "source": [
    "### 1.3 Random Matrix:\n",
    "Generate a 5x5 matrix with random values drawn from a standard normal distribution.\n",
    "\n"
   ]
  },
  {
   "cell_type": "code",
   "execution_count": 101,
   "id": "981b53ad-58c5-4a2a-ac5c-065fad612462",
   "metadata": {},
   "outputs": [
    {
     "name": "stdout",
     "output_type": "stream",
     "text": [
      "[[ 1.67257503 -0.1405771   1.4667227  -0.21912485 -0.02615752]\n",
      " [ 0.85992368 -0.69488059 -0.9532064  -0.36516023 -0.38931672]\n",
      " [ 1.04426972  1.37599917 -1.18711719  0.33368107  1.25906675]\n",
      " [-1.31890136 -1.01909679 -0.22210626 -0.05562864 -1.34278408]\n",
      " [-1.98706833  0.77279929  0.56144105 -0.1126869  -0.49247005]]\n"
     ]
    }
   ],
   "source": [
    "#TODO\n",
    "random_matrix = np.random.randn(5,5)\n",
    "print(random_matrix)"
   ]
  },
  {
   "cell_type": "markdown",
   "id": "396e81a8-277a-49ac-a1b9-f9389d8dd6c9",
   "metadata": {},
   "source": [
    "### 1.4 Matrix Multiplication:\n",
    "Multiply two matrices: [[1, 0], [0, 1]] and [[2, 3], [4, 5]], and find the resultant matrix.\n",
    "\n"
   ]
  },
  {
   "cell_type": "code",
   "execution_count": 105,
   "id": "d4035be9-5bc6-447e-bb55-c01f54ccbb55",
   "metadata": {},
   "outputs": [
    {
     "name": "stdout",
     "output_type": "stream",
     "text": [
      "[[2 3]\n",
      " [4 5]]\n"
     ]
    }
   ],
   "source": [
    "#TODO\n",
    "arr1 = np.array([[1,0],[0,1]])\n",
    "arr2 = np.array([[2,3],[4,5]])\n",
    "print(np.dot(arr1,arr2))"
   ]
  },
  {
   "cell_type": "markdown",
   "id": "415b8739-3d2e-4f2c-9b98-072d63aadb52",
   "metadata": {},
   "source": [
    "### 1.5 Sorting\n",
    "Create an array with random numbers then sort them up"
   ]
  },
  {
   "cell_type": "code",
   "execution_count": 107,
   "id": "264868a8-7bc0-4cde-a376-5455adae9095",
   "metadata": {},
   "outputs": [
    {
     "name": "stdout",
     "output_type": "stream",
     "text": [
      "Unsorted:\n",
      " [[0 8 7 8 2 5 5]]\n",
      "\n",
      "Sorted:\n",
      " [[0 2 5 5 7 8 8]]\n"
     ]
    }
   ],
   "source": [
    "#TODO\n",
    "array = np.random.randint(low = 0,high = 9, size = (1,7))\n",
    "print(\"Unsorted:\\n\",array)\n",
    "print()\n",
    "sorted = np.sort(array)\n",
    "print(\"Sorted:\\n\",sorted)"
   ]
  },
  {
   "cell_type": "markdown",
   "id": "e12f14cc-ed15-4563-84b3-5277f22de010",
   "metadata": {},
   "source": [
    "## Exercise 2"
   ]
  },
  {
   "cell_type": "markdown",
   "id": "e9979a53-c425-46fc-856b-416cdff2d453",
   "metadata": {},
   "source": [
    "### 2.1 Display rows from 10-15 from housing dataset"
   ]
  },
  {
   "cell_type": "code",
   "execution_count": 126,
   "id": "ae9b3672-38e2-430f-9b03-7bfed232ca8f",
   "metadata": {},
   "outputs": [
    {
     "name": "stdout",
     "output_type": "stream",
     "text": [
      "    longitude  latitude  housing_median_age total_rooms  total_bedrooms  \\\n",
      "10    -122.26     37.85                52.0      2202.0           434.0   \n",
      "11    -122.26     37.85                52.0      3503.0           752.0   \n",
      "12    -122.26     37.85                52.0      2491.0           474.0   \n",
      "13    -122.26     37.84                52.0       696.0           191.0   \n",
      "14    -122.26     37.85                52.0      2643.0           626.0   \n",
      "15    -122.26     37.85                50.0      1120.0           283.0   \n",
      "\n",
      "    population  households  median_income  median_house_value  \\\n",
      "10       910.0       402.0         3.2031            281500.0   \n",
      "11      1504.0       734.0         3.2705            241800.0   \n",
      "12      1098.0       468.0         3.0750            213500.0   \n",
      "13       345.0       174.0         2.6736            191300.0   \n",
      "14      1212.0       620.0         1.9167            159200.0   \n",
      "15       697.0       264.0         2.1250            140000.0   \n",
      "\n",
      "    rooms_per_household  \n",
      "10             5.477612  \n",
      "11             4.772480  \n",
      "12             5.322650  \n",
      "13             4.000000  \n",
      "14             4.262903  \n",
      "15             4.242424  \n"
     ]
    }
   ],
   "source": [
    "#TODO\n",
    "print(df[10:16])"
   ]
  },
  {
   "cell_type": "markdown",
   "id": "c5aec616-2373-4e61-ab8b-0c4aed92facb",
   "metadata": {},
   "source": [
    "### 2.2 Select and display the total_rooms and median_income columns."
   ]
  },
  {
   "cell_type": "code",
   "execution_count": 170,
   "id": "886dfbbb-0419-46a5-b44f-b248670fcf65",
   "metadata": {},
   "outputs": [
    {
     "name": "stdout",
     "output_type": "stream",
     "text": [
      "0         880.0\n",
      "1        7099.0\n",
      "2        1467.0\n",
      "3        1274.0\n",
      "4        1627.0\n",
      "          ...  \n",
      "20635    1665.0\n",
      "20636     697.0\n",
      "20637    2254.0\n",
      "20638    1860.0\n",
      "20639    2785.0\n",
      "Name: total_rooms, Length: 20640, dtype: string\n",
      "\n",
      "0        8.3252\n",
      "1        8.3014\n",
      "2        7.2574\n",
      "3        5.6431\n",
      "4        3.8462\n",
      "          ...  \n",
      "20635    1.5603\n",
      "20636    2.5568\n",
      "20637    1.7000\n",
      "20638    1.8672\n",
      "20639    2.3886\n",
      "Name: median_income, Length: 20640, dtype: float64\n"
     ]
    }
   ],
   "source": [
    "#TODO\n",
    "colRooms = df[\"total_rooms\"]\n",
    "colIncome = df[\"median_income\"]\n",
    "print(colRooms)\n",
    "print()\n",
    "print(colIncome)"
   ]
  },
  {
   "cell_type": "markdown",
   "id": "032c9a93-84c1-4136-a8e8-63e2f1e19d12",
   "metadata": {},
   "source": [
    "\n",
    "### 2.3 Fill missing values in the total_bedrooms column with the median of that column."
   ]
  },
  {
   "cell_type": "code",
   "execution_count": 203,
   "id": "e2963840-d8ea-4f6e-af35-ce6c192f25e4",
   "metadata": {},
   "outputs": [
    {
     "name": "stdout",
     "output_type": "stream",
     "text": [
      "Before:\n",
      "\n",
      "longitude               0\n",
      "latitude                0\n",
      "housing_median_age      0\n",
      "total_rooms             0\n",
      "total_bedrooms        207\n",
      "population              0\n",
      "households              0\n",
      "median_income           0\n",
      "median_house_value      0\n",
      "dtype: int64\n",
      "\n",
      "After:\n",
      "\n",
      "   longitude  latitude  housing_median_age  total_rooms  total_bedrooms  \\\n",
      "0    -122.23     37.88                41.0        880.0           129.0   \n",
      "1    -122.22     37.86                21.0       7099.0          1106.0   \n",
      "2    -122.24     37.85                52.0       1467.0           190.0   \n",
      "3    -122.25     37.85                52.0       1274.0           235.0   \n",
      "4    -122.25     37.85                52.0       1627.0           280.0   \n",
      "\n",
      "   population  households  median_income  median_house_value  \n",
      "0       322.0       126.0         8.3252            452600.0  \n",
      "1      2401.0      1138.0         8.3014            358500.0  \n",
      "2       496.0       177.0         7.2574            352100.0  \n",
      "3       558.0       219.0         5.6431            341300.0  \n",
      "4       565.0       259.0         3.8462            342200.0  \n",
      "longitude             0\n",
      "latitude              0\n",
      "housing_median_age    0\n",
      "total_rooms           0\n",
      "total_bedrooms        0\n",
      "population            0\n",
      "households            0\n",
      "median_income         0\n",
      "median_house_value    0\n",
      "dtype: int64\n"
     ]
    }
   ],
   "source": [
    "df = pd.read_csv('housing.csv')\n",
    "df = df.drop(columns=['ocean_proximity'])\n",
    "\n",
    "#TODO\n",
    "print(\"Before:\\n\")\n",
    "print(df.isnull().sum())\n",
    "print(\"\\nAfter:\\n\")\n",
    "df_filled = df.fillna(df.mean())\n",
    "print(df.head())\n",
    "print(df_filled.isnull().sum())\n"
   ]
  },
  {
   "cell_type": "markdown",
   "id": "5a84bd09-a5c7-4ebf-b94d-52d5fe4f9d87",
   "metadata": {},
   "source": [
    "### 2.4 Drop a column of your choice"
   ]
  },
  {
   "cell_type": "code",
   "execution_count": 205,
   "id": "f8f7062c-bccf-44e8-936d-1db8954b64cd",
   "metadata": {},
   "outputs": [
    {
     "data": {
      "text/html": [
       "<div>\n",
       "<style scoped>\n",
       "    .dataframe tbody tr th:only-of-type {\n",
       "        vertical-align: middle;\n",
       "    }\n",
       "\n",
       "    .dataframe tbody tr th {\n",
       "        vertical-align: top;\n",
       "    }\n",
       "\n",
       "    .dataframe thead th {\n",
       "        text-align: right;\n",
       "    }\n",
       "</style>\n",
       "<table border=\"1\" class=\"dataframe\">\n",
       "  <thead>\n",
       "    <tr style=\"text-align: right;\">\n",
       "      <th></th>\n",
       "      <th>longitude</th>\n",
       "      <th>latitude</th>\n",
       "      <th>housing_median_age</th>\n",
       "      <th>total_rooms</th>\n",
       "      <th>total_bedrooms</th>\n",
       "      <th>households</th>\n",
       "      <th>median_income</th>\n",
       "      <th>median_house_value</th>\n",
       "    </tr>\n",
       "  </thead>\n",
       "  <tbody>\n",
       "    <tr>\n",
       "      <th>0</th>\n",
       "      <td>-122.23</td>\n",
       "      <td>37.88</td>\n",
       "      <td>41.0</td>\n",
       "      <td>880.0</td>\n",
       "      <td>129.0</td>\n",
       "      <td>126.0</td>\n",
       "      <td>8.3252</td>\n",
       "      <td>452600.0</td>\n",
       "    </tr>\n",
       "    <tr>\n",
       "      <th>1</th>\n",
       "      <td>-122.22</td>\n",
       "      <td>37.86</td>\n",
       "      <td>21.0</td>\n",
       "      <td>7099.0</td>\n",
       "      <td>1106.0</td>\n",
       "      <td>1138.0</td>\n",
       "      <td>8.3014</td>\n",
       "      <td>358500.0</td>\n",
       "    </tr>\n",
       "    <tr>\n",
       "      <th>2</th>\n",
       "      <td>-122.24</td>\n",
       "      <td>37.85</td>\n",
       "      <td>52.0</td>\n",
       "      <td>1467.0</td>\n",
       "      <td>190.0</td>\n",
       "      <td>177.0</td>\n",
       "      <td>7.2574</td>\n",
       "      <td>352100.0</td>\n",
       "    </tr>\n",
       "    <tr>\n",
       "      <th>3</th>\n",
       "      <td>-122.25</td>\n",
       "      <td>37.85</td>\n",
       "      <td>52.0</td>\n",
       "      <td>1274.0</td>\n",
       "      <td>235.0</td>\n",
       "      <td>219.0</td>\n",
       "      <td>5.6431</td>\n",
       "      <td>341300.0</td>\n",
       "    </tr>\n",
       "    <tr>\n",
       "      <th>4</th>\n",
       "      <td>-122.25</td>\n",
       "      <td>37.85</td>\n",
       "      <td>52.0</td>\n",
       "      <td>1627.0</td>\n",
       "      <td>280.0</td>\n",
       "      <td>259.0</td>\n",
       "      <td>3.8462</td>\n",
       "      <td>342200.0</td>\n",
       "    </tr>\n",
       "  </tbody>\n",
       "</table>\n",
       "</div>"
      ],
      "text/plain": [
       "   longitude  latitude  housing_median_age  total_rooms  total_bedrooms  \\\n",
       "0    -122.23     37.88                41.0        880.0           129.0   \n",
       "1    -122.22     37.86                21.0       7099.0          1106.0   \n",
       "2    -122.24     37.85                52.0       1467.0           190.0   \n",
       "3    -122.25     37.85                52.0       1274.0           235.0   \n",
       "4    -122.25     37.85                52.0       1627.0           280.0   \n",
       "\n",
       "   households  median_income  median_house_value  \n",
       "0       126.0         8.3252            452600.0  \n",
       "1      1138.0         8.3014            358500.0  \n",
       "2       177.0         7.2574            352100.0  \n",
       "3       219.0         5.6431            341300.0  \n",
       "4       259.0         3.8462            342200.0  "
      ]
     },
     "execution_count": 205,
     "metadata": {},
     "output_type": "execute_result"
    }
   ],
   "source": [
    "#TODO\n",
    "df = df.drop(columns = [\"population\"])\n",
    "df.head()"
   ]
  },
  {
   "cell_type": "markdown",
   "id": "0544135e-17e5-45bb-b47e-f8cfe3ba2542",
   "metadata": {},
   "source": [
    "### 2.5 Create a New Feature using Feature Engineering Technique "
   ]
  },
  {
   "cell_type": "code",
   "execution_count": 207,
   "id": "c05eb793-0c61-43e4-a734-d47df6c57e38",
   "metadata": {},
   "outputs": [
    {
     "data": {
      "text/html": [
       "<div>\n",
       "<style scoped>\n",
       "    .dataframe tbody tr th:only-of-type {\n",
       "        vertical-align: middle;\n",
       "    }\n",
       "\n",
       "    .dataframe tbody tr th {\n",
       "        vertical-align: top;\n",
       "    }\n",
       "\n",
       "    .dataframe thead th {\n",
       "        text-align: right;\n",
       "    }\n",
       "</style>\n",
       "<table border=\"1\" class=\"dataframe\">\n",
       "  <thead>\n",
       "    <tr style=\"text-align: right;\">\n",
       "      <th></th>\n",
       "      <th>longitude</th>\n",
       "      <th>latitude</th>\n",
       "      <th>housing_median_age</th>\n",
       "      <th>total_rooms</th>\n",
       "      <th>total_bedrooms</th>\n",
       "      <th>households</th>\n",
       "      <th>median_income</th>\n",
       "      <th>median_house_value</th>\n",
       "      <th>long_times_lat</th>\n",
       "    </tr>\n",
       "  </thead>\n",
       "  <tbody>\n",
       "    <tr>\n",
       "      <th>0</th>\n",
       "      <td>-122.23</td>\n",
       "      <td>37.88</td>\n",
       "      <td>41.0</td>\n",
       "      <td>880.0</td>\n",
       "      <td>129.0</td>\n",
       "      <td>126.0</td>\n",
       "      <td>8.3252</td>\n",
       "      <td>452600.0</td>\n",
       "      <td>-4630.0724</td>\n",
       "    </tr>\n",
       "    <tr>\n",
       "      <th>1</th>\n",
       "      <td>-122.22</td>\n",
       "      <td>37.86</td>\n",
       "      <td>21.0</td>\n",
       "      <td>7099.0</td>\n",
       "      <td>1106.0</td>\n",
       "      <td>1138.0</td>\n",
       "      <td>8.3014</td>\n",
       "      <td>358500.0</td>\n",
       "      <td>-4627.2492</td>\n",
       "    </tr>\n",
       "    <tr>\n",
       "      <th>2</th>\n",
       "      <td>-122.24</td>\n",
       "      <td>37.85</td>\n",
       "      <td>52.0</td>\n",
       "      <td>1467.0</td>\n",
       "      <td>190.0</td>\n",
       "      <td>177.0</td>\n",
       "      <td>7.2574</td>\n",
       "      <td>352100.0</td>\n",
       "      <td>-4626.7840</td>\n",
       "    </tr>\n",
       "    <tr>\n",
       "      <th>3</th>\n",
       "      <td>-122.25</td>\n",
       "      <td>37.85</td>\n",
       "      <td>52.0</td>\n",
       "      <td>1274.0</td>\n",
       "      <td>235.0</td>\n",
       "      <td>219.0</td>\n",
       "      <td>5.6431</td>\n",
       "      <td>341300.0</td>\n",
       "      <td>-4627.1625</td>\n",
       "    </tr>\n",
       "    <tr>\n",
       "      <th>4</th>\n",
       "      <td>-122.25</td>\n",
       "      <td>37.85</td>\n",
       "      <td>52.0</td>\n",
       "      <td>1627.0</td>\n",
       "      <td>280.0</td>\n",
       "      <td>259.0</td>\n",
       "      <td>3.8462</td>\n",
       "      <td>342200.0</td>\n",
       "      <td>-4627.1625</td>\n",
       "    </tr>\n",
       "  </tbody>\n",
       "</table>\n",
       "</div>"
      ],
      "text/plain": [
       "   longitude  latitude  housing_median_age  total_rooms  total_bedrooms  \\\n",
       "0    -122.23     37.88                41.0        880.0           129.0   \n",
       "1    -122.22     37.86                21.0       7099.0          1106.0   \n",
       "2    -122.24     37.85                52.0       1467.0           190.0   \n",
       "3    -122.25     37.85                52.0       1274.0           235.0   \n",
       "4    -122.25     37.85                52.0       1627.0           280.0   \n",
       "\n",
       "   households  median_income  median_house_value  long_times_lat  \n",
       "0       126.0         8.3252            452600.0      -4630.0724  \n",
       "1      1138.0         8.3014            358500.0      -4627.2492  \n",
       "2       177.0         7.2574            352100.0      -4626.7840  \n",
       "3       219.0         5.6431            341300.0      -4627.1625  \n",
       "4       259.0         3.8462            342200.0      -4627.1625  "
      ]
     },
     "execution_count": 207,
     "metadata": {},
     "output_type": "execute_result"
    }
   ],
   "source": [
    "#TODO\n",
    "df[\"long_times_lat\"] = df[\"longitude\"] * df[\"latitude\"]\n",
    "df.head()"
   ]
  },
  {
   "cell_type": "markdown",
   "id": "0102b84f-e842-40c7-aad5-c221584b213e",
   "metadata": {},
   "source": [
    "## Excercise 3"
   ]
  },
  {
   "cell_type": "markdown",
   "id": "2df4e099-ef63-4384-b2af-994562abdf49",
   "metadata": {},
   "source": [
    "### 3.1 Line Plot\n",
    "Create a Line Plot of Squared Function for x Values Ranging from 10 to -10"
   ]
  },
  {
   "cell_type": "code",
   "execution_count": 213,
   "id": "bc551d3b-079e-4230-91d4-d27606aac73e",
   "metadata": {},
   "outputs": [
    {
     "data": {
      "image/png": "[encoded data removed]",
      "text/plain": [
       "<Figure size 640x480 with 1 Axes>"
      ]
     },
     "metadata": {},
     "output_type": "display_data"
    }
   ],
   "source": [
    "#TODO\n",
    "x = np.array([-10,-9,-8,-7,-6,-5,-4,-3,-2,-1,0,1,2,3,4,5,6,7,8,9,10])\n",
    "y = x*x\n",
    "\n",
    "plt.plot(x,y)\n",
    "plt.xlabel(\"X values\")\n",
    "plt.ylabel(\"Y values\")\n",
    "plt.title('Relationship Between X and Y')\n",
    "\n",
    "plt.show()"
   ]
  },
  {
   "cell_type": "markdown",
   "id": "cc09f0c7-5703-4491-80ba-433d7301d024",
   "metadata": {},
   "source": [
    "### 3.2 Scatter Plot with Some Customization\n",
    "Create scatter plot and change the color, size, and transparency of the points."
   ]
  },
  {
   "cell_type": "code",
   "execution_count": 235,
   "id": "542f4473-3707-46ff-a860-ae8117049b22",
   "metadata": {},
   "outputs": [
    {
     "name": "stdout",
     "output_type": "stream",
     "text": [
      "[[7 1 5 9 0 4 1 5 5 6]]\n",
      "[[5 3 0 1 4 9 6 0 5 0]]\n"
     ]
    },
    {
     "data": {
      "image/png": "[encoded data removed]",
      "text/plain": [
       "<Figure size 640x480 with 1 Axes>"
      ]
     },
     "metadata": {},
     "output_type": "display_data"
    }
   ],
   "source": [
    "#TODO\n",
    "x1 = np.random.randint(low = 0,high = 10,size = (1,10))\n",
    "x2 = np.random.randint(low = 0,high = 10,size = (1,10))\n",
    "print(x1)\n",
    "print(x2)\n",
    "\n",
    "plt.scatter(x1,x2,alpha=0.7,s=[10,20,30,40,50,60,70,80,90,100],c=\"red\")\n",
    "plt.show()"
   ]
  },
  {
   "cell_type": "code",
   "execution_count": null,
   "id": "ed3520ca-c0a1-4423-a99e-2cd573a2c1d4",
   "metadata": {},
   "outputs": [],
   "source": []
  }
 ],
 "metadata": {
  "kernelspec": {
   "display_name": "Python 3 (ipykernel)",
   "language": "python",
   "name": "python3"
  },
  "language_info": {
   "codemirror_mode": {
    "name": "ipython",
    "version": 3
   },
   "file_extension": ".py",
   "mimetype": "text/x-python",
   "name": "python",
   "nbconvert_exporter": "python",
   "pygments_lexer": "ipython3",
   "version": "3.12.4"
  }
 },
 "nbformat": 4,
 "nbformat_minor": 5
}
